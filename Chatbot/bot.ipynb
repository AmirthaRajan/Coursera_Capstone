{
 "cells": [
  {
   "cell_type": "code",
   "execution_count": 14,
   "metadata": {},
   "outputs": [],
   "source": [
    "import pandas as pd\r\n",
    "df = pd.read_csv('zomato.csv')"
   ]
  },
  {
   "cell_type": "code",
   "execution_count": 15,
   "metadata": {},
   "outputs": [
    {
     "data": {
      "text/html": "<div>\n<style scoped>\n    .dataframe tbody tr th:only-of-type {\n        vertical-align: middle;\n    }\n\n    .dataframe tbody tr th {\n        vertical-align: top;\n    }\n\n    .dataframe thead th {\n        text-align: right;\n    }\n</style>\n<table border=\"1\" class=\"dataframe\">\n  <thead>\n    <tr style=\"text-align: right;\">\n      <th></th>\n      <th>Restaurant ID</th>\n      <th>Restaurant Name</th>\n      <th>Country Code</th>\n      <th>City</th>\n      <th>Address</th>\n      <th>Locality</th>\n      <th>Locality Verbose</th>\n      <th>Longitude</th>\n      <th>Latitude</th>\n      <th>Cuisines</th>\n      <th>...</th>\n      <th>Currency</th>\n      <th>Has Table booking</th>\n      <th>Has Online delivery</th>\n      <th>Is delivering now</th>\n      <th>Switch to order menu</th>\n      <th>Price range</th>\n      <th>Aggregate rating</th>\n      <th>Rating color</th>\n      <th>Rating text</th>\n      <th>Votes</th>\n    </tr>\n  </thead>\n  <tbody>\n  </tbody>\n</table>\n<p>0 rows × 21 columns</p>\n</div>",
      "text/plain": "Empty DataFrame\nColumns: [Restaurant ID, Restaurant Name, Country Code, City, Address, Locality, Locality Verbose, Longitude, Latitude, Cuisines, Average Cost for two, Currency, Has Table booking, Has Online delivery, Is delivering now, Switch to order menu, Price range, Aggregate rating, Rating color, Rating text, Votes]\nIndex: []\n\n[0 rows x 21 columns]"
     },
     "execution_count": 15,
     "metadata": {},
     "output_type": "execute_result"
    }
   ],
   "source": [
    "df[(df['Average Cost for two'] >= 300) & (df['Average Cost for two'] <= 700) &\\\r\n",
    "    (df['City'].apply(lambda x: 'puducherry'.lower() in x.lower())) &\\\r\n",
    "    (df['Cuisines'].apply(lambda x: 'south indian'.lower() in x.lower()))].sort_values(by='Aggregate rating',ascending=False)"
   ]
  },
  {
   "cell_type": "code",
   "execution_count": 36,
   "metadata": {},
   "outputs": [],
   "source": [
    "WeOperate = pd.Series(['New Delhi', 'Gurgaon', 'Noida', 'Faridabad', 'Allahabad'])"
   ]
  },
  {
   "cell_type": "code",
   "execution_count": 2,
   "metadata": {},
   "outputs": [],
   "source": [
    "import re"
   ]
  },
  {
   "cell_type": "code",
   "execution_count": 16,
   "metadata": {},
   "outputs": [
    {
     "data": {
      "text/plain": "['mumbai']"
     },
     "execution_count": 16,
     "metadata": {},
     "output_type": "execute_result"
    }
   ],
   "source": [
    "re.findall('(?:at)\\s([A-z]+).?$','I am lookkinf gor restaurant at mumbai')"
   ]
  },
  {
   "cell_type": "code",
   "execution_count": 12,
   "metadata": {},
   "outputs": [
    {
     "data": {
      "text/plain": "['I am lookkinf gor restaurant in mumbai']"
     },
     "execution_count": 12,
     "metadata": {},
     "output_type": "execute_result"
    }
   ],
   "source": [
    "re.findall('^.*in\\s[a-z]+.?$','I am lookkinf gor restaurant in mumbai')"
   ]
  },
  {
   "cell_type": "code",
   "execution_count": 2,
   "metadata": {},
   "outputs": [],
   "source": [
    "import re\r\n",
    "a,b = re.findall('([\\d]+)\\s?(?:and|\\-|to)\\s?([\\d]+)','I am lookkinf gor restaurant in price between 300 and 700')[0]"
   ]
  },
  {
   "cell_type": "code",
   "execution_count": 12,
   "metadata": {},
   "outputs": [
    {
     "data": {
      "text/plain": "['< 700']"
     },
     "execution_count": 12,
     "metadata": {},
     "output_type": "execute_result"
    }
   ],
   "source": [
    "re.findall(\"(?:below|lesser|less|\\<|lower).*700\",\"< 700 rs\")"
   ]
  },
  {
   "cell_type": "code",
   "execution_count": null,
   "metadata": {},
   "outputs": [],
   "source": []
  },
  {
   "cell_type": "code",
   "execution_count": 11,
   "metadata": {},
   "outputs": [
    {
     "ename": "NameError",
     "evalue": "name 'nltk' is not defined",
     "output_type": "error",
     "traceback": [
      "\u001b[1;31m---------------------------------------------------------------------------\u001b[0m",
      "\u001b[1;31mNameError\u001b[0m                                 Traceback (most recent call last)",
      "\u001b[1;32m<ipython-input-11-ce54d5f04b71>\u001b[0m in \u001b[0;36m<module>\u001b[1;34m\u001b[0m\n\u001b[1;32m----> 1\u001b[1;33m \u001b[0mnltk\u001b[0m\u001b[1;33m.\u001b[0m\u001b[0mpath\u001b[0m\u001b[1;33m.\u001b[0m\u001b[0mappend\u001b[0m\u001b[1;33m(\u001b[0m\u001b[1;34m'F:/nltk_data/'\u001b[0m\u001b[1;33m)\u001b[0m\u001b[1;33m\u001b[0m\u001b[1;33m\u001b[0m\u001b[0m\n\u001b[0m",
      "\u001b[1;31mNameError\u001b[0m: name 'nltk' is not defined"
     ]
    }
   ],
   "source": []
  },
  {
   "cell_type": "code",
   "execution_count": 4,
   "metadata": {},
   "outputs": [],
   "source": [
    "words = ['playing','cars','flying','singer','higher','slowly']"
   ]
  },
  {
   "cell_type": "code",
   "execution_count": 5,
   "metadata": {},
   "outputs": [
    {
     "data": {
      "text/plain": "['play', 'car', 'fli', 'singer', 'higher', 'slowli']"
     },
     "execution_count": 5,
     "metadata": {},
     "output_type": "execute_result"
    }
   ],
   "source": [
    "from nltk.stem.porter import PorterStemmer\r\n",
    "stemmer = PorterStemmer()\r\n",
    "word_port = [stemmer.stem(word) for word in words]\r\n",
    "word_port"
   ]
  },
  {
   "cell_type": "code",
   "execution_count": 7,
   "metadata": {},
   "outputs": [
    {
     "data": {
      "text/plain": "['play', 'car', 'fli', 'singer', 'higher', 'slowli']"
     },
     "execution_count": 7,
     "metadata": {},
     "output_type": "execute_result"
    }
   ],
   "source": [
    "from nltk.stem.snowball import SnowballStemmer\r\n",
    "stemmer = SnowballStemmer('english')\r\n",
    "word_snow = [stemmer.stem(word) for word in words]\r\n",
    "word_snow"
   ]
  },
  {
   "cell_type": "code",
   "execution_count": 14,
   "metadata": {},
   "outputs": [
    {
     "data": {
      "text/plain": "['playing', 'car', 'flying', 'singer', 'higher', 'slowly']"
     },
     "execution_count": 14,
     "metadata": {},
     "output_type": "execute_result"
    }
   ],
   "source": [
    "import nltk\r\n",
    "from nltk.stem import WordNetLemmatizer\r\n",
    "nltk.data.path.append('F:/nltk_data/')\r\n",
    "lemm = WordNetLemmatizer()\r\n",
    "word_lem = [lemm.lemmatize(word) for word in words]\r\n",
    "word_lem"
   ]
  },
  {
   "cell_type": "code",
   "execution_count": 18,
   "metadata": {},
   "outputs": [
    {
     "data": {
      "text/plain": "'playing cars flying singer higher slowly'"
     },
     "execution_count": 18,
     "metadata": {},
     "output_type": "execute_result"
    }
   ],
   "source": [
    "sent  = \" \".join(words)\r\n",
    "sent"
   ]
  },
  {
   "cell_type": "code",
   "execution_count": 19,
   "metadata": {},
   "outputs": [
    {
     "data": {
      "text/plain": "['playing', 'cars', 'flying', 'singer', 'higher', 'slowly']"
     },
     "execution_count": 19,
     "metadata": {},
     "output_type": "execute_result"
    }
   ],
   "source": [
    "from nltk.tokenize import word_tokenize\r\n",
    "word_tok = word_tokenize(sent)\r\n",
    "word_tok"
   ]
  },
  {
   "cell_type": "code",
   "execution_count": 20,
   "metadata": {},
   "outputs": [
    {
     "data": {
      "text/plain": "['playing cars flying singer higher slowly']"
     },
     "execution_count": 20,
     "metadata": {},
     "output_type": "execute_result"
    }
   ],
   "source": [
    "from nltk.tokenize import sent_tokenize\r\n",
    "sent_tok = sent_tokenize(sent)\r\n",
    "sent_tok"
   ]
  },
  {
   "cell_type": "code",
   "execution_count": 21,
   "metadata": {},
   "outputs": [
    {
     "data": {
      "text/plain": "['playing', 'cars', 'flying', 'singer', 'higher', 'slowly']"
     },
     "execution_count": 21,
     "metadata": {},
     "output_type": "execute_result"
    }
   ],
   "source": [
    "from nltk.tokenize import TweetTokenizer\r\n",
    "sent_tok = TweetTokenizer()\r\n",
    "sent_tok.tokenize(sent)"
   ]
  },
  {
   "cell_type": "code",
   "execution_count": 25,
   "metadata": {},
   "outputs": [
    {
     "name": "stdout",
     "output_type": "stream",
     "text": [
      "[]\n",
      "[]\n",
      "[]\n",
      "[]\n",
      "[]\n",
      "['slowly']\n"
     ]
    }
   ],
   "source": [
    "from nltk.tokenize import regexp_tokenize\r\n",
    "for word in words:\r\n",
    "    print(regexp_tokenize(word,\".*ly$\"))"
   ]
  },
  {
   "cell_type": "code",
   "execution_count": 26,
   "metadata": {},
   "outputs": [],
   "source": [
    "import re"
   ]
  },
  {
   "cell_type": "code",
   "execution_count": 57,
   "metadata": {},
   "outputs": [
    {
     "data": {
      "text/plain": "'300'"
     },
     "execution_count": 57,
     "metadata": {},
     "output_type": "execute_result"
    }
   ],
   "source": [
    "re.findall(\"(?:less than|lesser than|lower than|below).?([\\d]+)\",'get res in price less than 300')[0]"
   ]
  },
  {
   "cell_type": "code",
   "execution_count": 54,
   "metadata": {},
   "outputs": [
    {
     "data": {
      "text/plain": "('300', '700')"
     },
     "execution_count": 54,
     "metadata": {},
     "output_type": "execute_result"
    }
   ],
   "source": [
    "re.findall(\"([\\d]+)\\s?(?:and|-|to)\\s?([\\d]+)\",'get res in range between price 300 and 700')[0price_min_range,price_max_range = price_max_range,price_min_range]"
   ]
  },
  {
   "cell_type": "code",
   "execution_count": 62,
   "metadata": {},
   "outputs": [
    {
     "data": {
      "text/plain": "(300, 1000)"
     },
     "execution_count": 62,
     "metadata": {},
     "output_type": "execute_result"
    }
   ],
   "source": [
    "price_min_range,price_max_range = 1000,300\r\n",
    "if price_min_range > price_max_range:\r\n",
    "    price_min_range,price_max_range = price_max_range,price_min_range\r\n",
    "price_min_range,price_max_range"
   ]
  },
  {
   "cell_type": "code",
   "execution_count": 18,
   "metadata": {},
   "outputs": [
    {
     "data": {
      "text/plain": "300"
     },
     "execution_count": 18,
     "metadata": {},
     "output_type": "execute_result"
    }
   ],
   "source": [
    "int(re.findall(\"[\\d.]+\",\"300\")[0])"
   ]
  },
  {
   "cell_type": "code",
   "execution_count": 22,
   "metadata": {},
   "outputs": [
    {
     "ename": "TypeError",
     "evalue": "'set' object is not subscriptable",
     "output_type": "error",
     "traceback": [
      "\u001b[1;31m---------------------------------------------------------------------------\u001b[0m",
      "\u001b[1;31mTypeError\u001b[0m                                 Traceback (most recent call last)",
      "\u001b[1;32m<ipython-input-22-7c95410786e7>\u001b[0m in \u001b[0;36m<module>\u001b[1;34m\u001b[0m\n\u001b[0;32m      1\u001b[0m \u001b[0mall_loc\u001b[0m \u001b[1;33m=\u001b[0m \u001b[0mset\u001b[0m\u001b[1;33m(\u001b[0m\u001b[1;33m[\u001b[0m\u001b[1;34m\"Ahmedabad\"\u001b[0m\u001b[1;33m,\u001b[0m\u001b[1;34m\"Surat\"\u001b[0m\u001b[1;33m,\u001b[0m\u001b[1;34m\"Pune\"\u001b[0m\u001b[1;33m,\u001b[0m\u001b[1;34m\"Kanpur\"\u001b[0m\u001b[1;33m,\u001b[0m\u001b[1;34m\"Nagpur\"\u001b[0m\u001b[1;33m,\u001b[0m\u001b[1;34m\"Indore\"\u001b[0m\u001b[1;33m,\u001b[0m\u001b[1;34m\"Thane\"\u001b[0m\u001b[1;33m,\u001b[0m\u001b[1;34m\"Coimbatore\"\u001b[0m\u001b[1;33m,\u001b[0m\u001b[1;34m\"Pimpri-Chinchwad\"\u001b[0m\u001b[1;33m,\u001b[0m\u001b[1;34m\"Vadodara\"\u001b[0m\u001b[1;33m,\u001b[0m\u001b[1;34m\"Ghaziabad\"\u001b[0m\u001b[1;33m,\u001b[0m\u001b[1;34m\"Ludhiana\"\u001b[0m\u001b[1;33m,\u001b[0m\u001b[1;34m\"Agra\"\u001b[0m\u001b[1;33m,\u001b[0m\u001b[1;34m\"Nashik\"\u001b[0m\u001b[1;33m,\u001b[0m\u001b[1;34m\"Faridabad\"\u001b[0m\u001b[1;33m,\u001b[0m\u001b[1;34m\"Meerut\"\u001b[0m\u001b[1;33m,\u001b[0m\u001b[1;34m\"Rajkot\"\u001b[0m\u001b[1;33m,\u001b[0m\u001b[1;34m\"Kalyan-Dombivli\"\u001b[0m\u001b[1;33m,\u001b[0m\u001b[1;34m\"Vasai-Virar\"\u001b[0m\u001b[1;33m,\u001b[0m\u001b[1;34m\"Varanasi\"\u001b[0m\u001b[1;33m,\u001b[0m\u001b[1;34m\"Aurangabad\"\u001b[0m\u001b[1;33m,\u001b[0m\u001b[1;34m\"Dhanbad\"\u001b[0m\u001b[1;33m,\u001b[0m\u001b[1;34m\"Amritsar\"\u001b[0m\u001b[1;33m,\u001b[0m\u001b[1;34m\"Navi Mumbai\"\u001b[0m\u001b[1;33m,\u001b[0m\u001b[1;34m\"Allahabad\"\u001b[0m\u001b[1;33m,\u001b[0m\u001b[1;34m\"Howrah\"\u001b[0m\u001b[1;33m,\u001b[0m\u001b[1;34m\"Gwalior\"\u001b[0m\u001b[1;33m,\u001b[0m\u001b[1;34m\"Jabalpur\"\u001b[0m\u001b[1;33m,\u001b[0m\u001b[1;34m\"Madurai\"\u001b[0m\u001b[1;33m,\u001b[0m\u001b[1;34m\"Vijayawada\"\u001b[0m\u001b[1;33m,\u001b[0m\u001b[1;34m\"Jodhpur\"\u001b[0m\u001b[1;33m,\u001b[0m\u001b[1;34m\"Salem\"\u001b[0m\u001b[1;33m,\u001b[0m\u001b[1;34m\"Kota\"\u001b[0m\u001b[1;33m,\u001b[0m\u001b[1;34m\"Solapur\"\u001b[0m\u001b[1;33m,\u001b[0m\u001b[1;34m\"Hubli–Dharwad\"\u001b[0m\u001b[1;33m,\u001b[0m\u001b[1;34m\"Mysore\"\u001b[0m\u001b[1;33m,\u001b[0m\u001b[1;34m\"Tiruchirappalli\"\u001b[0m\u001b[1;33m,\u001b[0m\u001b[1;34m\"Bareilly\"\u001b[0m\u001b[1;33m,\u001b[0m\u001b[1;34m\"Aligarh\"\u001b[0m\u001b[1;33m,\u001b[0m\u001b[1;34m\"Tiruppur\"\u001b[0m\u001b[1;33m,\u001b[0m\u001b[1;34m\"Gurgaon\"\u001b[0m\u001b[1;33m,\u001b[0m\u001b[1;34m\"Moradabad\"\u001b[0m\u001b[1;33m,\u001b[0m\u001b[1;34m\"Jalandhar\"\u001b[0m\u001b[1;33m,\u001b[0m\u001b[1;34m\"Warangal\"\u001b[0m\u001b[1;33m,\u001b[0m\u001b[1;34m\"Mira-Bhayandar\"\u001b[0m\u001b[1;33m,\u001b[0m\u001b[1;34m\"Jalgaon\"\u001b[0m\u001b[1;33m,\u001b[0m\u001b[1;34m\"Guntur\"\u001b[0m\u001b[1;33m,\u001b[0m\u001b[1;34m\"Bhiwandi\"\u001b[0m\u001b[1;33m,\u001b[0m\u001b[1;34m\"Saharanpur\"\u001b[0m\u001b[1;33m,\u001b[0m\u001b[1;34m\"Gorakhpur\"\u001b[0m\u001b[1;33m,\u001b[0m\u001b[1;34m\"Bikaner\"\u001b[0m\u001b[1;33m,\u001b[0m\u001b[1;34m\"Amravati\"\u001b[0m\u001b[1;33m,\u001b[0m\u001b[1;34m\"Noida\"\u001b[0m\u001b[1;33m,\u001b[0m\u001b[1;34m\"Jamshedpur\"\u001b[0m\u001b[1;33m,\u001b[0m\u001b[1;34m\"Bhilai\"\u001b[0m\u001b[1;33m,\u001b[0m\u001b[1;34m\"Cuttack\"\u001b[0m\u001b[1;33m,\u001b[0m\u001b[1;34m\"Firozabad\"\u001b[0m\u001b[1;33m,\u001b[0m\u001b[1;34m\"Kochi\"\u001b[0m\u001b[1;33m,\u001b[0m\u001b[1;34m\"Nellore\"\u001b[0m\u001b[1;33m,\u001b[0m\u001b[1;34m\"Bhavnagar\"\u001b[0m\u001b[1;33m,\u001b[0m\u001b[1;34m\"Durgapur\"\u001b[0m\u001b[1;33m,\u001b[0m\u001b[1;34m\"Asansol\"\u001b[0m\u001b[1;33m,\u001b[0m\u001b[1;34m\"Rourkela\"\u001b[0m\u001b[1;33m,\u001b[0m\u001b[1;34m\"Nanded\"\u001b[0m\u001b[1;33m,\u001b[0m\u001b[1;34m\"Kolhapur\"\u001b[0m\u001b[1;33m,\u001b[0m\u001b[1;34m\"Ajmer\"\u001b[0m\u001b[1;33m,\u001b[0m\u001b[1;34m\"Akola\"\u001b[0m\u001b[1;33m,\u001b[0m\u001b[1;34m\"Gulbarga\"\u001b[0m\u001b[1;33m,\u001b[0m\u001b[1;34m\"Jamnagar\"\u001b[0m\u001b[1;33m,\u001b[0m\u001b[1;34m\"Ujjain\"\u001b[0m\u001b[1;33m,\u001b[0m\u001b[1;34m\"Loni\"\u001b[0m\u001b[1;33m,\u001b[0m\u001b[1;34m\"Siliguri\"\u001b[0m\u001b[1;33m,\u001b[0m\u001b[1;34m\"Jhansi\"\u001b[0m\u001b[1;33m,\u001b[0m\u001b[1;34m\"Ulhasnagar\"\u001b[0m\u001b[1;33m,\u001b[0m\u001b[1;34m\"Sangli-Miraj & Kupwad\"\u001b[0m\u001b[1;33m,\u001b[0m\u001b[1;34m\"Mangalore\"\u001b[0m\u001b[1;33m,\u001b[0m\u001b[1;34m\"Erode\"\u001b[0m\u001b[1;33m,\u001b[0m\u001b[1;34m\"Belgaum\"\u001b[0m\u001b[1;33m,\u001b[0m\u001b[1;34m\"Kurnool\"\u001b[0m\u001b[1;33m,\u001b[0m\u001b[1;34m\"Ambattur\"\u001b[0m\u001b[1;33m,\u001b[0m\u001b[1;34m\"Rajahmundry\"\u001b[0m\u001b[1;33m,\u001b[0m\u001b[1;34m\"Tirunelveli\"\u001b[0m\u001b[1;33m,\u001b[0m\u001b[1;34m\"Malegaon\"\u001b[0m\u001b[1;33m,\u001b[0m\u001b[1;34m\"Gaya\"\u001b[0m\u001b[1;33m,\u001b[0m\u001b[1;34m\"Tirupati\"\u001b[0m\u001b[1;33m,\u001b[0m\u001b[1;34m\"Udaipur\"\u001b[0m\u001b[1;33m,\u001b[0m\u001b[1;34m\"Kakinada\"\u001b[0m\u001b[1;33m,\u001b[0m\u001b[1;34m\"Davanagere\"\u001b[0m\u001b[1;33m,\u001b[0m\u001b[1;34m\"Kozhikode\"\u001b[0m\u001b[1;33m,\u001b[0m\u001b[1;34m\"Maheshtala\"\u001b[0m\u001b[1;33m,\u001b[0m\u001b[1;34m\"Rajpur Sonarpur\"\u001b[0m\u001b[1;33m,\u001b[0m\u001b[1;34m\"Bokaro\"\u001b[0m\u001b[1;33m,\u001b[0m\u001b[1;34m\"South Dumdum\"\u001b[0m\u001b[1;33m,\u001b[0m\u001b[1;34m\"Bellary\"\u001b[0m\u001b[1;33m,\u001b[0m\u001b[1;34m\"Patiala\"\u001b[0m\u001b[1;33m,\u001b[0m\u001b[1;34m\"Gopalpur\"\u001b[0m\u001b[1;33m,\u001b[0m\u001b[1;34m\"Bhagalpur\"\u001b[0m\u001b[1;33m,\u001b[0m\u001b[1;34m\"Muzaffarnagar\"\u001b[0m\u001b[1;33m,\u001b[0m\u001b[1;34m\"Bhatpara\"\u001b[0m\u001b[1;33m,\u001b[0m\u001b[1;34m\"Panihati\"\u001b[0m\u001b[1;33m,\u001b[0m\u001b[1;34m\"Latur\"\u001b[0m\u001b[1;33m,\u001b[0m\u001b[1;34m\"Dhule\"\u001b[0m\u001b[1;33m,\u001b[0m\u001b[1;34m\"Rohtak\"\u001b[0m\u001b[1;33m,\u001b[0m\u001b[1;34m\"Sagar\"\u001b[0m\u001b[1;33m,\u001b[0m\u001b[1;34m\"Korba\"\u001b[0m\u001b[1;33m,\u001b[0m\u001b[1;34m\"Bhilwara\"\u001b[0m\u001b[1;33m,\u001b[0m\u001b[1;34m\"Berhampur\"\u001b[0m\u001b[1;33m,\u001b[0m\u001b[1;34m\"Muzaffarpur\"\u001b[0m\u001b[1;33m,\u001b[0m\u001b[1;34m\"Ahmednagar\"\u001b[0m\u001b[1;33m,\u001b[0m\u001b[1;34m\"Mathura\"\u001b[0m\u001b[1;33m,\u001b[0m\u001b[1;34m\"Kollam\"\u001b[0m\u001b[1;33m,\u001b[0m\u001b[1;34m\"Avadi\"\u001b[0m\u001b[1;33m,\u001b[0m\u001b[1;34m\"Kadapa\"\u001b[0m\u001b[1;33m,\u001b[0m\u001b[1;34m\"Anantapuram\"\u001b[0m\u001b[1;33m,\u001b[0m\u001b[1;34m\"Kamarhati\"\u001b[0m\u001b[1;33m,\u001b[0m\u001b[1;34m\"Bilaspur\"\u001b[0m\u001b[1;33m,\u001b[0m\u001b[1;34m\"Sambalpur\"\u001b[0m\u001b[1;33m,\u001b[0m\u001b[1;34m\"Shahjahanpur\"\u001b[0m\u001b[1;33m,\u001b[0m\u001b[1;34m\"Satara\"\u001b[0m\u001b[1;33m,\u001b[0m\u001b[1;34m\"Bijapur\"\u001b[0m\u001b[1;33m,\u001b[0m\u001b[1;34m\"Rampur\"\u001b[0m\u001b[1;33m,\u001b[0m\u001b[1;34m\"Shimoga\"\u001b[0m\u001b[1;33m,\u001b[0m\u001b[1;34m\"Chandrapur\"\u001b[0m\u001b[1;33m,\u001b[0m\u001b[1;34m\"Junagadh\"\u001b[0m\u001b[1;33m,\u001b[0m\u001b[1;34m\"Thrissur\"\u001b[0m\u001b[1;33m,\u001b[0m\u001b[1;34m\"Alwar\"\u001b[0m\u001b[1;33m,\u001b[0m\u001b[1;34m\"Bardhaman\"\u001b[0m\u001b[1;33m,\u001b[0m\u001b[1;34m\"Kulti\"\u001b[0m\u001b[1;33m,\u001b[0m\u001b[1;34m\"Nizamabad\"\u001b[0m\u001b[1;33m,\u001b[0m\u001b[1;34m\"Parbhani\"\u001b[0m\u001b[1;33m,\u001b[0m\u001b[1;34m\"Tumkur\"\u001b[0m\u001b[1;33m,\u001b[0m\u001b[1;34m\"Khammam\"\u001b[0m\u001b[1;33m,\u001b[0m\u001b[1;34m\"Uzhavarkarai\"\u001b[0m\u001b[1;33m,\u001b[0m\u001b[1;34m\"Bihar Sharif\"\u001b[0m\u001b[1;33m,\u001b[0m\u001b[1;34m\"Panipat\"\u001b[0m\u001b[1;33m,\u001b[0m\u001b[1;34m\"Darbhanga\"\u001b[0m\u001b[1;33m,\u001b[0m\u001b[1;34m\"Bally\"\u001b[0m\u001b[1;33m,\u001b[0m\u001b[1;34m\"Dewas\"\u001b[0m\u001b[1;33m,\u001b[0m\u001b[1;34m\"Ichalkaranji\"\u001b[0m\u001b[1;33m,\u001b[0m\u001b[1;34m\"Karnal\"\u001b[0m\u001b[1;33m,\u001b[0m\u001b[1;34m\"Bathinda\"\u001b[0m\u001b[1;33m,\u001b[0m\u001b[1;34m\"Jalna\"\u001b[0m\u001b[1;33m,\u001b[0m\u001b[1;34m\"Eluru\"\u001b[0m\u001b[1;33m,\u001b[0m\u001b[1;34m\"Barasat\"\u001b[0m\u001b[1;33m,\u001b[0m\u001b[1;34m\"Kirari Suleman Nagar\"\u001b[0m\u001b[1;33m,\u001b[0m\u001b[1;34m\"Purnia\"\u001b[0m\u001b[1;33m,\u001b[0m\u001b[1;34m\"Satna\"\u001b[0m\u001b[1;33m,\u001b[0m\u001b[1;34m\"Mau\"\u001b[0m\u001b[1;33m,\u001b[0m\u001b[1;34m\"Sonipat\"\u001b[0m\u001b[1;33m,\u001b[0m\u001b[1;34m\"Farrukhabad\"\u001b[0m\u001b[1;33m,\u001b[0m\u001b[1;34m\"Durg\"\u001b[0m\u001b[1;33m,\u001b[0m\u001b[1;34m\"Ratlam\"\u001b[0m\u001b[1;33m,\u001b[0m\u001b[1;34m\"Hapur\"\u001b[0m\u001b[1;33m,\u001b[0m\u001b[1;34m\"Arrah\"\u001b[0m\u001b[1;33m,\u001b[0m\u001b[1;34m\"Anantapur\"\u001b[0m\u001b[1;33m,\u001b[0m\u001b[1;34m\"Karimnagar\"\u001b[0m\u001b[1;33m,\u001b[0m\u001b[1;34m\"Etawah\"\u001b[0m\u001b[1;33m,\u001b[0m\u001b[1;34m\"Ambarnath\"\u001b[0m\u001b[1;33m,\u001b[0m\u001b[1;34m\"North Dumdum\"\u001b[0m\u001b[1;33m,\u001b[0m\u001b[1;34m\"Bharatpur\"\u001b[0m\u001b[1;33m,\u001b[0m\u001b[1;34m\"Begusarai\"\u001b[0m\u001b[1;33m,\u001b[0m\u001b[1;34m\"New Delhi\"\u001b[0m\u001b[1;33m,\u001b[0m\u001b[1;34m\"Gandhidham\"\u001b[0m\u001b[1;33m,\u001b[0m\u001b[1;34m\"Baranagar\"\u001b[0m\u001b[1;33m,\u001b[0m\u001b[1;34m\"Tiruvottiyur\"\u001b[0m\u001b[1;33m,\u001b[0m\u001b[1;34m\"Sikar\"\u001b[0m\u001b[1;33m,\u001b[0m\u001b[1;34m\"Thoothukudi\"\u001b[0m\u001b[1;33m,\u001b[0m\u001b[1;34m\"Rewa\"\u001b[0m\u001b[1;33m,\u001b[0m\u001b[1;34m\"Mirzapur\"\u001b[0m\u001b[1;33m,\u001b[0m\u001b[1;34m\"Raichur\"\u001b[0m\u001b[1;33m,\u001b[0m\u001b[1;34m\"Pali\"\u001b[0m\u001b[1;33m,\u001b[0m\u001b[1;34m\"Ramagundam\"\u001b[0m\u001b[1;33m,\u001b[0m\u001b[1;34m\"Silchar\"\u001b[0m\u001b[1;33m,\u001b[0m\u001b[1;34m\"Haridwar\"\u001b[0m\u001b[1;33m,\u001b[0m\u001b[1;34m\"Vijayanagaram\"\u001b[0m\u001b[1;33m,\u001b[0m\u001b[1;34m\"Tenali\"\u001b[0m\u001b[1;33m,\u001b[0m\u001b[1;34m\"Nagercoil\"\u001b[0m\u001b[1;33m,\u001b[0m\u001b[1;34m\"Sri Ganganagar\"\u001b[0m\u001b[1;33m,\u001b[0m\u001b[1;34m\"Karawal Nagar\"\u001b[0m\u001b[1;33m,\u001b[0m\u001b[1;34m\"Mango\"\u001b[0m\u001b[1;33m,\u001b[0m\u001b[1;34m\"Thanjavur\"\u001b[0m\u001b[1;33m,\u001b[0m\u001b[1;34m\"Bulandshahr\"\u001b[0m\u001b[1;33m,\u001b[0m\u001b[1;34m\"Uluberia\"\u001b[0m\u001b[1;33m,\u001b[0m\u001b[1;34m\"Katni\"\u001b[0m\u001b[1;33m,\u001b[0m\u001b[1;34m\"Sambhal\"\u001b[0m\u001b[1;33m,\u001b[0m\u001b[1;34m\"Singrauli\"\u001b[0m\u001b[1;33m,\u001b[0m\u001b[1;34m\"Nadiad\"\u001b[0m\u001b[1;33m,\u001b[0m\u001b[1;34m\"Secunderabad\"\u001b[0m\u001b[1;33m,\u001b[0m\u001b[1;34m\"Naihati\"\u001b[0m\u001b[1;33m,\u001b[0m\u001b[1;34m\"Yamunanagar\"\u001b[0m\u001b[1;33m,\u001b[0m\u001b[1;34m\"Bidhannagar\"\u001b[0m\u001b[1;33m,\u001b[0m\u001b[1;34m\"Pallavaram\"\u001b[0m\u001b[1;33m,\u001b[0m\u001b[1;34m\"Bidar\"\u001b[0m\u001b[1;33m,\u001b[0m\u001b[1;34m\"Munger\"\u001b[0m\u001b[1;33m,\u001b[0m\u001b[1;34m\"Panchkula\"\u001b[0m\u001b[1;33m,\u001b[0m\u001b[1;34m\"Burhanpur\"\u001b[0m\u001b[1;33m,\u001b[0m\u001b[1;34m\"Raurkela Industrial Township\"\u001b[0m\u001b[1;33m,\u001b[0m\u001b[1;34m\"Kharagpur\"\u001b[0m\u001b[1;33m,\u001b[0m\u001b[1;34m\"Dindigul\"\u001b[0m\u001b[1;33m,\u001b[0m\u001b[1;34m\"Hospet\"\u001b[0m\u001b[1;33m,\u001b[0m\u001b[1;34m\"Nangloi Jat\"\u001b[0m\u001b[1;33m,\u001b[0m\u001b[1;34m\"Malda\"\u001b[0m\u001b[1;33m,\u001b[0m\u001b[1;34m\"Ongole\"\u001b[0m\u001b[1;33m,\u001b[0m\u001b[1;34m\"Deoghar\"\u001b[0m\u001b[1;33m,\u001b[0m\u001b[1;34m\"Chapra\"\u001b[0m\u001b[1;33m,\u001b[0m\u001b[1;34m\"Haldia\"\u001b[0m\u001b[1;33m,\u001b[0m\u001b[1;34m\"Khandwa\"\u001b[0m\u001b[1;33m,\u001b[0m\u001b[1;34m\"Nandyal\"\u001b[0m\u001b[1;33m,\u001b[0m\u001b[1;34m\"Morena\"\u001b[0m\u001b[1;33m,\u001b[0m\u001b[1;34m\"Amroha\"\u001b[0m\u001b[1;33m,\u001b[0m\u001b[1;34m\"Anand\"\u001b[0m\u001b[1;33m,\u001b[0m\u001b[1;34m\"Bhind\"\u001b[0m\u001b[1;33m,\u001b[0m\u001b[1;34m\"Bhalswa Jahangir Pur\"\u001b[0m\u001b[1;33m,\u001b[0m\u001b[1;34m\"Madhyamgram\"\u001b[0m\u001b[1;33m,\u001b[0m\u001b[1;34m\"Bhiwani\"\u001b[0m\u001b[1;33m,\u001b[0m\u001b[1;34m\"Berhampore\"\u001b[0m\u001b[1;33m,\u001b[0m\u001b[1;34m\"Ambala\"\u001b[0m\u001b[1;33m,\u001b[0m\u001b[1;34m\"Morbi\"\u001b[0m\u001b[1;33m,\u001b[0m\u001b[1;34m\"Fatehpur\"\u001b[0m\u001b[1;33m,\u001b[0m\u001b[1;34m\"Raebareli\"\u001b[0m\u001b[1;33m,\u001b[0m\u001b[1;34m\"Khora, Ghaziabad\"\u001b[0m\u001b[1;33m,\u001b[0m\u001b[1;34m\"Chittoor\"\u001b[0m\u001b[1;33m,\u001b[0m\u001b[1;34m\"Bhusawal\"\u001b[0m\u001b[1;33m,\u001b[0m\u001b[1;34m\"Orai\"\u001b[0m\u001b[1;33m,\u001b[0m\u001b[1;34m\"Bahraich\"\u001b[0m\u001b[1;33m,\u001b[0m\u001b[1;34m\"Phusro\"\u001b[0m\u001b[1;33m,\u001b[0m\u001b[1;34m\"Vellore\"\u001b[0m\u001b[1;33m,\u001b[0m\u001b[1;34m\"Mehsana\"\u001b[0m\u001b[1;33m,\u001b[0m\u001b[1;34m\"Raiganj\"\u001b[0m\u001b[1;33m,\u001b[0m\u001b[1;34m\"Sirsa\"\u001b[0m\u001b[1;33m,\u001b[0m\u001b[1;34m\"Danapur\"\u001b[0m\u001b[1;33m,\u001b[0m\u001b[1;34m\"Serampore\"\u001b[0m\u001b[1;33m,\u001b[0m\u001b[1;34m\"Sultan Pur Majra\"\u001b[0m\u001b[1;33m,\u001b[0m\u001b[1;34m\"Guna\"\u001b[0m\u001b[1;33m,\u001b[0m\u001b[1;34m\"Jaunpur\"\u001b[0m\u001b[1;33m,\u001b[0m\u001b[1;34m\"Panvel\"\u001b[0m\u001b[1;33m,\u001b[0m\u001b[1;34m\"Shivpuri\"\u001b[0m\u001b[1;33m,\u001b[0m\u001b[1;34m\"Surendranagar Dudhrej\"\u001b[0m\u001b[1;33m,\u001b[0m\u001b[1;34m\"Unnao\"\u001b[0m\u001b[1;33m,\u001b[0m\u001b[1;34m\"Chinsurah\"\u001b[0m\u001b[1;33m,\u001b[0m\u001b[1;34m\"Alappuzha\"\u001b[0m\u001b[1;33m,\u001b[0m\u001b[1;34m\"Kottayam\"\u001b[0m\u001b[1;33m,\u001b[0m\u001b[1;34m\"Machilipatnam\"\u001b[0m\u001b[1;33m,\u001b[0m\u001b[1;34m\"Adoni\"\u001b[0m\u001b[1;33m,\u001b[0m\u001b[1;34m\"Udupi\"\u001b[0m\u001b[1;33m,\u001b[0m\u001b[1;34m\"Katihar\"\u001b[0m\u001b[1;33m,\u001b[0m\u001b[1;34m\"Proddatur\"\u001b[0m\u001b[1;33m,\u001b[0m\u001b[1;34m\"Mahbubnagar\"\u001b[0m\u001b[1;33m,\u001b[0m\u001b[1;34m\"Saharsa\"\u001b[0m\u001b[1;33m,\u001b[0m\u001b[1;34m\"Dibrugarh\"\u001b[0m\u001b[1;33m,\u001b[0m\u001b[1;34m\"Jorhat\"\u001b[0m\u001b[1;33m,\u001b[0m\u001b[1;34m\"Hazaribagh\"\u001b[0m\u001b[1;33m,\u001b[0m\u001b[1;34m\"Hindupur\"\u001b[0m\u001b[1;33m,\u001b[0m\u001b[1;34m\"Nagaon\"\u001b[0m\u001b[1;33m,\u001b[0m\u001b[1;34m\"Sasaram\"\u001b[0m\u001b[1;33m,\u001b[0m\u001b[1;34m\"Hajipur\"\u001b[0m\u001b[1;33m,\u001b[0m\u001b[1;34m\"Giridih\"\u001b[0m\u001b[1;33m,\u001b[0m\u001b[1;34m\"Bhimavaram\"\u001b[0m\u001b[1;33m,\u001b[0m\u001b[1;34m\"Kumbakonam\"\u001b[0m\u001b[1;33m,\u001b[0m\u001b[1;34m\"Bongaigaon\"\u001b[0m\u001b[1;33m,\u001b[0m\u001b[1;34m\"Dehri\"\u001b[0m\u001b[1;33m,\u001b[0m\u001b[1;34m\"Madanapalle\"\u001b[0m\u001b[1;33m,\u001b[0m\u001b[1;34m\"Siwan\"\u001b[0m\u001b[1;33m,\u001b[0m\u001b[1;34m\"Bettiah\"\u001b[0m\u001b[1;33m,\u001b[0m\u001b[1;34m\"Ramgarh\"\u001b[0m\u001b[1;33m,\u001b[0m\u001b[1;34m\"Tinsukia\"\u001b[0m\u001b[1;33m,\u001b[0m\u001b[1;34m\"Guntakal\"\u001b[0m\u001b[1;33m,\u001b[0m\u001b[1;34m\"Srikakulam\"\u001b[0m\u001b[1;33m,\u001b[0m\u001b[1;34m\"Motihari\"\u001b[0m\u001b[1;33m,\u001b[0m\u001b[1;34m\"Dharmavaram\"\u001b[0m\u001b[1;33m,\u001b[0m\u001b[1;34m\"Medininagar\"\u001b[0m\u001b[1;33m,\u001b[0m\u001b[1;34m\"Gudivada\"\u001b[0m\u001b[1;33m,\u001b[0m\u001b[1;34m\"Phagwara\"\u001b[0m\u001b[1;33m,\u001b[0m\u001b[1;34m\"Pudukkottai\"\u001b[0m\u001b[1;33m,\u001b[0m\u001b[1;34m\"Hosur\"\u001b[0m\u001b[1;33m,\u001b[0m\u001b[1;34m\"Narasaraopet\"\u001b[0m\u001b[1;33m,\u001b[0m\u001b[1;34m\"Suryapet\"\u001b[0m\u001b[1;33m,\u001b[0m\u001b[1;34m\"Miryalaguda\"\u001b[0m\u001b[1;33m,\u001b[0m\u001b[1;34m\"Tadipatri\"\u001b[0m\u001b[1;33m,\u001b[0m\u001b[1;34m\"Karaikudi\"\u001b[0m\u001b[1;33m,\u001b[0m\u001b[1;34m\"Kishanganj\"\u001b[0m\u001b[1;33m,\u001b[0m\u001b[1;34m\"Jamalpur\"\u001b[0m\u001b[1;33m,\u001b[0m\u001b[1;34m\"Ballia\"\u001b[0m\u001b[1;33m,\u001b[0m\u001b[1;34m\"Kavali\"\u001b[0m\u001b[1;33m,\u001b[0m\u001b[1;34m\"Tadepalligudem\"\u001b[0m\u001b[1;33m,\u001b[0m\u001b[1;34m\"Buxar\"\u001b[0m\u001b[1;33m,\u001b[0m\u001b[1;34m\"Tezpur\"\u001b[0m\u001b[1;33m,\u001b[0m\u001b[1;34m\"Jehanabad\"\u001b[0m\u001b[1;33m,\u001b[0m\u001b[1;34m\"Aurangabad\"\u001b[0m\u001b[1;33m,\u001b[0m\u001b[1;34m\"Vasco Da Gama\"\u001b[0m\u001b[1;33m]\u001b[0m\u001b[1;33m)\u001b[0m\u001b[1;33m\u001b[0m\u001b[1;33m\u001b[0m\u001b[0m\n\u001b[1;32m----> 2\u001b[1;33m \u001b[0mall_loc\u001b[0m\u001b[1;33m[\u001b[0m\u001b[1;33m:\u001b[0m\u001b[1;36m5\u001b[0m\u001b[1;33m]\u001b[0m\u001b[1;33m\u001b[0m\u001b[1;33m\u001b[0m\u001b[0m\n\u001b[0m",
      "\u001b[1;31mTypeError\u001b[0m: 'set' object is not subscriptable"
     ]
    }
   ],
   "source": [
    "all_loc = set([\"Ahmedabad\",\"Surat\",\"Pune\",\"Kanpur\",\"Nagpur\",\"Indore\",\"Thane\",\"Coimbatore\",\"Pimpri-Chinchwad\",\"Vadodara\",\"Ghaziabad\",\"Ludhiana\",\"Agra\",\"Nashik\",\"Faridabad\",\"Meerut\",\"Rajkot\",\"Kalyan-Dombivli\",\"Vasai-Virar\",\"Varanasi\",\"Aurangabad\",\"Dhanbad\",\"Amritsar\",\"Navi Mumbai\",\"Allahabad\",\"Howrah\",\"Gwalior\",\"Jabalpur\",\"Madurai\",\"Vijayawada\",\"Jodhpur\",\"Salem\",\"Kota\",\"Solapur\",\"Hubli–Dharwad\",\"Mysore\",\"Tiruchirappalli\",\"Bareilly\",\"Aligarh\",\"Tiruppur\",\"Gurgaon\",\"Moradabad\",\"Jalandhar\",\"Warangal\",\"Mira-Bhayandar\",\"Jalgaon\",\"Guntur\",\"Bhiwandi\",\"Saharanpur\",\"Gorakhpur\",\"Bikaner\",\"Amravati\",\"Noida\",\"Jamshedpur\",\"Bhilai\",\"Cuttack\",\"Firozabad\",\"Kochi\",\"Nellore\",\"Bhavnagar\",\"Durgapur\",\"Asansol\",\"Rourkela\",\"Nanded\",\"Kolhapur\",\"Ajmer\",\"Akola\",\"Gulbarga\",\"Jamnagar\",\"Ujjain\",\"Loni\",\"Siliguri\",\"Jhansi\",\"Ulhasnagar\",\"Sangli-Miraj & Kupwad\",\"Mangalore\",\"Erode\",\"Belgaum\",\"Kurnool\",\"Ambattur\",\"Rajahmundry\",\"Tirunelveli\",\"Malegaon\",\"Gaya\",\"Tirupati\",\"Udaipur\",\"Kakinada\",\"Davanagere\",\"Kozhikode\",\"Maheshtala\",\"Rajpur Sonarpur\",\"Bokaro\",\"South Dumdum\",\"Bellary\",\"Patiala\",\"Gopalpur\",\"Bhagalpur\",\"Muzaffarnagar\",\"Bhatpara\",\"Panihati\",\"Latur\",\"Dhule\",\"Rohtak\",\"Sagar\",\"Korba\",\"Bhilwara\",\"Berhampur\",\"Muzaffarpur\",\"Ahmednagar\",\"Mathura\",\"Kollam\",\"Avadi\",\"Kadapa\",\"Anantapuram\",\"Kamarhati\",\"Bilaspur\",\"Sambalpur\",\"Shahjahanpur\",\"Satara\",\"Bijapur\",\"Rampur\",\"Shimoga\",\"Chandrapur\",\"Junagadh\",\"Thrissur\",\"Alwar\",\"Bardhaman\",\"Kulti\",\"Nizamabad\",\"Parbhani\",\"Tumkur\",\"Khammam\",\"Uzhavarkarai\",\"Bihar Sharif\",\"Panipat\",\"Darbhanga\",\"Bally\",\"Dewas\",\"Ichalkaranji\",\"Karnal\",\"Bathinda\",\"Jalna\",\"Eluru\",\"Barasat\",\"Kirari Suleman Nagar\",\"Purnia\",\"Satna\",\"Mau\",\"Sonipat\",\"Farrukhabad\",\"Durg\",\"Ratlam\",\"Hapur\",\"Arrah\",\"Anantapur\",\"Karimnagar\",\"Etawah\",\"Ambarnath\",\"North Dumdum\",\"Bharatpur\",\"Begusarai\",\"New Delhi\",\"Gandhidham\",\"Baranagar\",\"Tiruvottiyur\",\"Sikar\",\"Thoothukudi\",\"Rewa\",\"Mirzapur\",\"Raichur\",\"Pali\",\"Ramagundam\",\"Silchar\",\"Haridwar\",\"Vijayanagaram\",\"Tenali\",\"Nagercoil\",\"Sri Ganganagar\",\"Karawal Nagar\",\"Mango\",\"Thanjavur\",\"Bulandshahr\",\"Uluberia\",\"Katni\",\"Sambhal\",\"Singrauli\",\"Nadiad\",\"Secunderabad\",\"Naihati\",\"Yamunanagar\",\"Bidhannagar\",\"Pallavaram\",\"Bidar\",\"Munger\",\"Panchkula\",\"Burhanpur\",\"Raurkela Industrial Township\",\"Kharagpur\",\"Dindigul\",\"Hospet\",\"Nangloi Jat\",\"Malda\",\"Ongole\",\"Deoghar\",\"Chapra\",\"Haldia\",\"Khandwa\",\"Nandyal\",\"Morena\",\"Amroha\",\"Anand\",\"Bhind\",\"Bhalswa Jahangir Pur\",\"Madhyamgram\",\"Bhiwani\",\"Berhampore\",\"Ambala\",\"Morbi\",\"Fatehpur\",\"Raebareli\",\"Khora, Ghaziabad\",\"Chittoor\",\"Bhusawal\",\"Orai\",\"Bahraich\",\"Phusro\",\"Vellore\",\"Mehsana\",\"Raiganj\",\"Sirsa\",\"Danapur\",\"Serampore\",\"Sultan Pur Majra\",\"Guna\",\"Jaunpur\",\"Panvel\",\"Shivpuri\",\"Surendranagar Dudhrej\",\"Unnao\",\"Chinsurah\",\"Alappuzha\",\"Kottayam\",\"Machilipatnam\",\"Adoni\",\"Udupi\",\"Katihar\",\"Proddatur\",\"Mahbubnagar\",\"Saharsa\",\"Dibrugarh\",\"Jorhat\",\"Hazaribagh\",\"Hindupur\",\"Nagaon\",\"Sasaram\",\"Hajipur\",\"Giridih\",\"Bhimavaram\",\"Kumbakonam\",\"Bongaigaon\",\"Dehri\",\"Madanapalle\",\"Siwan\",\"Bettiah\",\"Ramgarh\",\"Tinsukia\",\"Guntakal\",\"Srikakulam\",\"Motihari\",\"Dharmavaram\",\"Medininagar\",\"Gudivada\",\"Phagwara\",\"Pudukkottai\",\"Hosur\",\"Narasaraopet\",\"Suryapet\",\"Miryalaguda\",\"Tadipatri\",\"Karaikudi\",\"Kishanganj\",\"Jamalpur\",\"Ballia\",\"Kavali\",\"Tadepalligudem\",\"Buxar\",\"Tezpur\",\"Jehanabad\",\"Aurangabad\",\"Vasco Da Gama\"])"
   ]
  },
  {
   "cell_type": "code",
   "execution_count": 24,
   "metadata": {},
   "outputs": [],
   "source": [
    "cities = set(df.City)"
   ]
  },
  {
   "cell_type": "code",
   "execution_count": 26,
   "metadata": {},
   "outputs": [
    {
     "data": {
      "text/plain": "{'Adoni',\n 'Ahmednagar',\n 'Ajmer',\n 'Akola',\n 'Alappuzha',\n 'Aligarh',\n 'Alwar',\n 'Ambala',\n 'Ambarnath',\n 'Ambattur',\n 'Amravati',\n 'Amroha',\n 'Anand',\n 'Anantapur',\n 'Anantapuram',\n 'Arrah',\n 'Asansol',\n 'Avadi',\n 'Bahraich',\n 'Ballia',\n 'Bally',\n 'Baranagar',\n 'Barasat',\n 'Bardhaman',\n 'Bareilly',\n 'Bathinda',\n 'Begusarai',\n 'Belgaum',\n 'Bellary',\n 'Berhampore',\n 'Berhampur',\n 'Bettiah',\n 'Bhagalpur',\n 'Bhalswa Jahangir Pur',\n 'Bharatpur',\n 'Bhatpara',\n 'Bhavnagar',\n 'Bhilai',\n 'Bhilwara',\n 'Bhimavaram',\n 'Bhind',\n 'Bhiwandi',\n 'Bhiwani',\n 'Bhusawal',\n 'Bidar',\n 'Bidhannagar',\n 'Bihar Sharif',\n 'Bijapur',\n 'Bikaner',\n 'Bilaspur',\n 'Bokaro',\n 'Bongaigaon',\n 'Bulandshahr',\n 'Burhanpur',\n 'Buxar',\n 'Chandrapur',\n 'Chapra',\n 'Chinsurah',\n 'Chittoor',\n 'Cuttack',\n 'Danapur',\n 'Darbhanga',\n 'Davanagere',\n 'Dehri',\n 'Deoghar',\n 'Dewas',\n 'Dhanbad',\n 'Dharmavaram',\n 'Dhule',\n 'Dibrugarh',\n 'Dindigul',\n 'Durg',\n 'Durgapur',\n 'Eluru',\n 'Erode',\n 'Etawah',\n 'Farrukhabad',\n 'Fatehpur',\n 'Firozabad',\n 'Gandhidham',\n 'Gaya',\n 'Giridih',\n 'Gopalpur',\n 'Gorakhpur',\n 'Gudivada',\n 'Gulbarga',\n 'Guna',\n 'Guntakal',\n 'Guntur',\n 'Gwalior',\n 'Hajipur',\n 'Haldia',\n 'Hapur',\n 'Haridwar',\n 'Hazaribagh',\n 'Hindupur',\n 'Hospet',\n 'Hosur',\n 'Howrah',\n 'Hubli–Dharwad',\n 'Ichalkaranji',\n 'Jabalpur',\n 'Jalandhar',\n 'Jalgaon',\n 'Jalna',\n 'Jamalpur',\n 'Jamnagar',\n 'Jamshedpur',\n 'Jaunpur',\n 'Jehanabad',\n 'Jhansi',\n 'Jodhpur',\n 'Jorhat',\n 'Junagadh',\n 'Kadapa',\n 'Kakinada',\n 'Kalyan-Dombivli',\n 'Kamarhati',\n 'Karaikudi',\n 'Karawal Nagar',\n 'Karimnagar',\n 'Karnal',\n 'Katihar',\n 'Katni',\n 'Kavali',\n 'Khammam',\n 'Khandwa',\n 'Kharagpur',\n 'Khora, Ghaziabad',\n 'Kirari Suleman Nagar',\n 'Kishanganj',\n 'Kolhapur',\n 'Kollam',\n 'Korba',\n 'Kota',\n 'Kottayam',\n 'Kozhikode',\n 'Kulti',\n 'Kumbakonam',\n 'Kurnool',\n 'Latur',\n 'Loni',\n 'Machilipatnam',\n 'Madanapalle',\n 'Madhyamgram',\n 'Madurai',\n 'Mahbubnagar',\n 'Maheshtala',\n 'Malda',\n 'Malegaon',\n 'Mango',\n 'Mathura',\n 'Mau',\n 'Medininagar',\n 'Meerut',\n 'Mehsana',\n 'Mira-Bhayandar',\n 'Miryalaguda',\n 'Mirzapur',\n 'Moradabad',\n 'Morbi',\n 'Morena',\n 'Motihari',\n 'Munger',\n 'Muzaffarnagar',\n 'Muzaffarpur',\n 'Nadiad',\n 'Nagaon',\n 'Nagercoil',\n 'Naihati',\n 'Nanded',\n 'Nandyal',\n 'Nangloi Jat',\n 'Narasaraopet',\n 'Navi Mumbai',\n 'Nellore',\n 'Nizamabad',\n 'North Dumdum',\n 'Ongole',\n 'Orai',\n 'Pali',\n 'Pallavaram',\n 'Panihati',\n 'Panipat',\n 'Panvel',\n 'Parbhani',\n 'Patiala',\n 'Phagwara',\n 'Phusro',\n 'Pimpri-Chinchwad',\n 'Proddatur',\n 'Pudukkottai',\n 'Purnia',\n 'Raebareli',\n 'Raichur',\n 'Raiganj',\n 'Rajahmundry',\n 'Rajkot',\n 'Rajpur Sonarpur',\n 'Ramagundam',\n 'Ramgarh',\n 'Rampur',\n 'Ratlam',\n 'Raurkela Industrial Township',\n 'Rewa',\n 'Rohtak',\n 'Rourkela',\n 'Sagar',\n 'Saharanpur',\n 'Saharsa',\n 'Salem',\n 'Sambalpur',\n 'Sambhal',\n 'Sangli-Miraj & Kupwad',\n 'Sasaram',\n 'Satara',\n 'Satna',\n 'Serampore',\n 'Shahjahanpur',\n 'Shimoga',\n 'Shivpuri',\n 'Sikar',\n 'Silchar',\n 'Siliguri',\n 'Singrauli',\n 'Sirsa',\n 'Siwan',\n 'Solapur',\n 'Sonipat',\n 'South Dumdum',\n 'Sri Ganganagar',\n 'Srikakulam',\n 'Sultan Pur Majra',\n 'Surendranagar Dudhrej',\n 'Suryapet',\n 'Tadepalligudem',\n 'Tadipatri',\n 'Tenali',\n 'Tezpur',\n 'Thane',\n 'Thanjavur',\n 'Thoothukudi',\n 'Thrissur',\n 'Tinsukia',\n 'Tiruchirappalli',\n 'Tirunelveli',\n 'Tirupati',\n 'Tiruppur',\n 'Tiruvottiyur',\n 'Tumkur',\n 'Udaipur',\n 'Udupi',\n 'Ujjain',\n 'Ulhasnagar',\n 'Uluberia',\n 'Unnao',\n 'Uzhavarkarai',\n 'Vasai-Virar',\n 'Vasco Da Gama',\n 'Vellore',\n 'Vijayanagaram',\n 'Vijayawada',\n 'Warangal',\n 'Yamunanagar'}"
     },
     "execution_count": 26,
     "metadata": {},
     "output_type": "execute_result"
    }
   ],
   "source": [
    "all_loc.difference(cities)"
   ]
  },
  {
   "cell_type": "code",
   "execution_count": null,
   "metadata": {},
   "outputs": [],
   "source": []
  }
 ],
 "metadata": {
  "interpreter": {
   "hash": "62da384ec457d024e2265364f38c5aa126bc702ae9621c325ac01de22fa2f932"
  },
  "kernelspec": {
   "display_name": "Python 3.7.9 64-bit ('rasa': conda)",
   "name": "python3"
  },
  "language_info": {
   "codemirror_mode": {
    "name": "ipython",
    "version": 3
   },
   "file_extension": ".py",
   "mimetype": "text/x-python",
   "name": "python",
   "nbconvert_exporter": "python",
   "pygments_lexer": "ipython3",
   "version": "3.7.9"
  },
  "orig_nbformat": 2
 },
 "nbformat": 4,
 "nbformat_minor": 2
}