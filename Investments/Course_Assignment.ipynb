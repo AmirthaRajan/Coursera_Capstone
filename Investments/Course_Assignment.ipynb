{
 "cells": [
  {
   "cell_type": "markdown",
   "metadata": {},
   "source": [
    "<center><h1>Investment Analysis for Spark Funds</h1></center>"
   ]
  },
  {
   "cell_type": "markdown",
   "metadata": {},
   "source": [
    "## Objectives and Business Understanding\n",
    "<pre>\n",
    "<b>Spark Funds has two minor constraints for investments:</b>\n",
    "\n",
    "It wants to invest between 5 to 15 million USD per round of investment.\n",
    "It wants to invest only in English-speaking countries because of the ease of communication with the companies it would invest in. \n",
    "\n",
    "For our analysis, consider a country to be English speaking only if English is one of the official languages in that country. These conditions will give us sufficient information for ur initial analysis. Before getting to specific questions, let’s understand the problem and the data first.\n",
    "\n",
    "<b>1. What is the strategy?</b>\n",
    "\n",
    "Spark Funds wants to invest where most other investors are investing. This pattern is often observed among early stage startup investors.\n",
    "\n",
    "<b>2. Where did we get the data from? </b>\n",
    "\n",
    "We have taken real investment data from crunchbase.com, so the insights we get may be incredibly useful. For this assignment, we have divided the data into the following files:\n",
    " \n",
    "<b>3. What is Spark Funds’ business objective?</b>\n",
    "\n",
    "The business objectives and goals of data analysis are pretty straightforward.\n",
    "\n",
    "<b>Business objective:</b> The objective is to identify the best sectors, countries, and a suitable investment type for making investments. The overall strategy is to invest where others are investing, implying that the 'best' sectors and countries are the ones 'where most investors are investing'.\n",
    "<b>Goals of data analysis:</b> Our goals are divided into three sub-goals:\n",
    "<b>Investment type analysis:</b> Comparing the typical investment amounts in the venture, seed, angel, private equity etc. so that Spark Funds can choose the type that is best suited for their strategy.\n",
    "<b>Country analysis:</b> Identifying the countries which have been the most heavily invested in the past. These will be Spark Funds’ favourites as well.\n",
    "<b>Sector analysis:</b> Understanding the distribution of investments across the eight main sectors. (Note that we are interested in the eight 'main sectors' provided in the mapping file. The two files — companies and rounds2 — have numerous sub-sector names; hence, we will need to map each sub-sector to its main sector.)\n",
    "</pre>"
   ]
  },
  {
   "cell_type": "code",
   "execution_count": 1,
   "metadata": {},
   "outputs": [],
   "source": [
    "# Import required packages\n",
    "import numpy as np\n",
    "import pandas as pd\n",
    "import re\n",
    "import matplotlib.pyplot as plt\n",
    "from matplotlib import cm\n",
    "from matplotlib.patches import Patch\n",
    "import seaborn as sns"
   ]
  },
  {
   "cell_type": "markdown",
   "metadata": {},
   "source": [
    "# Checkpoint 1 : Data Cleaning"
   ]
  },
  {
   "cell_type": "code",
   "execution_count": 2,
   "metadata": {},
   "outputs": [],
   "source": [
    "# Read Csv files\n",
    "companies = pd.read_csv(\"companies.csv\",engine='python')\n",
    "rounds2 = pd.read_csv(\"rounds2.csv\",engine='python')"
   ]
  },
  {
   "cell_type": "code",
   "execution_count": 3,
   "metadata": {},
   "outputs": [
    {
     "data": {
      "text/html": [
       "<div>\n",
       "<style scoped>\n",
       "    .dataframe tbody tr th:only-of-type {\n",
       "        vertical-align: middle;\n",
       "    }\n",
       "\n",
       "    .dataframe tbody tr th {\n",
       "        vertical-align: top;\n",
       "    }\n",
       "\n",
       "    .dataframe thead th {\n",
       "        text-align: right;\n",
       "    }\n",
       "</style>\n",
       "<table border=\"1\" class=\"dataframe\">\n",
       "  <thead>\n",
       "    <tr style=\"text-align: right;\">\n",
       "      <th></th>\n",
       "      <th>permalink</th>\n",
       "      <th>name</th>\n",
       "      <th>homepage_url</th>\n",
       "      <th>category_list</th>\n",
       "      <th>status</th>\n",
       "      <th>country_code</th>\n",
       "      <th>state_code</th>\n",
       "      <th>region</th>\n",
       "      <th>city</th>\n",
       "      <th>founded_at</th>\n",
       "    </tr>\n",
       "  </thead>\n",
       "  <tbody>\n",
       "    <tr>\n",
       "      <th>0</th>\n",
       "      <td>/Organization/-Fame</td>\n",
       "      <td>#fame</td>\n",
       "      <td>http://livfame.com</td>\n",
       "      <td>Media</td>\n",
       "      <td>operating</td>\n",
       "      <td>IND</td>\n",
       "      <td>16</td>\n",
       "      <td>Mumbai</td>\n",
       "      <td>Mumbai</td>\n",
       "      <td>NaN</td>\n",
       "    </tr>\n",
       "    <tr>\n",
       "      <th>1</th>\n",
       "      <td>/Organization/-Qounter</td>\n",
       "      <td>:Qounter</td>\n",
       "      <td>http://www.qounter.com</td>\n",
       "      <td>Application Platforms|Real Time|Social Network...</td>\n",
       "      <td>operating</td>\n",
       "      <td>USA</td>\n",
       "      <td>DE</td>\n",
       "      <td>DE - Other</td>\n",
       "      <td>Delaware City</td>\n",
       "      <td>04-09-2014</td>\n",
       "    </tr>\n",
       "    <tr>\n",
       "      <th>2</th>\n",
       "      <td>/Organization/-The-One-Of-Them-Inc-</td>\n",
       "      <td>(THE) ONE of THEM,Inc.</td>\n",
       "      <td>http://oneofthem.jp</td>\n",
       "      <td>Apps|Games|Mobile</td>\n",
       "      <td>operating</td>\n",
       "      <td>NaN</td>\n",
       "      <td>NaN</td>\n",
       "      <td>NaN</td>\n",
       "      <td>NaN</td>\n",
       "      <td>NaN</td>\n",
       "    </tr>\n",
       "    <tr>\n",
       "      <th>3</th>\n",
       "      <td>/Organization/0-6-Com</td>\n",
       "      <td>0-6.com</td>\n",
       "      <td>http://www.0-6.com</td>\n",
       "      <td>Curated Web</td>\n",
       "      <td>operating</td>\n",
       "      <td>CHN</td>\n",
       "      <td>22</td>\n",
       "      <td>Beijing</td>\n",
       "      <td>Beijing</td>\n",
       "      <td>01-01-2007</td>\n",
       "    </tr>\n",
       "    <tr>\n",
       "      <th>4</th>\n",
       "      <td>/Organization/004-Technologies</td>\n",
       "      <td>004 Technologies</td>\n",
       "      <td>http://004gmbh.de/en/004-interact</td>\n",
       "      <td>Software</td>\n",
       "      <td>operating</td>\n",
       "      <td>USA</td>\n",
       "      <td>IL</td>\n",
       "      <td>Springfield, Illinois</td>\n",
       "      <td>Champaign</td>\n",
       "      <td>01-01-2010</td>\n",
       "    </tr>\n",
       "  </tbody>\n",
       "</table>\n",
       "</div>"
      ],
      "text/plain": [
       "                             permalink                    name  \\\n",
       "0                  /Organization/-Fame                   #fame   \n",
       "1               /Organization/-Qounter                :Qounter   \n",
       "2  /Organization/-The-One-Of-Them-Inc-  (THE) ONE of THEM,Inc.   \n",
       "3                /Organization/0-6-Com                 0-6.com   \n",
       "4       /Organization/004-Technologies        004 Technologies   \n",
       "\n",
       "                        homepage_url  \\\n",
       "0                 http://livfame.com   \n",
       "1             http://www.qounter.com   \n",
       "2                http://oneofthem.jp   \n",
       "3                 http://www.0-6.com   \n",
       "4  http://004gmbh.de/en/004-interact   \n",
       "\n",
       "                                       category_list     status country_code  \\\n",
       "0                                              Media  operating          IND   \n",
       "1  Application Platforms|Real Time|Social Network...  operating          USA   \n",
       "2                                  Apps|Games|Mobile  operating          NaN   \n",
       "3                                        Curated Web  operating          CHN   \n",
       "4                                           Software  operating          USA   \n",
       "\n",
       "  state_code                 region           city  founded_at  \n",
       "0         16                 Mumbai         Mumbai         NaN  \n",
       "1         DE             DE - Other  Delaware City  04-09-2014  \n",
       "2        NaN                    NaN            NaN         NaN  \n",
       "3         22                Beijing        Beijing  01-01-2007  \n",
       "4         IL  Springfield, Illinois      Champaign  01-01-2010  "
      ]
     },
     "execution_count": 3,
     "metadata": {},
     "output_type": "execute_result"
    }
   ],
   "source": [
    "# Preview companies data\n",
    "companies.head()"
   ]
  },
  {
   "cell_type": "code",
   "execution_count": 4,
   "metadata": {},
   "outputs": [
    {
     "data": {
      "text/html": [
       "<div>\n",
       "<style scoped>\n",
       "    .dataframe tbody tr th:only-of-type {\n",
       "        vertical-align: middle;\n",
       "    }\n",
       "\n",
       "    .dataframe tbody tr th {\n",
       "        vertical-align: top;\n",
       "    }\n",
       "\n",
       "    .dataframe thead th {\n",
       "        text-align: right;\n",
       "    }\n",
       "</style>\n",
       "<table border=\"1\" class=\"dataframe\">\n",
       "  <thead>\n",
       "    <tr style=\"text-align: right;\">\n",
       "      <th></th>\n",
       "      <th>company_permalink</th>\n",
       "      <th>funding_round_permalink</th>\n",
       "      <th>funding_round_type</th>\n",
       "      <th>funding_round_code</th>\n",
       "      <th>funded_at</th>\n",
       "      <th>raised_amount_usd</th>\n",
       "    </tr>\n",
       "  </thead>\n",
       "  <tbody>\n",
       "    <tr>\n",
       "      <th>0</th>\n",
       "      <td>/organization/-fame</td>\n",
       "      <td>/funding-round/9a01d05418af9f794eebff7ace91f638</td>\n",
       "      <td>venture</td>\n",
       "      <td>B</td>\n",
       "      <td>05-01-2015</td>\n",
       "      <td>10000000.0</td>\n",
       "    </tr>\n",
       "    <tr>\n",
       "      <th>1</th>\n",
       "      <td>/ORGANIZATION/-QOUNTER</td>\n",
       "      <td>/funding-round/22dacff496eb7acb2b901dec1dfe5633</td>\n",
       "      <td>venture</td>\n",
       "      <td>A</td>\n",
       "      <td>14-10-2014</td>\n",
       "      <td>NaN</td>\n",
       "    </tr>\n",
       "    <tr>\n",
       "      <th>2</th>\n",
       "      <td>/organization/-qounter</td>\n",
       "      <td>/funding-round/b44fbb94153f6cdef13083530bb48030</td>\n",
       "      <td>seed</td>\n",
       "      <td>NaN</td>\n",
       "      <td>01-03-2014</td>\n",
       "      <td>700000.0</td>\n",
       "    </tr>\n",
       "    <tr>\n",
       "      <th>3</th>\n",
       "      <td>/ORGANIZATION/-THE-ONE-OF-THEM-INC-</td>\n",
       "      <td>/funding-round/650b8f704416801069bb178a1418776b</td>\n",
       "      <td>venture</td>\n",
       "      <td>B</td>\n",
       "      <td>30-01-2014</td>\n",
       "      <td>3406878.0</td>\n",
       "    </tr>\n",
       "    <tr>\n",
       "      <th>4</th>\n",
       "      <td>/organization/0-6-com</td>\n",
       "      <td>/funding-round/5727accaeaa57461bd22a9bdd945382d</td>\n",
       "      <td>venture</td>\n",
       "      <td>A</td>\n",
       "      <td>19-03-2008</td>\n",
       "      <td>2000000.0</td>\n",
       "    </tr>\n",
       "  </tbody>\n",
       "</table>\n",
       "</div>"
      ],
      "text/plain": [
       "                     company_permalink  \\\n",
       "0                  /organization/-fame   \n",
       "1               /ORGANIZATION/-QOUNTER   \n",
       "2               /organization/-qounter   \n",
       "3  /ORGANIZATION/-THE-ONE-OF-THEM-INC-   \n",
       "4                /organization/0-6-com   \n",
       "\n",
       "                           funding_round_permalink funding_round_type  \\\n",
       "0  /funding-round/9a01d05418af9f794eebff7ace91f638            venture   \n",
       "1  /funding-round/22dacff496eb7acb2b901dec1dfe5633            venture   \n",
       "2  /funding-round/b44fbb94153f6cdef13083530bb48030               seed   \n",
       "3  /funding-round/650b8f704416801069bb178a1418776b            venture   \n",
       "4  /funding-round/5727accaeaa57461bd22a9bdd945382d            venture   \n",
       "\n",
       "  funding_round_code   funded_at  raised_amount_usd  \n",
       "0                  B  05-01-2015         10000000.0  \n",
       "1                  A  14-10-2014                NaN  \n",
       "2                NaN  01-03-2014           700000.0  \n",
       "3                  B  30-01-2014          3406878.0  \n",
       "4                  A  19-03-2008          2000000.0  "
      ]
     },
     "execution_count": 4,
     "metadata": {},
     "output_type": "execute_result"
    }
   ],
   "source": [
    "# Preview rounds2 data\n",
    "rounds2.head()"
   ]
  },
  {
   "cell_type": "markdown",
   "metadata": {},
   "source": [
    " <b>Observation</b><br>\n",
    " Now we need to merge two data frames based on the best column that would match as key. \n",
    " On analysis <b>permalink</b> and <b>company_permalink</b> seems to be having companies id in both dataframe respectively. <br><br>Since merge is case censitive we need do some tuning to the key values by striping the <b>white space</b> and setting to <b>lower/upper case</b>"
   ]
  },
  {
   "cell_type": "code",
   "execution_count": 5,
   "metadata": {},
   "outputs": [
    {
     "data": {
      "text/plain": [
       "(114944                            /organization/zzzzapp-com\n",
       " 114945                            /organization/zzzzapp-com\n",
       " 114946                                 /organization/ã�eron\n",
       " 114947                               /organization/ã”asys-2\n",
       " 114948    /organization/ä°novatiff-reklam-ve-tanä±tä±m-h...\n",
       " Name: company_permalink, dtype: object,\n",
       " 66363    /organization/zznode-science-and-technology-co...\n",
       " 66364                            /organization/zzzzapp-com\n",
       " 66365                                 /organization/ã�eron\n",
       " 66366                               /organization/ã”asys-2\n",
       " 66367    /organization/ä°novatiff-reklam-ve-tanä±tä±m-h...\n",
       " Name: permalink, dtype: object)"
      ]
     },
     "execution_count": 5,
     "metadata": {},
     "output_type": "execute_result"
    }
   ],
   "source": [
    "rounds2['company_permalink'] = rounds2.company_permalink.str.lower().str.strip()\n",
    "companies['permalink'] = companies.permalink.str.lower().str.strip()\n",
    "(rounds2['company_permalink'].tail(),companies['permalink'].tail())"
   ]
  },
  {
   "cell_type": "markdown",
   "metadata": {},
   "source": [
    "We can still see special characters in our permalinks columns... lets handle the <b>special characters</b> by encoding with ignoring ascii which will remove the special charcaters to make it readable and compatible"
   ]
  },
  {
   "cell_type": "code",
   "execution_count": 6,
   "metadata": {},
   "outputs": [
    {
     "data": {
      "text/plain": [
       "(114944                         b'/organization/zzzzapp-com'\n",
       " 114945                         b'/organization/zzzzapp-com'\n",
       " 114946                                b'/organization/eron'\n",
       " 114947                              b'/organization/asys-2'\n",
       " 114948    b'/organization/novatiff-reklam-ve-tantm-hizme...\n",
       " Name: company_permalink, dtype: object,\n",
       " 66363    b'/organization/zznode-science-and-technology-...\n",
       " 66364                         b'/organization/zzzzapp-com'\n",
       " 66365                                b'/organization/eron'\n",
       " 66366                              b'/organization/asys-2'\n",
       " 66367    b'/organization/novatiff-reklam-ve-tantm-hizme...\n",
       " Name: permalink, dtype: object)"
      ]
     },
     "execution_count": 6,
     "metadata": {},
     "output_type": "execute_result"
    }
   ],
   "source": [
    "rounds2['company_permalink'] = rounds2.company_permalink.str.encode('ascii', 'ignore')\n",
    "companies['permalink'] = companies.permalink.str.encode('ascii', 'ignore')\n",
    "(rounds2['company_permalink'].tail(),companies['permalink'].tail())"
   ]
  },
  {
   "cell_type": "markdown",
   "metadata": {},
   "source": [
    "Okay now the special characters are gone but we see that the values are converted to byte string now lets simply convert the byte string to a normal string"
   ]
  },
  {
   "cell_type": "code",
   "execution_count": 7,
   "metadata": {},
   "outputs": [
    {
     "data": {
      "text/plain": [
       "(114944                            /organization/zzzzapp-com\n",
       " 114945                            /organization/zzzzapp-com\n",
       " 114946                                   /organization/eron\n",
       " 114947                                 /organization/asys-2\n",
       " 114948    /organization/novatiff-reklam-ve-tantm-hizmetl...\n",
       " Name: company_permalink, dtype: object,\n",
       " 66363    /organization/zznode-science-and-technology-co...\n",
       " 66364                            /organization/zzzzapp-com\n",
       " 66365                                   /organization/eron\n",
       " 66366                                 /organization/asys-2\n",
       " 66367    /organization/novatiff-reklam-ve-tantm-hizmetl...\n",
       " Name: permalink, dtype: object)"
      ]
     },
     "execution_count": 7,
     "metadata": {},
     "output_type": "execute_result"
    }
   ],
   "source": [
    "rounds2['company_permalink'] = rounds2.company_permalink.str.decode('unicode_escape')\n",
    "companies['permalink'] = companies.permalink.str.decode('unicode_escape')\n",
    "(rounds2['company_permalink'].tail(),companies['permalink'].tail())"
   ]
  },
  {
   "cell_type": "markdown",
   "metadata": {},
   "source": [
    "Great now the columns are cleaned wihout any special characters... lets proceed with other observations before we merge these dataset"
   ]
  },
  {
   "cell_type": "markdown",
   "metadata": {},
   "source": [
    "### Tabel 1.1 : Understand the Data Set\n",
    "As now the key column is clean, lets find the number of unique companies from each of the dataframes"
   ]
  },
  {
   "cell_type": "code",
   "execution_count": 8,
   "metadata": {},
   "outputs": [
    {
     "data": {
      "text/plain": [
       "66368"
      ]
     },
     "execution_count": 8,
     "metadata": {},
     "output_type": "execute_result"
    }
   ],
   "source": [
    "rounds2['company_permalink'].nunique()"
   ]
  },
  {
   "cell_type": "code",
   "execution_count": 9,
   "metadata": {},
   "outputs": [
    {
     "data": {
      "text/plain": [
       "66368"
      ]
     },
     "execution_count": 9,
     "metadata": {},
     "output_type": "execute_result"
    }
   ],
   "source": [
    "companies['permalink'].nunique()"
   ]
  },
  {
   "cell_type": "code",
   "execution_count": 10,
   "metadata": {},
   "outputs": [
    {
     "data": {
      "text/html": [
       "<div>\n",
       "<style scoped>\n",
       "    .dataframe tbody tr th:only-of-type {\n",
       "        vertical-align: middle;\n",
       "    }\n",
       "\n",
       "    .dataframe tbody tr th {\n",
       "        vertical-align: top;\n",
       "    }\n",
       "\n",
       "    .dataframe thead th {\n",
       "        text-align: right;\n",
       "    }\n",
       "</style>\n",
       "<table border=\"1\" class=\"dataframe\">\n",
       "  <thead>\n",
       "    <tr style=\"text-align: right;\">\n",
       "      <th></th>\n",
       "      <th>0</th>\n",
       "    </tr>\n",
       "  </thead>\n",
       "  <tbody>\n",
       "  </tbody>\n",
       "</table>\n",
       "</div>"
      ],
      "text/plain": [
       "Empty DataFrame\n",
       "Columns: [0]\n",
       "Index: []"
      ]
     },
     "execution_count": 10,
     "metadata": {},
     "output_type": "execute_result"
    }
   ],
   "source": [
    "# check if any company in rounds2 df are not in companies df\n",
    "pd.DataFrame(rounds2['company_permalink'].unique()).loc[~pd.Series(rounds2['company_permalink'].unique()).isin(pd.Series(companies['permalink'].unique())),:]"
   ]
  },
  {
   "cell_type": "code",
   "execution_count": 11,
   "metadata": {},
   "outputs": [
    {
     "data": {
      "text/html": [
       "<div>\n",
       "<style scoped>\n",
       "    .dataframe tbody tr th:only-of-type {\n",
       "        vertical-align: middle;\n",
       "    }\n",
       "\n",
       "    .dataframe tbody tr th {\n",
       "        vertical-align: top;\n",
       "    }\n",
       "\n",
       "    .dataframe thead th {\n",
       "        text-align: right;\n",
       "    }\n",
       "</style>\n",
       "<table border=\"1\" class=\"dataframe\">\n",
       "  <thead>\n",
       "    <tr style=\"text-align: right;\">\n",
       "      <th></th>\n",
       "      <th>0</th>\n",
       "    </tr>\n",
       "  </thead>\n",
       "  <tbody>\n",
       "  </tbody>\n",
       "</table>\n",
       "</div>"
      ],
      "text/plain": [
       "Empty DataFrame\n",
       "Columns: [0]\n",
       "Index: []"
      ]
     },
     "execution_count": 11,
     "metadata": {},
     "output_type": "execute_result"
    }
   ],
   "source": [
    "# check if any company in companies df are not in rounds2 df\n",
    "pd.DataFrame(companies['permalink'].unique()).loc[~pd.Series(companies['permalink'].unique()).isin(pd.Series(rounds2['company_permalink'].unique())),:]"
   ]
  },
  {
   "cell_type": "markdown",
   "metadata": {},
   "source": [
    "As the dataset is clean and hopefully perfect for merge, lets merge rounds2 and companies with left join, 'cause lets not miss values from our rounds2 dataframe with other types of join"
   ]
  },
  {
   "cell_type": "code",
   "execution_count": 12,
   "metadata": {},
   "outputs": [],
   "source": [
    "# Merge the rounds2 and cmpanies dataframe\n",
    "master_frame = rounds2.merge(companies,left_on='company_permalink',right_on='permalink',how='left')"
   ]
  },
  {
   "cell_type": "code",
   "execution_count": 13,
   "metadata": {},
   "outputs": [
    {
     "data": {
      "text/plain": [
       "(114949, 16)"
      ]
     },
     "execution_count": 13,
     "metadata": {},
     "output_type": "execute_result"
    }
   ],
   "source": [
    "master_frame.shape"
   ]
  },
  {
   "cell_type": "code",
   "execution_count": 14,
   "metadata": {},
   "outputs": [],
   "source": [
    "#Function to check null percentage\n",
    "def check_null_percentage(df):\n",
    "    null_data = pd.DataFrame(df.isnull().sum()).reset_index()\n",
    "    null_data.columns = ['Features','Missing_Percent']\n",
    "    null_data['Missing_Percent'] = null_data['Missing_Percent'].apply(lambda x: x / df.shape[0] * 100)\n",
    "    null_data.sort_values('Missing_Percent',ascending=False,inplace=True)\n",
    "    return null_data[null_data['Missing_Percent'] > 0.0].reset_index(drop=True)"
   ]
  },
  {
   "cell_type": "code",
   "execution_count": 15,
   "metadata": {},
   "outputs": [
    {
     "data": {
      "text/html": [
       "<div>\n",
       "<style scoped>\n",
       "    .dataframe tbody tr th:only-of-type {\n",
       "        vertical-align: middle;\n",
       "    }\n",
       "\n",
       "    .dataframe tbody tr th {\n",
       "        vertical-align: top;\n",
       "    }\n",
       "\n",
       "    .dataframe thead th {\n",
       "        text-align: right;\n",
       "    }\n",
       "</style>\n",
       "<table border=\"1\" class=\"dataframe\">\n",
       "  <thead>\n",
       "    <tr style=\"text-align: right;\">\n",
       "      <th></th>\n",
       "      <th>Features</th>\n",
       "      <th>Missing_Percent</th>\n",
       "    </tr>\n",
       "  </thead>\n",
       "  <tbody>\n",
       "    <tr>\n",
       "      <th>0</th>\n",
       "      <td>funding_round_code</td>\n",
       "      <td>72.909725</td>\n",
       "    </tr>\n",
       "    <tr>\n",
       "      <th>1</th>\n",
       "      <td>founded_at</td>\n",
       "      <td>17.852265</td>\n",
       "    </tr>\n",
       "    <tr>\n",
       "      <th>2</th>\n",
       "      <td>raised_amount_usd</td>\n",
       "      <td>17.390321</td>\n",
       "    </tr>\n",
       "    <tr>\n",
       "      <th>3</th>\n",
       "      <td>state_code</td>\n",
       "      <td>9.522484</td>\n",
       "    </tr>\n",
       "    <tr>\n",
       "      <th>4</th>\n",
       "      <td>region</td>\n",
       "      <td>8.844792</td>\n",
       "    </tr>\n",
       "    <tr>\n",
       "      <th>5</th>\n",
       "      <td>city</td>\n",
       "      <td>8.842182</td>\n",
       "    </tr>\n",
       "    <tr>\n",
       "      <th>6</th>\n",
       "      <td>country_code</td>\n",
       "      <td>7.549435</td>\n",
       "    </tr>\n",
       "    <tr>\n",
       "      <th>7</th>\n",
       "      <td>homepage_url</td>\n",
       "      <td>5.336280</td>\n",
       "    </tr>\n",
       "    <tr>\n",
       "      <th>8</th>\n",
       "      <td>category_list</td>\n",
       "      <td>2.966533</td>\n",
       "    </tr>\n",
       "    <tr>\n",
       "      <th>9</th>\n",
       "      <td>name</td>\n",
       "      <td>0.000870</td>\n",
       "    </tr>\n",
       "  </tbody>\n",
       "</table>\n",
       "</div>"
      ],
      "text/plain": [
       "             Features  Missing_Percent\n",
       "0  funding_round_code        72.909725\n",
       "1          founded_at        17.852265\n",
       "2   raised_amount_usd        17.390321\n",
       "3          state_code         9.522484\n",
       "4              region         8.844792\n",
       "5                city         8.842182\n",
       "6        country_code         7.549435\n",
       "7        homepage_url         5.336280\n",
       "8       category_list         2.966533\n",
       "9                name         0.000870"
      ]
     },
     "execution_count": 15,
     "metadata": {},
     "output_type": "execute_result"
    }
   ],
   "source": [
    "check_null_percentage(master_frame)"
   ]
  },
  {
   "cell_type": "code",
   "execution_count": 16,
   "metadata": {},
   "outputs": [],
   "source": [
    "# Removing these columns as it has high percentage of missing values and some of these are unnecessary feature\n",
    "master_frame.drop(['funding_round_code','founded_at','funded_at','status','homepage_url'],inplace=True,axis=1)"
   ]
  },
  {
   "cell_type": "markdown",
   "metadata": {},
   "source": [
    "# Checkpoint 2 : Funding Type Analysis"
   ]
  },
  {
   "cell_type": "markdown",
   "metadata": {},
   "source": [
    "We need to filter out the Nan values before finding the total number of funding types as we are taking the funding types for the invest that has been done"
   ]
  },
  {
   "cell_type": "code",
   "execution_count": 17,
   "metadata": {},
   "outputs": [],
   "source": [
    "# filtering out the nan values from raised_amount_usd\n",
    "master_frame = master_frame[~master_frame.raised_amount_usd.isnull()]"
   ]
  },
  {
   "cell_type": "code",
   "execution_count": 18,
   "metadata": {},
   "outputs": [
    {
     "data": {
      "text/html": [
       "<div>\n",
       "<style scoped>\n",
       "    .dataframe tbody tr th:only-of-type {\n",
       "        vertical-align: middle;\n",
       "    }\n",
       "\n",
       "    .dataframe tbody tr th {\n",
       "        vertical-align: top;\n",
       "    }\n",
       "\n",
       "    .dataframe thead th {\n",
       "        text-align: right;\n",
       "    }\n",
       "</style>\n",
       "<table border=\"1\" class=\"dataframe\">\n",
       "  <thead>\n",
       "    <tr style=\"text-align: right;\">\n",
       "      <th></th>\n",
       "      <th>Features</th>\n",
       "      <th>Missing_Percent</th>\n",
       "    </tr>\n",
       "  </thead>\n",
       "  <tbody>\n",
       "    <tr>\n",
       "      <th>0</th>\n",
       "      <td>state_code</td>\n",
       "      <td>8.007666</td>\n",
       "    </tr>\n",
       "    <tr>\n",
       "      <th>1</th>\n",
       "      <td>region</td>\n",
       "      <td>7.422151</td>\n",
       "    </tr>\n",
       "    <tr>\n",
       "      <th>2</th>\n",
       "      <td>city</td>\n",
       "      <td>7.418991</td>\n",
       "    </tr>\n",
       "    <tr>\n",
       "      <th>3</th>\n",
       "      <td>country_code</td>\n",
       "      <td>6.161607</td>\n",
       "    </tr>\n",
       "    <tr>\n",
       "      <th>4</th>\n",
       "      <td>category_list</td>\n",
       "      <td>1.099422</td>\n",
       "    </tr>\n",
       "    <tr>\n",
       "      <th>5</th>\n",
       "      <td>name</td>\n",
       "      <td>0.001053</td>\n",
       "    </tr>\n",
       "  </tbody>\n",
       "</table>\n",
       "</div>"
      ],
      "text/plain": [
       "        Features  Missing_Percent\n",
       "0     state_code         8.007666\n",
       "1         region         7.422151\n",
       "2           city         7.418991\n",
       "3   country_code         6.161607\n",
       "4  category_list         1.099422\n",
       "5           name         0.001053"
      ]
     },
     "execution_count": 18,
     "metadata": {},
     "output_type": "execute_result"
    }
   ],
   "source": [
    "check_null_percentage(master_frame)"
   ]
  },
  {
   "cell_type": "markdown",
   "metadata": {},
   "source": [
    "Now we have removed the null values to have the raised amount usd null free.\n",
    "\n",
    "Sparks funds wants to choose only four of these Investment Types venture, angel, seed, and private equity... thus filtering our dataset with only these four types of investments"
   ]
  },
  {
   "cell_type": "code",
   "execution_count": 19,
   "metadata": {},
   "outputs": [],
   "source": [
    "master_frame = master_frame[master_frame['funding_round_type'].isin(['venture','seed','angel','private_equity'])]"
   ]
  },
  {
   "cell_type": "markdown",
   "metadata": {},
   "source": [
    "### Table 2.1 Representative Values of Investments for Each of these Funding Types"
   ]
  },
  {
   "cell_type": "code",
   "execution_count": 20,
   "metadata": {
    "scrolled": true
   },
   "outputs": [
    {
     "data": {
      "text/plain": [
       "venture           50228\n",
       "seed              23603\n",
       "angel              4860\n",
       "private_equity     1936\n",
       "Name: funding_round_type, dtype: int64"
      ]
     },
     "execution_count": 20,
     "metadata": {},
     "output_type": "execute_result"
    }
   ],
   "source": [
    "master_frame.funding_round_type.value_counts()"
   ]
  },
  {
   "cell_type": "code",
   "execution_count": 21,
   "metadata": {},
   "outputs": [
    {
     "data": {
      "image/png": "[encoded data removed]",
      "text/plain": [
       "<Figure size 432x288 with 1 Axes>"
      ]
     },
     "metadata": {},
     "output_type": "display_data"
    }
   ],
   "source": [
    "master_frame.funding_round_type.value_counts().plot.pie();\n",
    "plt.title(\"Ratio of Investments for selected Funding Types\")\n",
    "plt.ylabel('');"
   ]
  },
  {
   "cell_type": "markdown",
   "metadata": {},
   "source": [
    "<b>Observation:</b><br>\n",
    "Venture has more number of investments overall<br><br>\n",
    "Lets also see if we have <b>outliers</b> for each fundings as we have to select the best funding type based on mean / median"
   ]
  },
  {
   "cell_type": "code",
   "execution_count": 22,
   "metadata": {},
   "outputs": [
    {
     "data": {
      "text/html": [
       "<div>\n",
       "<style scoped>\n",
       "    .dataframe tbody tr th:only-of-type {\n",
       "        vertical-align: middle;\n",
       "    }\n",
       "\n",
       "    .dataframe tbody tr th {\n",
       "        vertical-align: top;\n",
       "    }\n",
       "\n",
       "    .dataframe thead th {\n",
       "        text-align: right;\n",
       "    }\n",
       "</style>\n",
       "<table border=\"1\" class=\"dataframe\">\n",
       "  <thead>\n",
       "    <tr style=\"text-align: right;\">\n",
       "      <th></th>\n",
       "      <th>count</th>\n",
       "      <th>mean</th>\n",
       "      <th>std</th>\n",
       "      <th>min</th>\n",
       "      <th>25%</th>\n",
       "      <th>50%</th>\n",
       "      <th>75%</th>\n",
       "      <th>max</th>\n",
       "    </tr>\n",
       "    <tr>\n",
       "      <th>funding_round_type</th>\n",
       "      <th></th>\n",
       "      <th></th>\n",
       "      <th></th>\n",
       "      <th></th>\n",
       "      <th></th>\n",
       "      <th></th>\n",
       "      <th></th>\n",
       "      <th></th>\n",
       "    </tr>\n",
       "  </thead>\n",
       "  <tbody>\n",
       "    <tr>\n",
       "      <th>angel</th>\n",
       "      <td>4860.0</td>\n",
       "      <td>958694.4697530865</td>\n",
       "      <td>7404397.122129396</td>\n",
       "      <td>0.0</td>\n",
       "      <td>150000.0</td>\n",
       "      <td>400000.0</td>\n",
       "      <td>1000000.0</td>\n",
       "      <td>494511992.0</td>\n",
       "    </tr>\n",
       "    <tr>\n",
       "      <th>private_equity</th>\n",
       "      <td>1936.0</td>\n",
       "      <td>73308593.02944215</td>\n",
       "      <td>198113458.41372654</td>\n",
       "      <td>0.0</td>\n",
       "      <td>5000000.0</td>\n",
       "      <td>20000000.0</td>\n",
       "      <td>75000000.0</td>\n",
       "      <td>4745460219.0</td>\n",
       "    </tr>\n",
       "    <tr>\n",
       "      <th>seed</th>\n",
       "      <td>23603.0</td>\n",
       "      <td>719817.9969071728</td>\n",
       "      <td>2221732.800078657</td>\n",
       "      <td>0.0</td>\n",
       "      <td>55000.0</td>\n",
       "      <td>275000.0</td>\n",
       "      <td>1000000.0</td>\n",
       "      <td>200000000.0</td>\n",
       "    </tr>\n",
       "    <tr>\n",
       "      <th>venture</th>\n",
       "      <td>50228.0</td>\n",
       "      <td>11748949.129489528</td>\n",
       "      <td>86352066.55796298</td>\n",
       "      <td>0.0</td>\n",
       "      <td>1600901.75</td>\n",
       "      <td>5000000.0</td>\n",
       "      <td>12000000.0</td>\n",
       "      <td>17600000000.0</td>\n",
       "    </tr>\n",
       "  </tbody>\n",
       "</table>\n",
       "</div>"
      ],
      "text/plain": [
       "                      count                mean                 std  min  \\\n",
       "funding_round_type                                                         \n",
       "angel                4860.0   958694.4697530865   7404397.122129396  0.0   \n",
       "private_equity       1936.0   73308593.02944215  198113458.41372654  0.0   \n",
       "seed                23603.0   719817.9969071728   2221732.800078657  0.0   \n",
       "venture             50228.0  11748949.129489528   86352066.55796298  0.0   \n",
       "\n",
       "                           25%         50%         75%            max  \n",
       "funding_round_type                                                     \n",
       "angel                 150000.0    400000.0   1000000.0    494511992.0  \n",
       "private_equity       5000000.0  20000000.0  75000000.0   4745460219.0  \n",
       "seed                   55000.0    275000.0   1000000.0    200000000.0  \n",
       "venture             1600901.75   5000000.0  12000000.0  17600000000.0  "
      ]
     },
     "execution_count": 22,
     "metadata": {},
     "output_type": "execute_result"
    }
   ],
   "source": [
    "master_frame.groupby('funding_round_type')['raised_amount_usd'].describe().astype(str)"
   ]
  },
  {
   "cell_type": "markdown",
   "metadata": {},
   "source": [
    "Now we have find a way to analyse and come up with a analysis to find a funding type that best fits betwen 5M to 15M as Spark funds are will to invest in companies between that range "
   ]
  },
  {
   "cell_type": "code",
   "execution_count": 23,
   "metadata": {
    "scrolled": false
   },
   "outputs": [
    {
     "data": {
      "image/png": "[encoded data removed]",
      "text/plain": [
       "<Figure size 864x432 with 2 Axes>"
      ]
     },
     "metadata": {
      "needs_background": "light"
     },
     "output_type": "display_data"
    }
   ],
   "source": [
    "# From the above table it shows than most of the values lie below 20000000 so lets plot a box plot and see if there aren't any extreme outliers\n",
    "fig , ax = plt.subplots(1,2,figsize=(12,6))\n",
    "master_frame.set_index('funding_round_type').boxplot(by='funding_round_type',column='raised_amount_usd',ax=ax[0]);\n",
    "ax[0].set_ylabel('Investment Amount in USD (10 million scale)')\n",
    "master_frame[master_frame.raised_amount_usd < 20000000].set_index('funding_round_type').boxplot(by='funding_round_type',column='raised_amount_usd', ax=ax[1]);\n",
    "plt.style.use('default')\n",
    "#plt.title(\"Boxplot representation for Funding Type\");\n",
    "ax[0].set_title('Full view')\n",
    "ax[1].set_title('zoomed at area with more investment')\n",
    "ax[0].set_xlabel('')\n",
    "ax[1].set_xlabel('')\n",
    "fig.text(0.5, 0.04, 'Funding Type', ha='center');"
   ]
  },
  {
   "cell_type": "markdown",
   "metadata": {},
   "source": [
    "The above plot gives us a clean view on investment amounts without any extreme outliers<br>\n",
    "Since we have outliers we can go with median but before that lets compare mean and median values closely"
   ]
  },
  {
   "cell_type": "code",
   "execution_count": 24,
   "metadata": {},
   "outputs": [
    {
     "data": {
      "text/html": [
       "<div>\n",
       "<style scoped>\n",
       "    .dataframe tbody tr th:only-of-type {\n",
       "        vertical-align: middle;\n",
       "    }\n",
       "\n",
       "    .dataframe tbody tr th {\n",
       "        vertical-align: top;\n",
       "    }\n",
       "\n",
       "    .dataframe thead th {\n",
       "        text-align: right;\n",
       "    }\n",
       "</style>\n",
       "<table border=\"1\" class=\"dataframe\">\n",
       "  <thead>\n",
       "    <tr style=\"text-align: right;\">\n",
       "      <th></th>\n",
       "      <th>mean</th>\n",
       "      <th>median</th>\n",
       "    </tr>\n",
       "    <tr>\n",
       "      <th>funding_round_type</th>\n",
       "      <th></th>\n",
       "      <th></th>\n",
       "    </tr>\n",
       "  </thead>\n",
       "  <tbody>\n",
       "    <tr>\n",
       "      <th>angel</th>\n",
       "      <td>958694.5</td>\n",
       "      <td>400000.0</td>\n",
       "    </tr>\n",
       "    <tr>\n",
       "      <th>private_equity</th>\n",
       "      <td>73308593.0</td>\n",
       "      <td>20000000.0</td>\n",
       "    </tr>\n",
       "    <tr>\n",
       "      <th>seed</th>\n",
       "      <td>719818.0</td>\n",
       "      <td>275000.0</td>\n",
       "    </tr>\n",
       "    <tr>\n",
       "      <th>venture</th>\n",
       "      <td>11748949.1</td>\n",
       "      <td>5000000.0</td>\n",
       "    </tr>\n",
       "  </tbody>\n",
       "</table>\n",
       "</div>"
      ],
      "text/plain": [
       "                          mean      median\n",
       "funding_round_type                        \n",
       "angel                 958694.5    400000.0\n",
       "private_equity      73308593.0  20000000.0\n",
       "seed                  719818.0    275000.0\n",
       "venture             11748949.1   5000000.0"
      ]
     },
     "execution_count": 24,
     "metadata": {},
     "output_type": "execute_result"
    }
   ],
   "source": [
    "master_frame.groupby('funding_round_type')['raised_amount_usd'].agg(['mean','median']).apply(lambda x: x.apply(lambda y: float('%.1f' % np.round(y,1))))"
   ]
  },
  {
   "cell_type": "markdown",
   "metadata": {},
   "source": [
    "From the above table we can clearly say that it will be a good decision to go with median as the mean value is too high becusae of outliers. As it best fits the investment amoutn condition for 5M - 15M"
   ]
  },
  {
   "cell_type": "code",
   "execution_count": 25,
   "metadata": {},
   "outputs": [],
   "source": [
    "# filtering our values to new dataframe with venture as it lies between 5M to 15M \n",
    "master_frame_ft = master_frame[master_frame[\"funding_round_type\"] == 'venture']"
   ]
  },
  {
   "cell_type": "markdown",
   "metadata": {},
   "source": [
    "# Checkpoint 3 : Country Analysis"
   ]
  },
  {
   "cell_type": "code",
   "execution_count": 26,
   "metadata": {},
   "outputs": [],
   "source": [
    "# removing these columns as we now know that only country_code column will be made use \n",
    "# as Spark funds wantes to to find the top9 countries\n",
    "master_frame_ft = master_frame_ft.drop(['region','city','state_code'],axis=1)"
   ]
  },
  {
   "cell_type": "code",
   "execution_count": 27,
   "metadata": {},
   "outputs": [
    {
     "data": {
      "text/plain": [
       "Index(['USA', 'CHN', 'GBR', 'IND', 'CAN', 'FRA', 'ISR', 'DEU', 'JPN'], dtype='object', name='country_code')"
      ]
     },
     "execution_count": 27,
     "metadata": {},
     "output_type": "execute_result"
    }
   ],
   "source": [
    "# Finding top 9 countries with most raised amount\n",
    "master_frame_ft.groupby('country_code')['raised_amount_usd'].sum().sort_values(ascending=False).astype(str).index[:9]"
   ]
  },
  {
   "cell_type": "code",
   "execution_count": 28,
   "metadata": {},
   "outputs": [],
   "source": [
    "# take the top 9 countries to a new dataFrame\n",
    "top9 = master_frame_ft[master_frame_ft.country_code.isin(master_frame_ft.groupby('country_code')['raised_amount_usd'].sum().sort_values().astype(str).index[-9:])]"
   ]
  },
  {
   "cell_type": "code",
   "execution_count": 29,
   "metadata": {},
   "outputs": [
    {
     "data": {
      "text/plain": [
       "USA    36139\n",
       "GBR     2055\n",
       "CHN     1564\n",
       "CAN     1256\n",
       "FRA      917\n",
       "IND      824\n",
       "ISR      796\n",
       "DEU      558\n",
       "JPN      274\n",
       "Name: country_code, dtype: int64"
      ]
     },
     "execution_count": 29,
     "metadata": {},
     "output_type": "execute_result"
    }
   ],
   "source": [
    "# for analysis finding the number of investments in each country\n",
    "top9.country_code.value_counts()"
   ]
  },
  {
   "cell_type": "code",
   "execution_count": 30,
   "metadata": {},
   "outputs": [],
   "source": [
    "# Read english speaking countries from wiki page\n",
    "countries_df = pd.read_html('https://en.wikipedia.org/wiki/List_of_territorial_entities_where_English_is_an_official_language')\n",
    "# Downloaded country data for iso from https://www.kaggle.com/andradaolteanu/country-mapping-iso-continent-region\n",
    "country_iso = pd.read_csv('continents2.csv')"
   ]
  },
  {
   "cell_type": "code",
   "execution_count": 31,
   "metadata": {},
   "outputs": [],
   "source": [
    "# removing unnecessary coulmns since we need only alpha-3 value and its country name\n",
    "country_iso = country_iso[['name','alpha-3']]"
   ]
  },
  {
   "cell_type": "code",
   "execution_count": 32,
   "metadata": {},
   "outputs": [],
   "source": [
    "# filter the HTML dataframe tables and map it to a new Series containing the english speaking country list\n",
    "country_en = pd.Series([],dtype=pd.StringDtype())\n",
    "for i in range(0,6):\n",
    "    if i <= 2:\n",
    "        country_en = country_en.append(countries_df[i].Country)\n",
    "    else:\n",
    "        country_en = country_en.append(countries_df[i].Entity)"
   ]
  },
  {
   "cell_type": "code",
   "execution_count": 33,
   "metadata": {},
   "outputs": [],
   "source": [
    "# Remove additional characters and numbers\n",
    "country_en = country_en.str.replace('\\[.*$','',regex=True)\n",
    "country_en = country_en.str.replace('[\\d]*$','',regex=True)\n",
    "# Change it to uppdercase and trim spaces\n",
    "country_en = country_en.str.upper().str.strip()"
   ]
  },
  {
   "cell_type": "code",
   "execution_count": 34,
   "metadata": {},
   "outputs": [],
   "source": [
    "# filter the country data for english speaking countries that we got\n",
    "country_iso = country_iso[country_iso.name.str.upper().str.strip().isin(country_en)]"
   ]
  },
  {
   "cell_type": "code",
   "execution_count": 35,
   "metadata": {},
   "outputs": [
    {
     "data": {
      "text/html": [
       "<div>\n",
       "<style scoped>\n",
       "    .dataframe tbody tr th:only-of-type {\n",
       "        vertical-align: middle;\n",
       "    }\n",
       "\n",
       "    .dataframe tbody tr th {\n",
       "        vertical-align: top;\n",
       "    }\n",
       "\n",
       "    .dataframe thead th {\n",
       "        text-align: right;\n",
       "    }\n",
       "</style>\n",
       "<table border=\"1\" class=\"dataframe\">\n",
       "  <thead>\n",
       "    <tr style=\"text-align: right;\">\n",
       "      <th></th>\n",
       "      <th>name</th>\n",
       "    </tr>\n",
       "  </thead>\n",
       "  <tbody>\n",
       "    <tr>\n",
       "      <th>26</th>\n",
       "      <td>MICRONESIA</td>\n",
       "    </tr>\n",
       "    <tr>\n",
       "      <th>2</th>\n",
       "      <td>BRUNEI</td>\n",
       "    </tr>\n",
       "    <tr>\n",
       "      <th>0</th>\n",
       "      <td>AKROTIRI AND DHEKELIA</td>\n",
       "    </tr>\n",
       "    <tr>\n",
       "      <th>4</th>\n",
       "      <td>BRITISH VIRGIN ISLANDS</td>\n",
       "    </tr>\n",
       "    <tr>\n",
       "      <th>8</th>\n",
       "      <td>FALKLAND ISLANDS</td>\n",
       "    </tr>\n",
       "    <tr>\n",
       "      <th>17</th>\n",
       "      <td>PITCAIRN ISLANDS</td>\n",
       "    </tr>\n",
       "    <tr>\n",
       "      <th>19</th>\n",
       "      <td>ROTUMA</td>\n",
       "    </tr>\n",
       "    <tr>\n",
       "      <th>20</th>\n",
       "      <td>SINT MAARTEN</td>\n",
       "    </tr>\n",
       "    <tr>\n",
       "      <th>22</th>\n",
       "      <td>U.S. VIRGIN ISLANDS</td>\n",
       "    </tr>\n",
       "    <tr>\n",
       "      <th>2</th>\n",
       "      <td>MACAU</td>\n",
       "    </tr>\n",
       "  </tbody>\n",
       "</table>\n",
       "</div>"
      ],
      "text/plain": [
       "                      name\n",
       "26              MICRONESIA\n",
       "2                   BRUNEI\n",
       "0    AKROTIRI AND DHEKELIA\n",
       "4   BRITISH VIRGIN ISLANDS\n",
       "8         FALKLAND ISLANDS\n",
       "17        PITCAIRN ISLANDS\n",
       "19                  ROTUMA\n",
       "20            SINT MAARTEN\n",
       "22     U.S. VIRGIN ISLANDS\n",
       "2                    MACAU"
      ]
     },
     "execution_count": 35,
     "metadata": {},
     "output_type": "execute_result"
    }
   ],
   "source": [
    "# check if any countries data are missing from the Kaggle dataset\n",
    "missing_data = pd.DataFrame([])\n",
    "missing_data['name'] = country_en[~country_en.isin(country_iso.name.str.upper().str.strip())]\n",
    "missing_data"
   ]
  },
  {
   "cell_type": "code",
   "execution_count": 36,
   "metadata": {},
   "outputs": [],
   "source": [
    "# retrieved the missing values referred from iso.org\n",
    "missing_data['alpha-3'] = np.array(['FSM','BRN','','VGB','FLK','PCN','','SXM','VIR','MAC'])"
   ]
  },
  {
   "cell_type": "code",
   "execution_count": 37,
   "metadata": {},
   "outputs": [],
   "source": [
    "# Append the missing data to country data \n",
    "country_iso = country_iso.append(missing_data).reset_index(drop=True)"
   ]
  },
  {
   "cell_type": "code",
   "execution_count": 38,
   "metadata": {},
   "outputs": [],
   "source": [
    "# Filter the top9 dataframe for countries that speaks english as offical language\n",
    "top9_en = top9[top9.country_code.isin(country_iso['alpha-3'])]"
   ]
  },
  {
   "cell_type": "code",
   "execution_count": 39,
   "metadata": {},
   "outputs": [
    {
     "data": {
      "text/plain": [
       "country_code\n",
       "USA    422510842796.0\n",
       "GBR     20245627416.0\n",
       "IND     14391858718.0\n",
       "CAN      9583332317.0\n",
       "ISR      6907514579.0\n",
       "Name: raised_amount_usd, dtype: object"
      ]
     },
     "execution_count": 39,
     "metadata": {},
     "output_type": "execute_result"
    }
   ],
   "source": [
    "# Find the top 3 countries english speaking countires that has higher raise amount\n",
    "top9_en.groupby('country_code')['raised_amount_usd'].sum().sort_values(ascending=False).astype(str)"
   ]
  },
  {
   "cell_type": "code",
   "execution_count": 40,
   "metadata": {},
   "outputs": [
    {
     "data": {
      "image/png": "[encoded data removed]",
      "text/plain": [
       "<Figure size 640x480 with 2 Axes>"
      ]
     },
     "metadata": {},
     "output_type": "display_data"
    }
   ],
   "source": [
    "top9_sum = top9_en.groupby('country_code')['raised_amount_usd'].sum()\n",
    "top9_sum['USA'] = top9_sum['USA'] /10 # for visualization purpose\n",
    "colors = cm.viridis(top9_sum / float(max(top9_sum)))\n",
    "plot = plt.scatter(top9_sum, top9_sum, c = top9_sum, cmap = 'viridis')\n",
    "plt.clf()\n",
    "cbar = plt.colorbar(plot)\n",
    "plt.bar(range(len(top9_sum)), top9_sum, color = colors)\n",
    "plt.gca().set_xticklabels(['','CAN','GBR','IND','ISN','USA'])\n",
    "plt.yscale(\"log\")\n",
    "plt.title('Investment amount percentage ratio for \\n English speaking countires from top9 investments')\n",
    "plt.xlabel('English Speaking \\n Countries')\n",
    "plt.gca().yaxis.set_visible(False)\n",
    "cbar.set_ticks([0.5e+10,1.0e+10,1.5e+10,2.0e+10,2.5e+10, 3.0e+10,3.5e+10,4.0e+10]);\n",
    "cbar.ax.set_yticklabels(['0','12.5','25','37.5','50','62.5','75','87.5']);\n",
    "plt.show();"
   ]
  },
  {
   "cell_type": "markdown",
   "metadata": {},
   "source": [
    "<b>Observation</b><br>\n",
    "Hence we can observe that the top three english speaking contries are USA, GBR and IND"
   ]
  },
  {
   "cell_type": "code",
   "execution_count": 41,
   "metadata": {},
   "outputs": [],
   "source": [
    "# Create a new Dataframe for data from the top three countires\n",
    "top3 = top9_en[top9_en.country_code.isin(['USA','GBR','IND'])]"
   ]
  },
  {
   "cell_type": "markdown",
   "metadata": {},
   "source": [
    "# Checkpoint 4 : Sector Analysis 1"
   ]
  },
  {
   "cell_type": "markdown",
   "metadata": {},
   "source": [
    "As discussed with CEO we have to consider only the first value before as a primay sector or lets impute a logic to extract the primary sectors and store it in a new column"
   ]
  },
  {
   "cell_type": "code",
   "execution_count": 42,
   "metadata": {
    "scrolled": false
   },
   "outputs": [
    {
     "name": "stderr",
     "output_type": "stream",
     "text": [
      "C:\\ProgramData\\Anaconda3\\lib\\site-packages\\pandas\\core\\indexing.py:845: SettingWithCopyWarning: \n",
      "A value is trying to be set on a copy of a slice from a DataFrame.\n",
      "Try using .loc[row_indexer,col_indexer] = value instead\n",
      "\n",
      "See the caveats in the documentation: https://pandas.pydata.org/pandas-docs/stable/user_guide/indexing.html#returning-a-view-versus-a-copy\n",
      "  self.obj[key] = _infer_fill_value(value)\n",
      "C:\\ProgramData\\Anaconda3\\lib\\site-packages\\pandas\\core\\indexing.py:966: SettingWithCopyWarning: \n",
      "A value is trying to be set on a copy of a slice from a DataFrame.\n",
      "Try using .loc[row_indexer,col_indexer] = value instead\n",
      "\n",
      "See the caveats in the documentation: https://pandas.pydata.org/pandas-docs/stable/user_guide/indexing.html#returning-a-view-versus-a-copy\n",
      "  self.obj[item] = s\n"
     ]
    }
   ],
   "source": [
    "# Get the Primary sector data to a new column\n",
    "top3.loc[:,'primary_sector'] = top3.category_list.str.replace(\"\\|.*$\",\"\",regex=True)"
   ]
  },
  {
   "cell_type": "code",
   "execution_count": 43,
   "metadata": {},
   "outputs": [],
   "source": [
    "# Read the data from the mapping file\n",
    "mapping = pd.read_csv('mapping.csv')"
   ]
  },
  {
   "cell_type": "code",
   "execution_count": 44,
   "metadata": {},
   "outputs": [],
   "source": [
    "# renaming category_list to primary sector as we will me using priary_sectory as our key column\n",
    "# from our top3 dataframe just to avoide confusion as there is already a category_list in top3 df\n",
    "mapping.rename(columns={'category_list':'primary_sector'},inplace=True)"
   ]
  },
  {
   "cell_type": "code",
   "execution_count": 45,
   "metadata": {},
   "outputs": [
    {
     "data": {
      "text/plain": [
       "primary_sector                             1\n",
       "Automotive & Sports                        0\n",
       "Blanks                                     0\n",
       "Cleantech / Semiconductors                 0\n",
       "Entertainment                              0\n",
       "Health                                     0\n",
       "Manufacturing                              0\n",
       "News, Search and Messaging                 0\n",
       "Others                                     0\n",
       "Social, Finance, Analytics, Advertising    0\n",
       "dtype: int64"
      ]
     },
     "execution_count": 45,
     "metadata": {},
     "output_type": "execute_result"
    }
   ],
   "source": [
    "# Check for null values\n",
    "mapping.isnull().sum()"
   ]
  },
  {
   "cell_type": "code",
   "execution_count": 46,
   "metadata": {},
   "outputs": [
    {
     "data": {
      "text/plain": [
       "primary_sector                             object\n",
       "Automotive & Sports                         int64\n",
       "Blanks                                      int64\n",
       "Cleantech / Semiconductors                  int64\n",
       "Entertainment                               int64\n",
       "Health                                      int64\n",
       "Manufacturing                               int64\n",
       "News, Search and Messaging                  int64\n",
       "Others                                      int64\n",
       "Social, Finance, Analytics, Advertising     int64\n",
       "dtype: object"
      ]
     },
     "execution_count": 46,
     "metadata": {},
     "output_type": "execute_result"
    }
   ],
   "source": [
    "# check the datatype of the columns\n",
    "mapping.dtypes"
   ]
  },
  {
   "cell_type": "code",
   "execution_count": 47,
   "metadata": {},
   "outputs": [],
   "source": [
    "# multiple the column values with its column name so all the 1 values will have the sector name and zeros will become empty string\n",
    "for cateory_name in mapping.columns[1:]:\n",
    "    mapping[cateory_name] = mapping[cateory_name].apply(lambda x: int(x)*str(cateory_name))"
   ]
  },
  {
   "cell_type": "code",
   "execution_count": 48,
   "metadata": {},
   "outputs": [
    {
     "data": {
      "text/html": [
       "<div>\n",
       "<style scoped>\n",
       "    .dataframe tbody tr th:only-of-type {\n",
       "        vertical-align: middle;\n",
       "    }\n",
       "\n",
       "    .dataframe tbody tr th {\n",
       "        vertical-align: top;\n",
       "    }\n",
       "\n",
       "    .dataframe thead th {\n",
       "        text-align: right;\n",
       "    }\n",
       "</style>\n",
       "<table border=\"1\" class=\"dataframe\">\n",
       "  <thead>\n",
       "    <tr style=\"text-align: right;\">\n",
       "      <th></th>\n",
       "      <th>primary_sector</th>\n",
       "      <th>Automotive &amp; Sports</th>\n",
       "      <th>Blanks</th>\n",
       "      <th>Cleantech / Semiconductors</th>\n",
       "      <th>Entertainment</th>\n",
       "      <th>Health</th>\n",
       "      <th>Manufacturing</th>\n",
       "      <th>News, Search and Messaging</th>\n",
       "      <th>Others</th>\n",
       "      <th>Social, Finance, Analytics, Advertising</th>\n",
       "    </tr>\n",
       "  </thead>\n",
       "  <tbody>\n",
       "    <tr>\n",
       "      <th>0</th>\n",
       "      <td>NaN</td>\n",
       "      <td></td>\n",
       "      <td>Blanks</td>\n",
       "      <td></td>\n",
       "      <td></td>\n",
       "      <td></td>\n",
       "      <td></td>\n",
       "      <td></td>\n",
       "      <td></td>\n",
       "      <td></td>\n",
       "    </tr>\n",
       "    <tr>\n",
       "      <th>1</th>\n",
       "      <td>3D</td>\n",
       "      <td></td>\n",
       "      <td></td>\n",
       "      <td></td>\n",
       "      <td></td>\n",
       "      <td></td>\n",
       "      <td>Manufacturing</td>\n",
       "      <td></td>\n",
       "      <td></td>\n",
       "      <td></td>\n",
       "    </tr>\n",
       "    <tr>\n",
       "      <th>2</th>\n",
       "      <td>3D Printing</td>\n",
       "      <td></td>\n",
       "      <td></td>\n",
       "      <td></td>\n",
       "      <td></td>\n",
       "      <td></td>\n",
       "      <td>Manufacturing</td>\n",
       "      <td></td>\n",
       "      <td></td>\n",
       "      <td></td>\n",
       "    </tr>\n",
       "    <tr>\n",
       "      <th>3</th>\n",
       "      <td>3D Technology</td>\n",
       "      <td></td>\n",
       "      <td></td>\n",
       "      <td></td>\n",
       "      <td></td>\n",
       "      <td></td>\n",
       "      <td>Manufacturing</td>\n",
       "      <td></td>\n",
       "      <td></td>\n",
       "      <td></td>\n",
       "    </tr>\n",
       "    <tr>\n",
       "      <th>4</th>\n",
       "      <td>Accounting</td>\n",
       "      <td></td>\n",
       "      <td></td>\n",
       "      <td></td>\n",
       "      <td></td>\n",
       "      <td></td>\n",
       "      <td></td>\n",
       "      <td></td>\n",
       "      <td></td>\n",
       "      <td>Social, Finance, Analytics, Advertising</td>\n",
       "    </tr>\n",
       "  </tbody>\n",
       "</table>\n",
       "</div>"
      ],
      "text/plain": [
       "  primary_sector Automotive & Sports  Blanks Cleantech / Semiconductors  \\\n",
       "0            NaN                      Blanks                              \n",
       "1             3D                                                          \n",
       "2    3D Printing                                                          \n",
       "3  3D Technology                                                          \n",
       "4     Accounting                                                          \n",
       "\n",
       "  Entertainment Health  Manufacturing News, Search and Messaging Others  \\\n",
       "0                                                                         \n",
       "1                       Manufacturing                                     \n",
       "2                       Manufacturing                                     \n",
       "3                       Manufacturing                                     \n",
       "4                                                                         \n",
       "\n",
       "   Social, Finance, Analytics, Advertising  \n",
       "0                                           \n",
       "1                                           \n",
       "2                                           \n",
       "3                                           \n",
       "4  Social, Finance, Analytics, Advertising  "
      ]
     },
     "execution_count": 48,
     "metadata": {},
     "output_type": "execute_result"
    }
   ],
   "source": [
    "mapping.head()"
   ]
  },
  {
   "cell_type": "code",
   "execution_count": 49,
   "metadata": {},
   "outputs": [],
   "source": [
    "# join all the columns to form a new column called main_sector\n",
    "mapping['main_sector'] = mapping.iloc[:,1:].apply(''.join, axis=1)"
   ]
  },
  {
   "cell_type": "code",
   "execution_count": 50,
   "metadata": {},
   "outputs": [
    {
     "data": {
      "text/html": [
       "<div>\n",
       "<style scoped>\n",
       "    .dataframe tbody tr th:only-of-type {\n",
       "        vertical-align: middle;\n",
       "    }\n",
       "\n",
       "    .dataframe tbody tr th {\n",
       "        vertical-align: top;\n",
       "    }\n",
       "\n",
       "    .dataframe thead th {\n",
       "        text-align: right;\n",
       "    }\n",
       "</style>\n",
       "<table border=\"1\" class=\"dataframe\">\n",
       "  <thead>\n",
       "    <tr style=\"text-align: right;\">\n",
       "      <th></th>\n",
       "      <th>primary_sector</th>\n",
       "      <th>Automotive &amp; Sports</th>\n",
       "      <th>Blanks</th>\n",
       "      <th>Cleantech / Semiconductors</th>\n",
       "      <th>Entertainment</th>\n",
       "      <th>Health</th>\n",
       "      <th>Manufacturing</th>\n",
       "      <th>News, Search and Messaging</th>\n",
       "      <th>Others</th>\n",
       "      <th>Social, Finance, Analytics, Advertising</th>\n",
       "      <th>main_sector</th>\n",
       "    </tr>\n",
       "  </thead>\n",
       "  <tbody>\n",
       "    <tr>\n",
       "      <th>0</th>\n",
       "      <td>NaN</td>\n",
       "      <td></td>\n",
       "      <td>Blanks</td>\n",
       "      <td></td>\n",
       "      <td></td>\n",
       "      <td></td>\n",
       "      <td></td>\n",
       "      <td></td>\n",
       "      <td></td>\n",
       "      <td></td>\n",
       "      <td>Blanks</td>\n",
       "    </tr>\n",
       "    <tr>\n",
       "      <th>1</th>\n",
       "      <td>3D</td>\n",
       "      <td></td>\n",
       "      <td></td>\n",
       "      <td></td>\n",
       "      <td></td>\n",
       "      <td></td>\n",
       "      <td>Manufacturing</td>\n",
       "      <td></td>\n",
       "      <td></td>\n",
       "      <td></td>\n",
       "      <td>Manufacturing</td>\n",
       "    </tr>\n",
       "    <tr>\n",
       "      <th>2</th>\n",
       "      <td>3D Printing</td>\n",
       "      <td></td>\n",
       "      <td></td>\n",
       "      <td></td>\n",
       "      <td></td>\n",
       "      <td></td>\n",
       "      <td>Manufacturing</td>\n",
       "      <td></td>\n",
       "      <td></td>\n",
       "      <td></td>\n",
       "      <td>Manufacturing</td>\n",
       "    </tr>\n",
       "    <tr>\n",
       "      <th>3</th>\n",
       "      <td>3D Technology</td>\n",
       "      <td></td>\n",
       "      <td></td>\n",
       "      <td></td>\n",
       "      <td></td>\n",
       "      <td></td>\n",
       "      <td>Manufacturing</td>\n",
       "      <td></td>\n",
       "      <td></td>\n",
       "      <td></td>\n",
       "      <td>Manufacturing</td>\n",
       "    </tr>\n",
       "    <tr>\n",
       "      <th>4</th>\n",
       "      <td>Accounting</td>\n",
       "      <td></td>\n",
       "      <td></td>\n",
       "      <td></td>\n",
       "      <td></td>\n",
       "      <td></td>\n",
       "      <td></td>\n",
       "      <td></td>\n",
       "      <td></td>\n",
       "      <td>Social, Finance, Analytics, Advertising</td>\n",
       "      <td>Social, Finance, Analytics, Advertising</td>\n",
       "    </tr>\n",
       "  </tbody>\n",
       "</table>\n",
       "</div>"
      ],
      "text/plain": [
       "  primary_sector Automotive & Sports  Blanks Cleantech / Semiconductors  \\\n",
       "0            NaN                      Blanks                              \n",
       "1             3D                                                          \n",
       "2    3D Printing                                                          \n",
       "3  3D Technology                                                          \n",
       "4     Accounting                                                          \n",
       "\n",
       "  Entertainment Health  Manufacturing News, Search and Messaging Others  \\\n",
       "0                                                                         \n",
       "1                       Manufacturing                                     \n",
       "2                       Manufacturing                                     \n",
       "3                       Manufacturing                                     \n",
       "4                                                                         \n",
       "\n",
       "   Social, Finance, Analytics, Advertising  \\\n",
       "0                                            \n",
       "1                                            \n",
       "2                                            \n",
       "3                                            \n",
       "4  Social, Finance, Analytics, Advertising   \n",
       "\n",
       "                               main_sector  \n",
       "0                                   Blanks  \n",
       "1                            Manufacturing  \n",
       "2                            Manufacturing  \n",
       "3                            Manufacturing  \n",
       "4  Social, Finance, Analytics, Advertising  "
      ]
     },
     "execution_count": 50,
     "metadata": {},
     "output_type": "execute_result"
    }
   ],
   "source": [
    "mapping.head()"
   ]
  },
  {
   "cell_type": "code",
   "execution_count": 51,
   "metadata": {},
   "outputs": [],
   "source": [
    "# filter other columns as thery are not necessary\n",
    "mapping = mapping[['primary_sector','main_sector']]"
   ]
  },
  {
   "cell_type": "code",
   "execution_count": 52,
   "metadata": {},
   "outputs": [
    {
     "data": {
      "text/plain": [
       "False"
      ]
     },
     "execution_count": 52,
     "metadata": {},
     "output_type": "execute_result"
    }
   ],
   "source": [
    "# randomly pick a category and check if its present\n",
    "'Analytics' in mapping.primary_sector.values"
   ]
  },
  {
   "cell_type": "code",
   "execution_count": 53,
   "metadata": {},
   "outputs": [
    {
     "data": {
      "text/plain": [
       "array(['A0lytics', 'Big Data A0lytics', 'Bioinformatics',\n",
       "       'Business A0lytics', 'Cosmetics', 'Diagnostics',\n",
       "       'Health Diagnostics', 'Logistics', 'Logistics Company',\n",
       "       'Mobile A0lytics', 'Politics', 'Predictive A0lytics', 'Robotics',\n",
       "       'Therapeutics'], dtype=object)"
      ]
     },
     "execution_count": 53,
     "metadata": {},
     "output_type": "execute_result"
    }
   ],
   "source": [
    "mapping.loc[1:,:].loc[mapping.primary_sector[1:].str.contains('tics'),'primary_sector'].unique()"
   ]
  },
  {
   "cell_type": "markdown",
   "metadata": {},
   "source": [
    "It looks like many categories have 0 in the name that lead to unmatched data. Let find all the categories that contains 0"
   ]
  },
  {
   "cell_type": "code",
   "execution_count": 54,
   "metadata": {},
   "outputs": [
    {
     "data": {
      "text/plain": [
       "array(['Alter0tive Medicine', 'A0lytics', 'Big Data A0lytics',\n",
       "       'Business A0lytics', 'Can0bis', 'Career Ma0gement',\n",
       "       'Chi0 Internet', 'Cloud Ma0gement', 'Contact Ma0gement',\n",
       "       'Digital Rights Ma0gement', 'Digital Sig0ge', 'Document Ma0gement',\n",
       "       'Educatio0l Games', 'Energy Ma0gement', 'Enterprise 2.0',\n",
       "       'Event Ma0gement', 'Fi0nce', 'Fi0nce Technology',\n",
       "       'Fi0ncial Exchanges', 'Fi0ncial Services', 'Fleet Ma0gement',\n",
       "       'Gover0nce', 'Identity Ma0gement', 'Innovation Ma0gement',\n",
       "       'Intellectual Asset Ma0gement', 'Investment Ma0gement',\n",
       "       'IT Ma0gement', 'Jour0lism', 'Knowledge Ma0gement',\n",
       "       'Lead Ma0gement', 'Medical Professio0ls', 'Mobile A0lytics',\n",
       "       '0notechnology', '0tural Language Processing', '0tural Resources',\n",
       "       '0vigation', 'Perso0l Branding', 'Perso0l Data', 'Perso0l Fi0nce',\n",
       "       'Perso0l Health', 'Perso0lization', 'Predictive A0lytics',\n",
       "       'Professio0l Networking', 'Professio0l Services',\n",
       "       'Project Ma0gement', 'Promotio0l', 'Property Ma0gement',\n",
       "       'Risk Ma0gement', 'Social Media Ma0gement',\n",
       "       'Supply Chain Ma0gement', 'Task Ma0gement', 'Veteri0ry',\n",
       "       'Waste Ma0gement'], dtype=object)"
      ]
     },
     "execution_count": 54,
     "metadata": {},
     "output_type": "execute_result"
    }
   ],
   "source": [
    "# Find the misspelled categories\n",
    "mapping.loc[1:,:].loc[mapping.primary_sector[1:].str.contains('0'),'primary_sector'].unique()"
   ]
  },
  {
   "cell_type": "markdown",
   "metadata": {},
   "source": [
    "<b>Observation</b><br>\n",
    "We can see that the categories names that containes <b>na</b> are misspelled as <b>0</b><br>\n",
    "Lets replace the 0s with na"
   ]
  },
  {
   "cell_type": "code",
   "execution_count": 55,
   "metadata": {},
   "outputs": [],
   "source": [
    "mapping['primary_sector'] = mapping.primary_sector.str.replace('^0','Na',regex=True).str.replace('0','na')"
   ]
  },
  {
   "cell_type": "code",
   "execution_count": 56,
   "metadata": {},
   "outputs": [
    {
     "data": {
      "text/plain": [
       "True"
      ]
     },
     "execution_count": 56,
     "metadata": {},
     "output_type": "execute_result"
    }
   ],
   "source": [
    "'Analytics' in mapping.primary_sector.values"
   ]
  },
  {
   "cell_type": "code",
   "execution_count": 57,
   "metadata": {},
   "outputs": [],
   "source": [
    "# As the category values has been cleaned we can now proceed with merging the sector df with our top3 df\n",
    "sector_df = top3.merge(mapping,on='primary_sector',how='left')"
   ]
  },
  {
   "cell_type": "code",
   "execution_count": 58,
   "metadata": {},
   "outputs": [
    {
     "data": {
      "text/html": [
       "<div>\n",
       "<style scoped>\n",
       "    .dataframe tbody tr th:only-of-type {\n",
       "        vertical-align: middle;\n",
       "    }\n",
       "\n",
       "    .dataframe tbody tr th {\n",
       "        vertical-align: top;\n",
       "    }\n",
       "\n",
       "    .dataframe thead th {\n",
       "        text-align: right;\n",
       "    }\n",
       "</style>\n",
       "<table border=\"1\" class=\"dataframe\">\n",
       "  <thead>\n",
       "    <tr style=\"text-align: right;\">\n",
       "      <th></th>\n",
       "      <th>company_permalink</th>\n",
       "      <th>funding_round_permalink</th>\n",
       "      <th>funding_round_type</th>\n",
       "      <th>raised_amount_usd</th>\n",
       "      <th>permalink</th>\n",
       "      <th>name</th>\n",
       "      <th>category_list</th>\n",
       "      <th>country_code</th>\n",
       "      <th>primary_sector</th>\n",
       "      <th>main_sector</th>\n",
       "    </tr>\n",
       "  </thead>\n",
       "  <tbody>\n",
       "    <tr>\n",
       "      <th>0</th>\n",
       "      <td>/organization/-fame</td>\n",
       "      <td>/funding-round/9a01d05418af9f794eebff7ace91f638</td>\n",
       "      <td>venture</td>\n",
       "      <td>10000000.0</td>\n",
       "      <td>/organization/-fame</td>\n",
       "      <td>#fame</td>\n",
       "      <td>Media</td>\n",
       "      <td>IND</td>\n",
       "      <td>Media</td>\n",
       "      <td>Entertainment</td>\n",
       "    </tr>\n",
       "    <tr>\n",
       "      <th>1</th>\n",
       "      <td>/organization/0xdata</td>\n",
       "      <td>/funding-round/3bb2ee4a2d89251a10aaa735b1180e44</td>\n",
       "      <td>venture</td>\n",
       "      <td>20000000.0</td>\n",
       "      <td>/organization/0xdata</td>\n",
       "      <td>H2O.ai</td>\n",
       "      <td>Analytics</td>\n",
       "      <td>USA</td>\n",
       "      <td>Analytics</td>\n",
       "      <td>Social, Finance, Analytics, Advertising</td>\n",
       "    </tr>\n",
       "    <tr>\n",
       "      <th>2</th>\n",
       "      <td>/organization/0xdata</td>\n",
       "      <td>/funding-round/ae2a174c06517c2394aed45006322a7e</td>\n",
       "      <td>venture</td>\n",
       "      <td>1700000.0</td>\n",
       "      <td>/organization/0xdata</td>\n",
       "      <td>H2O.ai</td>\n",
       "      <td>Analytics</td>\n",
       "      <td>USA</td>\n",
       "      <td>Analytics</td>\n",
       "      <td>Social, Finance, Analytics, Advertising</td>\n",
       "    </tr>\n",
       "    <tr>\n",
       "      <th>3</th>\n",
       "      <td>/organization/0xdata</td>\n",
       "      <td>/funding-round/e1cfcbe1bdf4c70277c5f29a3482f24e</td>\n",
       "      <td>venture</td>\n",
       "      <td>8900000.0</td>\n",
       "      <td>/organization/0xdata</td>\n",
       "      <td>H2O.ai</td>\n",
       "      <td>Analytics</td>\n",
       "      <td>USA</td>\n",
       "      <td>Analytics</td>\n",
       "      <td>Social, Finance, Analytics, Advertising</td>\n",
       "    </tr>\n",
       "    <tr>\n",
       "      <th>4</th>\n",
       "      <td>/organization/1-mainstream</td>\n",
       "      <td>/funding-round/b952cbaf401f310927430c97b68162ea</td>\n",
       "      <td>venture</td>\n",
       "      <td>5000000.0</td>\n",
       "      <td>/organization/1-mainstream</td>\n",
       "      <td>1 Mainstream</td>\n",
       "      <td>Apps|Cable|Distribution|Software</td>\n",
       "      <td>USA</td>\n",
       "      <td>Apps</td>\n",
       "      <td>News, Search and Messaging</td>\n",
       "    </tr>\n",
       "  </tbody>\n",
       "</table>\n",
       "</div>"
      ],
      "text/plain": [
       "            company_permalink  \\\n",
       "0         /organization/-fame   \n",
       "1        /organization/0xdata   \n",
       "2        /organization/0xdata   \n",
       "3        /organization/0xdata   \n",
       "4  /organization/1-mainstream   \n",
       "\n",
       "                           funding_round_permalink funding_round_type  \\\n",
       "0  /funding-round/9a01d05418af9f794eebff7ace91f638            venture   \n",
       "1  /funding-round/3bb2ee4a2d89251a10aaa735b1180e44            venture   \n",
       "2  /funding-round/ae2a174c06517c2394aed45006322a7e            venture   \n",
       "3  /funding-round/e1cfcbe1bdf4c70277c5f29a3482f24e            venture   \n",
       "4  /funding-round/b952cbaf401f310927430c97b68162ea            venture   \n",
       "\n",
       "   raised_amount_usd                   permalink          name  \\\n",
       "0         10000000.0         /organization/-fame         #fame   \n",
       "1         20000000.0        /organization/0xdata        H2O.ai   \n",
       "2          1700000.0        /organization/0xdata        H2O.ai   \n",
       "3          8900000.0        /organization/0xdata        H2O.ai   \n",
       "4          5000000.0  /organization/1-mainstream  1 Mainstream   \n",
       "\n",
       "                      category_list country_code primary_sector  \\\n",
       "0                             Media          IND          Media   \n",
       "1                         Analytics          USA      Analytics   \n",
       "2                         Analytics          USA      Analytics   \n",
       "3                         Analytics          USA      Analytics   \n",
       "4  Apps|Cable|Distribution|Software          USA           Apps   \n",
       "\n",
       "                               main_sector  \n",
       "0                            Entertainment  \n",
       "1  Social, Finance, Analytics, Advertising  \n",
       "2  Social, Finance, Analytics, Advertising  \n",
       "3  Social, Finance, Analytics, Advertising  \n",
       "4               News, Search and Messaging  "
      ]
     },
     "execution_count": 58,
     "metadata": {},
     "output_type": "execute_result"
    }
   ],
   "source": [
    "# Preview the dataset\n",
    "sector_df.head()"
   ]
  },
  {
   "cell_type": "code",
   "execution_count": 59,
   "metadata": {},
   "outputs": [
    {
     "data": {
      "text/plain": [
       "0"
      ]
     },
     "execution_count": 59,
     "metadata": {},
     "output_type": "execute_result"
    }
   ],
   "source": [
    "sector_df.raised_amount_usd.isnull().sum()"
   ]
  },
  {
   "cell_type": "code",
   "execution_count": 60,
   "metadata": {},
   "outputs": [
    {
     "data": {
      "text/plain": [
       "15"
      ]
     },
     "execution_count": 60,
     "metadata": {},
     "output_type": "execute_result"
    }
   ],
   "source": [
    "sector_df.main_sector.isnull().sum()"
   ]
  },
  {
   "cell_type": "code",
   "execution_count": 61,
   "metadata": {},
   "outputs": [
    {
     "data": {
      "text/plain": [
       "Enterprise 2.0                     4\n",
       "Retirement                         2\n",
       "Adaptive Equipment                 2\n",
       "Racing                             1\n",
       "Biotechnology and Semiconductor    1\n",
       "Specialty Retail                   1\n",
       "GreenTech                          1\n",
       "Rapidly Expanding                  1\n",
       "Natural Gas Uses                   1\n",
       "Product Search                     1\n",
       "Name: primary_sector, dtype: int64"
      ]
     },
     "execution_count": 61,
     "metadata": {},
     "output_type": "execute_result"
    }
   ],
   "source": [
    "# check for the categories that doesn't have sector mapped\n",
    "sector_df.loc[sector_df.main_sector.isnull(),'primary_sector'].value_counts()"
   ]
  },
  {
   "cell_type": "code",
   "execution_count": 62,
   "metadata": {},
   "outputs": [
    {
     "data": {
      "text/html": [
       "<div>\n",
       "<style scoped>\n",
       "    .dataframe tbody tr th:only-of-type {\n",
       "        vertical-align: middle;\n",
       "    }\n",
       "\n",
       "    .dataframe tbody tr th {\n",
       "        vertical-align: top;\n",
       "    }\n",
       "\n",
       "    .dataframe thead th {\n",
       "        text-align: right;\n",
       "    }\n",
       "</style>\n",
       "<table border=\"1\" class=\"dataframe\">\n",
       "  <thead>\n",
       "    <tr style=\"text-align: right;\">\n",
       "      <th></th>\n",
       "      <th>main_sector</th>\n",
       "    </tr>\n",
       "  </thead>\n",
       "  <tbody>\n",
       "    <tr>\n",
       "      <th>Others</th>\n",
       "      <td>9110</td>\n",
       "    </tr>\n",
       "    <tr>\n",
       "      <th>Cleantech / Semiconductors</th>\n",
       "      <td>8492</td>\n",
       "    </tr>\n",
       "    <tr>\n",
       "      <th>Social, Finance, Analytics, Advertising</th>\n",
       "      <td>7814</td>\n",
       "    </tr>\n",
       "    <tr>\n",
       "      <th>News, Search and Messaging</th>\n",
       "      <td>4727</td>\n",
       "    </tr>\n",
       "    <tr>\n",
       "      <th>Health</th>\n",
       "      <td>3429</td>\n",
       "    </tr>\n",
       "    <tr>\n",
       "      <th>Manufacturing</th>\n",
       "      <td>2630</td>\n",
       "    </tr>\n",
       "    <tr>\n",
       "      <th>Entertainment</th>\n",
       "      <td>2006</td>\n",
       "    </tr>\n",
       "    <tr>\n",
       "      <th>Automotive &amp; Sports</th>\n",
       "      <td>580</td>\n",
       "    </tr>\n",
       "    <tr>\n",
       "      <th>Blanks</th>\n",
       "      <td>215</td>\n",
       "    </tr>\n",
       "  </tbody>\n",
       "</table>\n",
       "</div>"
      ],
      "text/plain": [
       "                                         main_sector\n",
       "Others                                          9110\n",
       "Cleantech / Semiconductors                      8492\n",
       "Social, Finance, Analytics, Advertising         7814\n",
       "News, Search and Messaging                      4727\n",
       "Health                                          3429\n",
       "Manufacturing                                   2630\n",
       "Entertainment                                   2006\n",
       "Automotive & Sports                              580\n",
       "Blanks                                           215"
      ]
     },
     "execution_count": 62,
     "metadata": {},
     "output_type": "execute_result"
    }
   ],
   "source": [
    "# Preview the number on investments in each category(Primary Sector)\n",
    "sector_df.main_sector.value_counts().to_frame()"
   ]
  },
  {
   "cell_type": "code",
   "execution_count": 63,
   "metadata": {},
   "outputs": [
    {
     "data": {
      "image/png": "[encoded data removed]",
      "text/plain": [
       "<Figure size 640x480 with 1 Axes>"
      ]
     },
     "metadata": {},
     "output_type": "display_data"
    }
   ],
   "source": [
    "# Preview the number of investors in each sectors\n",
    "sns.countplot(y=sector_df.main_sector)\n",
    "plt.title('Number of investments in each sector')\n",
    "plt.ylabel('Sectors');"
   ]
  },
  {
   "cell_type": "markdown",
   "metadata": {},
   "source": [
    "# Checkpoint 5 : Sector Analysis 2"
   ]
  },
  {
   "cell_type": "markdown",
   "metadata": {},
   "source": [
    "Now we have to identify the heavily invested sector for each of the top 3 country so we will get  a detailed view about companies in each country"
   ]
  },
  {
   "cell_type": "code",
   "execution_count": 64,
   "metadata": {},
   "outputs": [],
   "source": [
    "# filter the raised amount between 5M to 15M as its the preffered Spark fund's investment range\n",
    "sector_FT_df = sector_df.query(\"5000000 <= raised_amount_usd <= 15000000\")"
   ]
  },
  {
   "cell_type": "code",
   "execution_count": 65,
   "metadata": {},
   "outputs": [],
   "source": [
    "# lets now split the counrties to respective dataframe\n",
    "D1 = sector_FT_df.query(\"country_code == 'USA'\")\n",
    "D2 = sector_FT_df.query(\"country_code == 'GBR'\")\n",
    "D3 = sector_FT_df.query(\"country_code == 'IND'\")"
   ]
  },
  {
   "cell_type": "markdown",
   "metadata": {},
   "source": [
    "## Table 5.1 Sector-wise Investment Analysis"
   ]
  },
  {
   "cell_type": "code",
   "execution_count": 66,
   "metadata": {
    "scrolled": true
   },
   "outputs": [
    {
     "data": {
      "text/plain": [
       "(('US', 12150), ('UK', 628), ('IND', 330))"
      ]
     },
     "execution_count": 66,
     "metadata": {},
     "output_type": "execute_result"
    }
   ],
   "source": [
    "# find total number of investments\n",
    "(\"US\",D1.shape[0]),(\"UK\",D2.shape[0]),(\"IND\",D3.shape[0])"
   ]
  },
  {
   "cell_type": "code",
   "execution_count": 67,
   "metadata": {},
   "outputs": [
    {
     "data": {
      "text/plain": [
       "(('US', 108531347515.0), ('UK', 5436843539.0), ('IN', 2976543602.0))"
      ]
     },
     "execution_count": 67,
     "metadata": {},
     "output_type": "execute_result"
    }
   ],
   "source": [
    "# find total amount invested in USD\n",
    "(\"US\",D1['raised_amount_usd'].sum()),(\"UK\",D2['raised_amount_usd'].sum()),(\"IN\",D3['raised_amount_usd'].sum())"
   ]
  },
  {
   "cell_type": "code",
   "execution_count": 68,
   "metadata": {},
   "outputs": [
    {
     "name": "stdout",
     "output_type": "stream",
     "text": [
      "USA\n"
     ]
    },
    {
     "data": {
      "text/html": [
       "<div>\n",
       "<style scoped>\n",
       "    .dataframe tbody tr th:only-of-type {\n",
       "        vertical-align: middle;\n",
       "    }\n",
       "\n",
       "    .dataframe tbody tr th {\n",
       "        vertical-align: top;\n",
       "    }\n",
       "\n",
       "    .dataframe thead th {\n",
       "        text-align: right;\n",
       "    }\n",
       "</style>\n",
       "<table border=\"1\" class=\"dataframe\">\n",
       "  <thead>\n",
       "    <tr style=\"text-align: right;\">\n",
       "      <th></th>\n",
       "      <th>main_sector</th>\n",
       "    </tr>\n",
       "  </thead>\n",
       "  <tbody>\n",
       "    <tr>\n",
       "      <th>Others</th>\n",
       "      <td>2950</td>\n",
       "    </tr>\n",
       "    <tr>\n",
       "      <th>Social, Finance, Analytics, Advertising</th>\n",
       "      <td>2714</td>\n",
       "    </tr>\n",
       "    <tr>\n",
       "      <th>Cleantech / Semiconductors</th>\n",
       "      <td>2350</td>\n",
       "    </tr>\n",
       "    <tr>\n",
       "      <th>News, Search and Messaging</th>\n",
       "      <td>1583</td>\n",
       "    </tr>\n",
       "    <tr>\n",
       "      <th>Health</th>\n",
       "      <td>909</td>\n",
       "    </tr>\n",
       "    <tr>\n",
       "      <th>Manufacturing</th>\n",
       "      <td>799</td>\n",
       "    </tr>\n",
       "    <tr>\n",
       "      <th>Entertainment</th>\n",
       "      <td>591</td>\n",
       "    </tr>\n",
       "    <tr>\n",
       "      <th>Automotive &amp; Sports</th>\n",
       "      <td>167</td>\n",
       "    </tr>\n",
       "    <tr>\n",
       "      <th>Blanks</th>\n",
       "      <td>86</td>\n",
       "    </tr>\n",
       "  </tbody>\n",
       "</table>\n",
       "</div>"
      ],
      "text/plain": [
       "                                         main_sector\n",
       "Others                                          2950\n",
       "Social, Finance, Analytics, Advertising         2714\n",
       "Cleantech / Semiconductors                      2350\n",
       "News, Search and Messaging                      1583\n",
       "Health                                           909\n",
       "Manufacturing                                    799\n",
       "Entertainment                                    591\n",
       "Automotive & Sports                              167\n",
       "Blanks                                            86"
      ]
     },
     "execution_count": 68,
     "metadata": {},
     "output_type": "execute_result"
    }
   ],
   "source": [
    "# find the top sectors based on no. of investments for USA\n",
    "print(\"USA\")\n",
    "D1['main_sector'].value_counts().sort_values(ascending=False).astype(int).to_frame()"
   ]
  },
  {
   "cell_type": "code",
   "execution_count": 69,
   "metadata": {},
   "outputs": [
    {
     "name": "stdout",
     "output_type": "stream",
     "text": [
      "UK\n"
     ]
    },
    {
     "data": {
      "text/html": [
       "<div>\n",
       "<style scoped>\n",
       "    .dataframe tbody tr th:only-of-type {\n",
       "        vertical-align: middle;\n",
       "    }\n",
       "\n",
       "    .dataframe tbody tr th {\n",
       "        vertical-align: top;\n",
       "    }\n",
       "\n",
       "    .dataframe thead th {\n",
       "        text-align: right;\n",
       "    }\n",
       "</style>\n",
       "<table border=\"1\" class=\"dataframe\">\n",
       "  <thead>\n",
       "    <tr style=\"text-align: right;\">\n",
       "      <th></th>\n",
       "      <th>main_sector</th>\n",
       "    </tr>\n",
       "  </thead>\n",
       "  <tbody>\n",
       "    <tr>\n",
       "      <th>Others</th>\n",
       "      <td>147</td>\n",
       "    </tr>\n",
       "    <tr>\n",
       "      <th>Social, Finance, Analytics, Advertising</th>\n",
       "      <td>133</td>\n",
       "    </tr>\n",
       "    <tr>\n",
       "      <th>Cleantech / Semiconductors</th>\n",
       "      <td>130</td>\n",
       "    </tr>\n",
       "    <tr>\n",
       "      <th>News, Search and Messaging</th>\n",
       "      <td>73</td>\n",
       "    </tr>\n",
       "    <tr>\n",
       "      <th>Entertainment</th>\n",
       "      <td>56</td>\n",
       "    </tr>\n",
       "    <tr>\n",
       "      <th>Manufacturing</th>\n",
       "      <td>42</td>\n",
       "    </tr>\n",
       "    <tr>\n",
       "      <th>Health</th>\n",
       "      <td>24</td>\n",
       "    </tr>\n",
       "    <tr>\n",
       "      <th>Automotive &amp; Sports</th>\n",
       "      <td>16</td>\n",
       "    </tr>\n",
       "    <tr>\n",
       "      <th>Blanks</th>\n",
       "      <td>7</td>\n",
       "    </tr>\n",
       "  </tbody>\n",
       "</table>\n",
       "</div>"
      ],
      "text/plain": [
       "                                         main_sector\n",
       "Others                                           147\n",
       "Social, Finance, Analytics, Advertising          133\n",
       "Cleantech / Semiconductors                       130\n",
       "News, Search and Messaging                        73\n",
       "Entertainment                                     56\n",
       "Manufacturing                                     42\n",
       "Health                                            24\n",
       "Automotive & Sports                               16\n",
       "Blanks                                             7"
      ]
     },
     "execution_count": 69,
     "metadata": {},
     "output_type": "execute_result"
    }
   ],
   "source": [
    "# find the top sectors based on no. of investments for GBR/UK\n",
    "print(\"UK\")\n",
    "D2['main_sector'].value_counts().sort_values(ascending=False).astype(int).to_frame()"
   ]
  },
  {
   "cell_type": "code",
   "execution_count": 70,
   "metadata": {},
   "outputs": [
    {
     "name": "stdout",
     "output_type": "stream",
     "text": [
      "India\n"
     ]
    },
    {
     "data": {
      "text/html": [
       "<div>\n",
       "<style scoped>\n",
       "    .dataframe tbody tr th:only-of-type {\n",
       "        vertical-align: middle;\n",
       "    }\n",
       "\n",
       "    .dataframe tbody tr th {\n",
       "        vertical-align: top;\n",
       "    }\n",
       "\n",
       "    .dataframe thead th {\n",
       "        text-align: right;\n",
       "    }\n",
       "</style>\n",
       "<table border=\"1\" class=\"dataframe\">\n",
       "  <thead>\n",
       "    <tr style=\"text-align: right;\">\n",
       "      <th></th>\n",
       "      <th>main_sector</th>\n",
       "    </tr>\n",
       "  </thead>\n",
       "  <tbody>\n",
       "    <tr>\n",
       "      <th>Others</th>\n",
       "      <td>110</td>\n",
       "    </tr>\n",
       "    <tr>\n",
       "      <th>Social, Finance, Analytics, Advertising</th>\n",
       "      <td>60</td>\n",
       "    </tr>\n",
       "    <tr>\n",
       "      <th>News, Search and Messaging</th>\n",
       "      <td>52</td>\n",
       "    </tr>\n",
       "    <tr>\n",
       "      <th>Entertainment</th>\n",
       "      <td>33</td>\n",
       "    </tr>\n",
       "    <tr>\n",
       "      <th>Manufacturing</th>\n",
       "      <td>21</td>\n",
       "    </tr>\n",
       "    <tr>\n",
       "      <th>Cleantech / Semiconductors</th>\n",
       "      <td>20</td>\n",
       "    </tr>\n",
       "    <tr>\n",
       "      <th>Health</th>\n",
       "      <td>19</td>\n",
       "    </tr>\n",
       "    <tr>\n",
       "      <th>Automotive &amp; Sports</th>\n",
       "      <td>13</td>\n",
       "    </tr>\n",
       "    <tr>\n",
       "      <th>Blanks</th>\n",
       "      <td>2</td>\n",
       "    </tr>\n",
       "  </tbody>\n",
       "</table>\n",
       "</div>"
      ],
      "text/plain": [
       "                                         main_sector\n",
       "Others                                           110\n",
       "Social, Finance, Analytics, Advertising           60\n",
       "News, Search and Messaging                        52\n",
       "Entertainment                                     33\n",
       "Manufacturing                                     21\n",
       "Cleantech / Semiconductors                        20\n",
       "Health                                            19\n",
       "Automotive & Sports                               13\n",
       "Blanks                                             2"
      ]
     },
     "execution_count": 70,
     "metadata": {},
     "output_type": "execute_result"
    }
   ],
   "source": [
    "# find the top sectors based on no. of investments for India\n",
    "print(\"India\")\n",
    "D3['main_sector'].value_counts().sort_values(ascending=False).astype(int).to_frame()"
   ]
  },
  {
   "cell_type": "markdown",
   "metadata": {},
   "source": [
    "<b> Observation and action steps</b><br>\n",
    "From above observation lets get the top 1 and 2 sectors for each conutry to find the companies with highest investment"
   ]
  },
  {
   "cell_type": "code",
   "execution_count": 71,
   "metadata": {},
   "outputs": [
    {
     "data": {
      "text/plain": [
       "company_permalink\n",
       "/organization/shotspotter    67933006.0\n",
       "/organization/demandbase     63000000.0\n",
       "/organization/intacct        61800000.0\n",
       "/organization/netbase        60600000.0\n",
       "/organization/lotame         59700000.0\n",
       "Name: raised_amount_usd, dtype: float64"
      ]
     },
     "execution_count": 71,
     "metadata": {},
     "output_type": "execute_result"
    }
   ],
   "source": [
    "D1.loc[D1.main_sector == 'Social, Finance, Analytics, Advertising',['company_permalink','raised_amount_usd']].groupby('company_permalink')['raised_amount_usd'].sum().sort_values(ascending=False).head()"
   ]
  },
  {
   "cell_type": "code",
   "execution_count": 72,
   "metadata": {},
   "outputs": [
    {
     "data": {
      "text/plain": [
       "company_permalink\n",
       "/organization/celltick-technologies    37500000.0\n",
       "/organization/mythings                 34000000.0\n",
       "/organization/zopa                     32900000.0\n",
       "/organization/imagini                  28550000.0\n",
       "/organization/marketinvoice            25553007.0\n",
       "Name: raised_amount_usd, dtype: float64"
      ]
     },
     "execution_count": 72,
     "metadata": {},
     "output_type": "execute_result"
    }
   ],
   "source": [
    "D2.loc[D2.main_sector == 'Social, Finance, Analytics, Advertising',['company_permalink','raised_amount_usd']].groupby('company_permalink')['raised_amount_usd'].sum().sort_values(ascending=False).head()"
   ]
  },
  {
   "cell_type": "code",
   "execution_count": 73,
   "metadata": {},
   "outputs": [
    {
     "data": {
      "text/plain": [
       "company_permalink\n",
       "/organization/gupshup-technology-india-pvt-ltd    33000000.0\n",
       "/organization/imimobile                           23000000.0\n",
       "/organization/sms-gupshup                         22000000.0\n",
       "/organization/hike                                21000000.0\n",
       "/organization/roadrunnr                           21000000.0\n",
       "Name: raised_amount_usd, dtype: float64"
      ]
     },
     "execution_count": 73,
     "metadata": {},
     "output_type": "execute_result"
    }
   ],
   "source": [
    "D3.loc[D3.main_sector == 'News, Search and Messaging',['company_permalink','raised_amount_usd']].groupby('company_permalink')['raised_amount_usd'].sum().sort_values(ascending=False).head()"
   ]
  },
  {
   "cell_type": "markdown",
   "metadata": {},
   "source": [
    "# Checkpoint 6: Plots"
   ]
  },
  {
   "cell_type": "markdown",
   "metadata": {},
   "source": [
    "# Report"
   ]
  },
  {
   "cell_type": "markdown",
   "metadata": {},
   "source": [
    "I have first created a visualizationn that represents the funding type to be selected for the investment range 5M - 15M as that was our first step of analysis."
   ]
  },
  {
   "cell_type": "markdown",
   "metadata": {},
   "source": [
    "## 1. Plot showing the representative amount of investment in each funding type highlighting Venture"
   ]
  },
  {
   "cell_type": "code",
   "execution_count": 74,
   "metadata": {},
   "outputs": [],
   "source": [
    "# aggregate the values for raised amount for each funding type\n",
    "ft_data = master_frame.set_index('funding_round_type').groupby(by='funding_round_type')['raised_amount_usd'].agg(['mean','median'])"
   ]
  },
  {
   "cell_type": "code",
   "execution_count": 75,
   "metadata": {},
   "outputs": [
    {
     "data": {
      "text/html": [
       "<div>\n",
       "<style scoped>\n",
       "    .dataframe tbody tr th:only-of-type {\n",
       "        vertical-align: middle;\n",
       "    }\n",
       "\n",
       "    .dataframe tbody tr th {\n",
       "        vertical-align: top;\n",
       "    }\n",
       "\n",
       "    .dataframe thead th {\n",
       "        text-align: right;\n",
       "    }\n",
       "</style>\n",
       "<table border=\"1\" class=\"dataframe\">\n",
       "  <thead>\n",
       "    <tr style=\"text-align: right;\">\n",
       "      <th></th>\n",
       "      <th>mean</th>\n",
       "      <th>median</th>\n",
       "    </tr>\n",
       "    <tr>\n",
       "      <th>funding_round_type</th>\n",
       "      <th></th>\n",
       "      <th></th>\n",
       "    </tr>\n",
       "  </thead>\n",
       "  <tbody>\n",
       "    <tr>\n",
       "      <th>angel</th>\n",
       "      <td>9.586945e+05</td>\n",
       "      <td>400000.0</td>\n",
       "    </tr>\n",
       "    <tr>\n",
       "      <th>private_equity</th>\n",
       "      <td>7.330859e+07</td>\n",
       "      <td>20000000.0</td>\n",
       "    </tr>\n",
       "    <tr>\n",
       "      <th>seed</th>\n",
       "      <td>7.198180e+05</td>\n",
       "      <td>275000.0</td>\n",
       "    </tr>\n",
       "    <tr>\n",
       "      <th>venture</th>\n",
       "      <td>1.174895e+07</td>\n",
       "      <td>5000000.0</td>\n",
       "    </tr>\n",
       "  </tbody>\n",
       "</table>\n",
       "</div>"
      ],
      "text/plain": [
       "                            mean      median\n",
       "funding_round_type                          \n",
       "angel               9.586945e+05    400000.0\n",
       "private_equity      7.330859e+07  20000000.0\n",
       "seed                7.198180e+05    275000.0\n",
       "venture             1.174895e+07   5000000.0"
      ]
     },
     "execution_count": 75,
     "metadata": {},
     "output_type": "execute_result"
    }
   ],
   "source": [
    "# Preview the values\n",
    "ft_data"
   ]
  },
  {
   "cell_type": "code",
   "execution_count": 76,
   "metadata": {},
   "outputs": [
    {
     "data": {
      "image/png": "[encoded data removed]",
      "text/plain": [
       "<Figure size 1200x600 with 1 Axes>"
      ]
     },
     "metadata": {},
     "output_type": "display_data"
    }
   ],
   "source": [
    "# create a figure and set styles and scale as logs as we will be handling millions and trillion value\n",
    "plt.figure(figsize=(12,6))\n",
    "plt.style.use('default')\n",
    "plt.yscale('log')\n",
    "\n",
    "# create color for bars to differenciate mean and median \n",
    "b = (0.16696655132641292, 0.48069204152249134, 0.7291503267973857)\n",
    "lb = (0.7309496347558632, 0.8394771241830065, 0.9213225682429834)\n",
    "r = (0.8370472895040368, 0.13394848135332565, 0.13079584775086506)\n",
    "lr = (0.9882352941176471, 0.6866743560169165, 0.5778854286812765)\n",
    "\n",
    "#Plot the bar for Mean\n",
    "plt.bar(ft_data.index,ft_data['mean'],color=[lb,lb,lb,lr],label='Average');\n",
    "\n",
    "#Plot the bar for median\n",
    "plt.bar(ft_data.index,ft_data['median'],color=[b,b,b,r],width=0.5,label='Median');\n",
    "\n",
    "# label the axis and give title\n",
    "plt.title(\"Amount of Investment in Average / Median for Funding Types\")\n",
    "plt.ylabel(\"Representative Investment in USD\",size=12)\n",
    "plt.xlabel(\"Funding Type\",size=12)\n",
    "plt.yticks(plt.gca().get_yticks()[:-1],['10 thousand','100 thousand','1 million','10 million','100 million']);\n",
    "\n",
    "# add a text for highlighting the range of 5M to 15M\n",
    "plt.text(3.25,15.e+06 + 10.e+05,'15M USD')\n",
    "plt.axhline(15.e+06,linestyle='--',c='grey')\n",
    "plt.text(3.3,5.e+06 + 10.e+04,'5M USD')\n",
    "plt.axhline(5.e+06,linestyle='--',c='grey');\n",
    "\n",
    "# add custom legend to identify what the bars are\n",
    "custom_legend_one = [Patch(facecolor=(0.7309496347558632, 0.8394771241830065, 0.9213225682429834),label='Average'),\n",
    "                       Patch(facecolor=(0.16696655132641292, 0.48069204152249134, 0.7291503267973857),label='Median')]\n",
    "custom_legend_two =[Patch(facecolor=(0.9882352941176471, 0.6866743560169165, 0.5778854286812765),label='Average'),\n",
    "                       Patch(facecolor=(0.8370472895040368, 0.13394848135332565, 0.13079584775086506),label='Median')]\n",
    "ax = plt.gca()\n",
    "l1 = ax.legend(custom_legend_one, ['Avg amount', 'Median amount'],prop={'size': 13},frameon=False)\n",
    "ax.add_artist(l1)\n",
    "ax.legend(custom_legend_two, ['', ''],prop={'size': 13},loc=(0.72,0.851),frameon=False)\n",
    "props = dict(boxstyle='round', facecolor='wheat', alpha=0.2)\n",
    "ax.text(0.725,0.98, '                                          \\n \\n ', transform=ax.transAxes, fontsize=13, verticalalignment='top', bbox=props);"
   ]
  },
  {
   "cell_type": "markdown",
   "metadata": {},
   "source": [
    "<br><br>\n",
    "## 2. Plot showing the top 9 countries against the total amount of investments of funding type Venture"
   ]
  },
  {
   "cell_type": "code",
   "execution_count": 77,
   "metadata": {},
   "outputs": [],
   "source": [
    "# Taking the sum of raised amount for respective countries considering only the top 9 countries\n",
    "top9_data = top9.groupby('country_code')['raised_amount_usd'].sum().sort_values(ascending=False).reset_index()[:9]"
   ]
  },
  {
   "cell_type": "code",
   "execution_count": 78,
   "metadata": {},
   "outputs": [],
   "source": [
    "# create a column to identiry english speaking countries in top 9\n",
    "top9_data['english'] = list(map(lambda x: 'English' if x else 'Non-English',top9_data['country_code'].isin(top9_en.country_code.unique())))"
   ]
  },
  {
   "cell_type": "code",
   "execution_count": 79,
   "metadata": {},
   "outputs": [],
   "source": [
    "# creating a color scale for english speaking and non englishspeaking to differenciate it clearly\n",
    "color_seq = pd.Series(np.arange(9), dtype=object) # create empty series for the color column\n",
    "\n",
    "# storing the length of both type of countries in seperate variable\n",
    "eng_count = (top9_data['english'] == 'English').sum()\n",
    "non_eng_count = (top9_data['english'] == 'Non-English').sum()\n",
    "\n",
    "#Assigning color palette for each country\n",
    "eng_color = sns.color_palette(\"Reds\", eng_count)\n",
    "non_eng_color = sns.color_palette(\"Blues\", non_eng_count)\n",
    "\n",
    "# Assign color palette scale by high to lowest amount value\n",
    "for index, occ in enumerate(top9_data['english']):\n",
    "    if occ == 'English':\n",
    "        color_seq[index]=eng_color[eng_count-1]\n",
    "        eng_count = eng_count -1\n",
    "    else :\n",
    "        color_seq[index]=non_eng_color[non_eng_count-1]\n",
    "        non_eng_count = non_eng_count -1\n",
    "\n",
    "#Assign the newly created series to the dataframe\n",
    "top9_data['color'] = color_seq"
   ]
  },
  {
   "cell_type": "code",
   "execution_count": 80,
   "metadata": {},
   "outputs": [
    {
     "data": {
      "text/html": [
       "<div>\n",
       "<style scoped>\n",
       "    .dataframe tbody tr th:only-of-type {\n",
       "        vertical-align: middle;\n",
       "    }\n",
       "\n",
       "    .dataframe tbody tr th {\n",
       "        vertical-align: top;\n",
       "    }\n",
       "\n",
       "    .dataframe thead th {\n",
       "        text-align: right;\n",
       "    }\n",
       "</style>\n",
       "<table border=\"1\" class=\"dataframe\">\n",
       "  <thead>\n",
       "    <tr style=\"text-align: right;\">\n",
       "      <th></th>\n",
       "      <th>country_code</th>\n",
       "      <th>raised_amount_usd</th>\n",
       "      <th>english</th>\n",
       "      <th>color</th>\n",
       "    </tr>\n",
       "  </thead>\n",
       "  <tbody>\n",
       "    <tr>\n",
       "      <th>0</th>\n",
       "      <td>USA</td>\n",
       "      <td>4.225108e+11</td>\n",
       "      <td>English</td>\n",
       "      <td>(0.6943944636678201, 0.07003460207612457, 0.09...</td>\n",
       "    </tr>\n",
       "    <tr>\n",
       "      <th>1</th>\n",
       "      <td>CHN</td>\n",
       "      <td>3.983542e+10</td>\n",
       "      <td>Non-English</td>\n",
       "      <td>(0.09019607843137256, 0.39294117647058824, 0.6...</td>\n",
       "    </tr>\n",
       "    <tr>\n",
       "      <th>2</th>\n",
       "      <td>GBR</td>\n",
       "      <td>2.024563e+10</td>\n",
       "      <td>English</td>\n",
       "      <td>(0.8901960784313725, 0.18562091503267975, 0.15...</td>\n",
       "    </tr>\n",
       "    <tr>\n",
       "      <th>3</th>\n",
       "      <td>IND</td>\n",
       "      <td>1.439186e+10</td>\n",
       "      <td>English</td>\n",
       "      <td>(0.9835755478662053, 0.4127950788158401, 0.288...</td>\n",
       "    </tr>\n",
       "    <tr>\n",
       "      <th>4</th>\n",
       "      <td>CAN</td>\n",
       "      <td>9.583332e+09</td>\n",
       "      <td>English</td>\n",
       "      <td>(0.9882352941176471, 0.6261437908496732, 0.508...</td>\n",
       "    </tr>\n",
       "    <tr>\n",
       "      <th>5</th>\n",
       "      <td>FRA</td>\n",
       "      <td>7.259537e+09</td>\n",
       "      <td>Non-English</td>\n",
       "      <td>(0.2909803921568628, 0.5945098039215686, 0.789...</td>\n",
       "    </tr>\n",
       "    <tr>\n",
       "      <th>6</th>\n",
       "      <td>ISR</td>\n",
       "      <td>6.907515e+09</td>\n",
       "      <td>English</td>\n",
       "      <td>(0.9935870818915802, 0.8323414071510957, 0.762...</td>\n",
       "    </tr>\n",
       "    <tr>\n",
       "      <th>7</th>\n",
       "      <td>DEU</td>\n",
       "      <td>6.346960e+09</td>\n",
       "      <td>Non-English</td>\n",
       "      <td>(0.5796078431372549, 0.7701960784313725, 0.873...</td>\n",
       "    </tr>\n",
       "    <tr>\n",
       "      <th>8</th>\n",
       "      <td>JPN</td>\n",
       "      <td>3.363677e+09</td>\n",
       "      <td>Non-English</td>\n",
       "      <td>(0.8141176470588235, 0.883921568627451, 0.9498...</td>\n",
       "    </tr>\n",
       "  </tbody>\n",
       "</table>\n",
       "</div>"
      ],
      "text/plain": [
       "  country_code  raised_amount_usd      english  \\\n",
       "0          USA       4.225108e+11      English   \n",
       "1          CHN       3.983542e+10  Non-English   \n",
       "2          GBR       2.024563e+10      English   \n",
       "3          IND       1.439186e+10      English   \n",
       "4          CAN       9.583332e+09      English   \n",
       "5          FRA       7.259537e+09  Non-English   \n",
       "6          ISR       6.907515e+09      English   \n",
       "7          DEU       6.346960e+09  Non-English   \n",
       "8          JPN       3.363677e+09  Non-English   \n",
       "\n",
       "                                               color  \n",
       "0  (0.6943944636678201, 0.07003460207612457, 0.09...  \n",
       "1  (0.09019607843137256, 0.39294117647058824, 0.6...  \n",
       "2  (0.8901960784313725, 0.18562091503267975, 0.15...  \n",
       "3  (0.9835755478662053, 0.4127950788158401, 0.288...  \n",
       "4  (0.9882352941176471, 0.6261437908496732, 0.508...  \n",
       "5  (0.2909803921568628, 0.5945098039215686, 0.789...  \n",
       "6  (0.9935870818915802, 0.8323414071510957, 0.762...  \n",
       "7  (0.5796078431372549, 0.7701960784313725, 0.873...  \n",
       "8  (0.8141176470588235, 0.883921568627451, 0.9498...  "
      ]
     },
     "execution_count": 80,
     "metadata": {},
     "output_type": "execute_result"
    }
   ],
   "source": [
    "# Preview the color code scale column\n",
    "top9_data"
   ]
  },
  {
   "cell_type": "code",
   "execution_count": 81,
   "metadata": {},
   "outputs": [
    {
     "data": {
      "image/png": "[encoded data removed]",
      "text/plain": [
       "<Figure size 1500x600 with 2 Axes>"
      ]
     },
     "metadata": {},
     "output_type": "display_data"
    }
   ],
   "source": [
    "# Create a figure with 2 columsn and 1 row defining the width of each plot and size of the figure\n",
    "fig, ax = plt.subplots(1,2,figsize=(15,6),gridspec_kw={'width_ratios':[5,1.3]})\n",
    "\n",
    "# remove white space between subplots and margins for second plot to combine it to a single plot\n",
    "plt.subplots_adjust(wspace=0,hspace=0)\n",
    "plt.style.use('seaborn')\n",
    "ax[1].xaxis.set_visible(False)\n",
    "ax[1].yaxis.set_visible(False)\n",
    "#plt.margins(0,0.03)\n",
    "#ax[0].set_xmargin(0.03)\n",
    "\n",
    "# Create a bar plot for countires based on its raised amount  \n",
    "bars = ax[0].bar(top9_data.country_code,'raised_amount_usd',data=top9_data,color=top9_data['color']);\n",
    "\n",
    "# Add text for top 3 english speaking conutry\n",
    "j=0\n",
    "for i,bar in enumerate(bars):  \n",
    "    if i in [0,2,3]:\n",
    "        j += 1\n",
    "        bar.set_edgecolor(\"black\")\n",
    "        bar.set_linewidth(2)\n",
    "        ax[0].text(x=i-0.225,y=bar.get_height()-bar.get_height()*0.20,s=\"Top %s\" % str(j),va=\"center\",fontdict=dict(fontsize=13,color=\"w\",fontweight=\"bold\"))\n",
    "del j\n",
    "\n",
    "# Create custom legend to differentiate English and non ENglish speaking countires\n",
    "custom_legend = [Patch(facecolor=(0.8901960784313725, 0.18562091503267975, 0.15294117647058825), edgecolor=(0.6943944636678201, 0.07003460207612457, 0.09231833910034601),label='English Speaking'),\n",
    "               Patch(facecolor=(0.2909803921568628, 0.5945098039215686, 0.7890196078431373), edgecolor=(0.09019607843137256, 0.39294117647058824, 0.6705882352941177),label='Non-English Speaking'),''];\n",
    "ax[0].legend(custom_legend, ['English Speaking', 'Non-English Speaking'],prop={'size': 15})\n",
    "\n",
    "# add legend for each country in subplot 2\n",
    "for i,label in enumerate([\"USA - United States\", \"CHN - China\", \"GBR - United Kingdom\", \"IND - India\", \"CAN - Canada\", \"FRA - France\", \"ISR - Israel\", \"DEU - Germany\", \"JPN - Japan\"]):\n",
    "    ax[1].text(0.1,0.9 - i/10,label,transform=ax[1].transAxes,size=12)\n",
    "\n",
    "# Set the labels and tickmarks for the plot\n",
    "ax[0].set_xlabel('Country',size=15)\n",
    "ax[0].set_ylabel('Raised Amount in USD (log scale)',size=15)\n",
    "ax[0].set_title('Top 9 Countries based on Amount Raised in Venture USD',fontsize=18)\n",
    "ax[0].set_yscale('log')\n",
    "ax[0].set_yticks([1.e+09, 1.e+10, 1.e+11, 1.e+12])\n",
    "ax[0].set_yticklabels(['1 billion','10 billion','100 billion','1 trillion'])\n",
    "ax[0].tick_params(axis='both', labelsize=12)"
   ]
  },
  {
   "cell_type": "markdown",
   "metadata": {},
   "source": [
    "<br><br>\n",
    "## 3. Plot showing the number of investments in the top 3 sectors of the top 3 countries"
   ]
  },
  {
   "cell_type": "code",
   "execution_count": 82,
   "metadata": {
    "scrolled": true
   },
   "outputs": [
    {
     "data": {
      "text/html": [
       "<div>\n",
       "<style scoped>\n",
       "    .dataframe tbody tr th:only-of-type {\n",
       "        vertical-align: middle;\n",
       "    }\n",
       "\n",
       "    .dataframe tbody tr th {\n",
       "        vertical-align: top;\n",
       "    }\n",
       "\n",
       "    .dataframe thead th {\n",
       "        text-align: right;\n",
       "    }\n",
       "</style>\n",
       "<table border=\"1\" class=\"dataframe\">\n",
       "  <thead>\n",
       "    <tr style=\"text-align: right;\">\n",
       "      <th></th>\n",
       "      <th>company_permalink</th>\n",
       "      <th>funding_round_permalink</th>\n",
       "      <th>funding_round_type</th>\n",
       "      <th>raised_amount_usd</th>\n",
       "      <th>permalink</th>\n",
       "      <th>name</th>\n",
       "      <th>category_list</th>\n",
       "      <th>country_code</th>\n",
       "      <th>primary_sector</th>\n",
       "      <th>main_sector</th>\n",
       "    </tr>\n",
       "  </thead>\n",
       "  <tbody>\n",
       "    <tr>\n",
       "      <th>0</th>\n",
       "      <td>/organization/-fame</td>\n",
       "      <td>/funding-round/9a01d05418af9f794eebff7ace91f638</td>\n",
       "      <td>venture</td>\n",
       "      <td>10000000.0</td>\n",
       "      <td>/organization/-fame</td>\n",
       "      <td>#fame</td>\n",
       "      <td>Media</td>\n",
       "      <td>IND</td>\n",
       "      <td>Media</td>\n",
       "      <td>Entertainment</td>\n",
       "    </tr>\n",
       "    <tr>\n",
       "      <th>3</th>\n",
       "      <td>/organization/0xdata</td>\n",
       "      <td>/funding-round/e1cfcbe1bdf4c70277c5f29a3482f24e</td>\n",
       "      <td>venture</td>\n",
       "      <td>8900000.0</td>\n",
       "      <td>/organization/0xdata</td>\n",
       "      <td>H2O.ai</td>\n",
       "      <td>Analytics</td>\n",
       "      <td>USA</td>\n",
       "      <td>Analytics</td>\n",
       "      <td>Social, Finance, Analytics, Advertising</td>\n",
       "    </tr>\n",
       "    <tr>\n",
       "      <th>4</th>\n",
       "      <td>/organization/1-mainstream</td>\n",
       "      <td>/funding-round/b952cbaf401f310927430c97b68162ea</td>\n",
       "      <td>venture</td>\n",
       "      <td>5000000.0</td>\n",
       "      <td>/organization/1-mainstream</td>\n",
       "      <td>1 Mainstream</td>\n",
       "      <td>Apps|Cable|Distribution|Software</td>\n",
       "      <td>USA</td>\n",
       "      <td>Apps</td>\n",
       "      <td>News, Search and Messaging</td>\n",
       "    </tr>\n",
       "    <tr>\n",
       "      <th>17</th>\n",
       "      <td>/organization/128-technology</td>\n",
       "      <td>/funding-round/fb6216a30cb566ede89e0bee0623a634</td>\n",
       "      <td>venture</td>\n",
       "      <td>11999347.0</td>\n",
       "      <td>/organization/128-technology</td>\n",
       "      <td>128 Technology</td>\n",
       "      <td>Service Providers|Technology</td>\n",
       "      <td>USA</td>\n",
       "      <td>Service Providers</td>\n",
       "      <td>Others</td>\n",
       "    </tr>\n",
       "    <tr>\n",
       "      <th>20</th>\n",
       "      <td>/organization/1366-technologies</td>\n",
       "      <td>/funding-round/424129ce1235cfab2655ee81305f7c2b</td>\n",
       "      <td>venture</td>\n",
       "      <td>15000000.0</td>\n",
       "      <td>/organization/1366-technologies</td>\n",
       "      <td>1366 Technologies</td>\n",
       "      <td>Manufacturing</td>\n",
       "      <td>USA</td>\n",
       "      <td>Manufacturing</td>\n",
       "      <td>Manufacturing</td>\n",
       "    </tr>\n",
       "  </tbody>\n",
       "</table>\n",
       "</div>"
      ],
      "text/plain": [
       "                  company_permalink  \\\n",
       "0               /organization/-fame   \n",
       "3              /organization/0xdata   \n",
       "4        /organization/1-mainstream   \n",
       "17     /organization/128-technology   \n",
       "20  /organization/1366-technologies   \n",
       "\n",
       "                            funding_round_permalink funding_round_type  \\\n",
       "0   /funding-round/9a01d05418af9f794eebff7ace91f638            venture   \n",
       "3   /funding-round/e1cfcbe1bdf4c70277c5f29a3482f24e            venture   \n",
       "4   /funding-round/b952cbaf401f310927430c97b68162ea            venture   \n",
       "17  /funding-round/fb6216a30cb566ede89e0bee0623a634            venture   \n",
       "20  /funding-round/424129ce1235cfab2655ee81305f7c2b            venture   \n",
       "\n",
       "    raised_amount_usd                        permalink               name  \\\n",
       "0          10000000.0              /organization/-fame              #fame   \n",
       "3           8900000.0             /organization/0xdata             H2O.ai   \n",
       "4           5000000.0       /organization/1-mainstream       1 Mainstream   \n",
       "17         11999347.0     /organization/128-technology     128 Technology   \n",
       "20         15000000.0  /organization/1366-technologies  1366 Technologies   \n",
       "\n",
       "                       category_list country_code     primary_sector  \\\n",
       "0                              Media          IND              Media   \n",
       "3                          Analytics          USA          Analytics   \n",
       "4   Apps|Cable|Distribution|Software          USA               Apps   \n",
       "17      Service Providers|Technology          USA  Service Providers   \n",
       "20                     Manufacturing          USA      Manufacturing   \n",
       "\n",
       "                                main_sector  \n",
       "0                             Entertainment  \n",
       "3   Social, Finance, Analytics, Advertising  \n",
       "4                News, Search and Messaging  \n",
       "17                                   Others  \n",
       "20                            Manufacturing  "
      ]
     },
     "execution_count": 82,
     "metadata": {},
     "output_type": "execute_result"
    }
   ],
   "source": [
    "# Preview the dataset for top3 countires\n",
    "sector_FT_df.head()"
   ]
  },
  {
   "cell_type": "code",
   "execution_count": 83,
   "metadata": {},
   "outputs": [],
   "source": [
    "# create a dataframe for the number of each main sectors for respective countries\n",
    "sector_FT_group = sector_FT_df.groupby('country_code')['main_sector'].value_counts().to_frame()\n",
    "\n",
    "# Convert it to percentage values\n",
    "sector_FT_data = sector_FT_group.groupby(by='country_code').transform(lambda x: x / x.sum())\n",
    "\n",
    "# rename column and sort based on it value\n",
    "sector_FT_data.columns = ['Percentage Ratio of Investment']\n",
    "sector_FT_data = sector_FT_data.reset_index().sort_values(['country_code','main_sector']).reset_index(drop=True)"
   ]
  },
  {
   "cell_type": "code",
   "execution_count": 84,
   "metadata": {},
   "outputs": [
    {
     "data": {
      "text/html": [
       "<div>\n",
       "<style scoped>\n",
       "    .dataframe tbody tr th:only-of-type {\n",
       "        vertical-align: middle;\n",
       "    }\n",
       "\n",
       "    .dataframe tbody tr th {\n",
       "        vertical-align: top;\n",
       "    }\n",
       "\n",
       "    .dataframe thead th {\n",
       "        text-align: right;\n",
       "    }\n",
       "</style>\n",
       "<table border=\"1\" class=\"dataframe\">\n",
       "  <thead>\n",
       "    <tr style=\"text-align: right;\">\n",
       "      <th></th>\n",
       "      <th>country_code</th>\n",
       "      <th>main_sector</th>\n",
       "      <th>Percentage Ratio of Investment</th>\n",
       "    </tr>\n",
       "  </thead>\n",
       "  <tbody>\n",
       "    <tr>\n",
       "      <th>0</th>\n",
       "      <td>GBR</td>\n",
       "      <td>Automotive &amp; Sports</td>\n",
       "      <td>0.025478</td>\n",
       "    </tr>\n",
       "    <tr>\n",
       "      <th>1</th>\n",
       "      <td>GBR</td>\n",
       "      <td>Blanks</td>\n",
       "      <td>0.011146</td>\n",
       "    </tr>\n",
       "    <tr>\n",
       "      <th>2</th>\n",
       "      <td>GBR</td>\n",
       "      <td>Cleantech / Semiconductors</td>\n",
       "      <td>0.207006</td>\n",
       "    </tr>\n",
       "    <tr>\n",
       "      <th>3</th>\n",
       "      <td>GBR</td>\n",
       "      <td>Entertainment</td>\n",
       "      <td>0.089172</td>\n",
       "    </tr>\n",
       "    <tr>\n",
       "      <th>4</th>\n",
       "      <td>GBR</td>\n",
       "      <td>Health</td>\n",
       "      <td>0.038217</td>\n",
       "    </tr>\n",
       "  </tbody>\n",
       "</table>\n",
       "</div>"
      ],
      "text/plain": [
       "  country_code                 main_sector  Percentage Ratio of Investment\n",
       "0          GBR         Automotive & Sports                        0.025478\n",
       "1          GBR                      Blanks                        0.011146\n",
       "2          GBR  Cleantech / Semiconductors                        0.207006\n",
       "3          GBR               Entertainment                        0.089172\n",
       "4          GBR                      Health                        0.038217"
      ]
     },
     "execution_count": 84,
     "metadata": {},
     "output_type": "execute_result"
    }
   ],
   "source": [
    "# Preview the head of dataframe\n",
    "sector_FT_data.head()"
   ]
  },
  {
   "cell_type": "code",
   "execution_count": 85,
   "metadata": {},
   "outputs": [
    {
     "data": {
      "image/png": "[encoded data removed]",
      "text/plain": [
       "<Figure size 1800x1000 with 1 Axes>"
      ]
     },
     "metadata": {},
     "output_type": "display_data"
    }
   ],
   "source": [
    "# Create a figure\n",
    "plt.figure(figsize=(18,10))\n",
    "\n",
    "# Creata bar plot for counrties based on Percentage Ratio of Investment for each sector\n",
    "ax = sns.barplot('country_code','Percentage Ratio of Investment',hue='main_sector',data=sector_FT_data,palette='Spectral',)\n",
    "\n",
    "# set y tick and its label to display percentage ration up insdeat of floating scale values \n",
    "ax.set_yticks(np.linspace(0,1,18))\n",
    "ax.set_yticklabels((np.linspace(0,100,18)).astype(int));\n",
    "\n",
    "# limit it to display the y axis upto 40%\n",
    "plt.ylim(0,0.4);\n",
    "\n",
    "# set plot title and labels and its font size\n",
    "plt.title(\"Percentage of number of Investment in Ventrue\\n for each sectors in Top 3 Countries\",size=18);\n",
    "ax.tick_params(axis='both', labelsize=14)\n",
    "ax.set_xlabel('Country',fontsize=15);\n",
    "ax.set_ylabel('Percentage of Investment in Total',fontsize=15)\n",
    "plt.legend(prop={'size': 14})\n",
    "\n",
    "# add percentage value above each bars\n",
    "#country = list(sector_FT_data.country_code.unique())\n",
    "#for index,row in sector_FT_data.iterrows():\n",
    "#    ax.text(country.index(row.country_code)-(-index*0.09)-0.39-country.index(row.country_code)*0.8125,row['Percentage Ratio of Investment']+0.005,round(row['Percentage Ratio of Investment']*100,1),size=12)\n",
    "\n",
    "# add text above bars\n",
    "for p in ax.patches:\n",
    "    height = p.get_height()\n",
    "    ax.text((p.get_x()+p.get_width()/2.),height+0.005,\"{:1.1f}\".format(height*100),ha=\"center\",size=12) \n",
    "\n",
    "# add horizontal line seperating top3 sectors from others \n",
    "ax.axhline(0.15,color='g');\n",
    "ax.text(2.7, 0.15, \"Top 3 Sectors margin\", ha=\"center\", va=\"center\", size=15,bbox=dict(boxstyle=\"larrow,pad=0.3\",ec='g', lw=2,color='w'));"
   ]
  },
  {
   "cell_type": "markdown",
   "metadata": {},
   "source": [
    "Now we can represent the top 3 sectors in seperate plot"
   ]
  },
  {
   "cell_type": "code",
   "execution_count": 86,
   "metadata": {},
   "outputs": [
    {
     "data": {
      "text/html": [
       "<div>\n",
       "<style scoped>\n",
       "    .dataframe tbody tr th:only-of-type {\n",
       "        vertical-align: middle;\n",
       "    }\n",
       "\n",
       "    .dataframe tbody tr th {\n",
       "        vertical-align: top;\n",
       "    }\n",
       "\n",
       "    .dataframe thead th {\n",
       "        text-align: right;\n",
       "    }\n",
       "</style>\n",
       "<table border=\"1\" class=\"dataframe\">\n",
       "  <thead>\n",
       "    <tr style=\"text-align: right;\">\n",
       "      <th></th>\n",
       "      <th>main_sector</th>\n",
       "      <th>Count</th>\n",
       "    </tr>\n",
       "    <tr>\n",
       "      <th>country_code</th>\n",
       "      <th></th>\n",
       "      <th></th>\n",
       "    </tr>\n",
       "  </thead>\n",
       "  <tbody>\n",
       "    <tr>\n",
       "      <th>GBR</th>\n",
       "      <td>Others</td>\n",
       "      <td>147</td>\n",
       "    </tr>\n",
       "    <tr>\n",
       "      <th>GBR</th>\n",
       "      <td>Social, Finance, Analytics, Advertising</td>\n",
       "      <td>133</td>\n",
       "    </tr>\n",
       "    <tr>\n",
       "      <th>GBR</th>\n",
       "      <td>Cleantech / Semiconductors</td>\n",
       "      <td>130</td>\n",
       "    </tr>\n",
       "    <tr>\n",
       "      <th>GBR</th>\n",
       "      <td>News, Search and Messaging</td>\n",
       "      <td>0</td>\n",
       "    </tr>\n",
       "    <tr>\n",
       "      <th>IND</th>\n",
       "      <td>Others</td>\n",
       "      <td>110</td>\n",
       "    </tr>\n",
       "    <tr>\n",
       "      <th>IND</th>\n",
       "      <td>Social, Finance, Analytics, Advertising</td>\n",
       "      <td>60</td>\n",
       "    </tr>\n",
       "    <tr>\n",
       "      <th>IND</th>\n",
       "      <td>News, Search and Messaging</td>\n",
       "      <td>52</td>\n",
       "    </tr>\n",
       "    <tr>\n",
       "      <th>IND</th>\n",
       "      <td>Cleantech / Semiconductors</td>\n",
       "      <td>0</td>\n",
       "    </tr>\n",
       "    <tr>\n",
       "      <th>USA</th>\n",
       "      <td>Others</td>\n",
       "      <td>2950</td>\n",
       "    </tr>\n",
       "    <tr>\n",
       "      <th>USA</th>\n",
       "      <td>Social, Finance, Analytics, Advertising</td>\n",
       "      <td>2714</td>\n",
       "    </tr>\n",
       "    <tr>\n",
       "      <th>USA</th>\n",
       "      <td>Cleantech / Semiconductors</td>\n",
       "      <td>2350</td>\n",
       "    </tr>\n",
       "    <tr>\n",
       "      <th>USA</th>\n",
       "      <td>News, Search and Messaging</td>\n",
       "      <td>0</td>\n",
       "    </tr>\n",
       "  </tbody>\n",
       "</table>\n",
       "</div>"
      ],
      "text/plain": [
       "                                          main_sector  Count\n",
       "country_code                                                \n",
       "GBR                                            Others    147\n",
       "GBR           Social, Finance, Analytics, Advertising    133\n",
       "GBR                        Cleantech / Semiconductors    130\n",
       "GBR                        News, Search and Messaging      0\n",
       "IND                                            Others    110\n",
       "IND           Social, Finance, Analytics, Advertising     60\n",
       "IND                        News, Search and Messaging     52\n",
       "IND                        Cleantech / Semiconductors      0\n",
       "USA                                            Others   2950\n",
       "USA           Social, Finance, Analytics, Advertising   2714\n",
       "USA                        Cleantech / Semiconductors   2350\n",
       "USA                        News, Search and Messaging      0"
      ]
     },
     "execution_count": 86,
     "metadata": {},
     "output_type": "execute_result"
    }
   ],
   "source": [
    "# get the sectors which are on the top three in each country\n",
    "sectors = ['Cleantech / Semiconductors','Social, Finance, Analytics, Advertising','Others','News, Search and Messaging']\n",
    "\n",
    "# filter out other sectors to a new dataframe \n",
    "sector_FT_top3 = sector_FT_df[sector_FT_df['main_sector'].isin(sectors)].groupby('country_code')['main_sector'].value_counts().to_frame()\n",
    "sector_FT_top3.columns = ['Count']\n",
    "sector_FT_top3 = sector_FT_top3.reset_index()\n",
    "\n",
    "# remove cleantech... from IND and News... from USA and GBR\n",
    "for country in ['GBR','IND','USA']:\n",
    "    if country == 'IND':\n",
    "        sector_FT_top3.loc[(sector_FT_top3.country_code == country) & ~((sector_FT_top3.main_sector.isin(sectors[1:]))),'Count'] = 0\n",
    "    else :\n",
    "        sector_FT_top3.loc[(sector_FT_top3.country_code == country) & ~((sector_FT_top3.main_sector.isin(sectors[:-1]))),'Count'] = 0\n",
    "\n",
    "# set index as countrycode\n",
    "sector_FT_top3 = sector_FT_top3.set_index('country_code')\n",
    "sector_FT_top3"
   ]
  },
  {
   "cell_type": "code",
   "execution_count": 87,
   "metadata": {},
   "outputs": [
    {
     "data": {
      "image/png": "[encoded data removed]",
      "text/plain": [
       "<Figure size 800x550 with 1 Axes>"
      ]
     },
     "metadata": {},
     "output_type": "display_data"
    }
   ],
   "source": [
    "# Create a count plot for number of sectors from top 3 for its respective countries\n",
    "ax = sns.barplot(sector_FT_top3.index,y='Count',hue='main_sector',data=sector_FT_top3);\n",
    "\n",
    "# remove borders\n",
    "sns.despine(top=True, right=True, left=False, bottom=True)\n",
    "\n",
    "# add text above bars\n",
    "for i,p in enumerate(ax.patches):\n",
    "    height = p.get_height()\n",
    "    width = p.get_width()\n",
    "    if height > 0:\n",
    "        #if ax.patches[i-3].get_height() == 0 & i-3 >= 0:\n",
    "        if i == 10:\n",
    "            p.set_x(p.get_x()-width)\n",
    "        ax.text((p.get_x()+width/2.),height + 25,\"{:1.0f}\".format(height),ha=\"center\")\n",
    "        \n",
    "\n",
    "# set title and axis labels\n",
    "plt.title('Number of Investments in the top 3 Sectors\\nof the Top 3 Countries')\n",
    "plt.xlabel('Country',size=14)\n",
    "plt.ylabel('Number of investments',size=14);\n",
    "plt.tight_layout();"
   ]
  },
  {
   "cell_type": "markdown",
   "metadata": {},
   "source": [
    "<br><br><center><h2>Overview of sectors for Top 3 Countries</h2></center>"
   ]
  },
  {
   "cell_type": "code",
   "execution_count": 88,
   "metadata": {},
   "outputs": [
    {
     "data": {
      "text/html": [
       "<div>\n",
       "<style scoped>\n",
       "    .dataframe tbody tr th:only-of-type {\n",
       "        vertical-align: middle;\n",
       "    }\n",
       "\n",
       "    .dataframe tbody tr th {\n",
       "        vertical-align: top;\n",
       "    }\n",
       "\n",
       "    .dataframe thead tr th {\n",
       "        text-align: left;\n",
       "    }\n",
       "\n",
       "    .dataframe thead tr:last-of-type th {\n",
       "        text-align: right;\n",
       "    }\n",
       "</style>\n",
       "<table border=\"1\" class=\"dataframe\">\n",
       "  <thead>\n",
       "    <tr>\n",
       "      <th></th>\n",
       "      <th colspan=\"3\" halign=\"left\">Number of Investment</th>\n",
       "      <th colspan=\"3\" halign=\"left\">Total Amount in Millions</th>\n",
       "    </tr>\n",
       "    <tr>\n",
       "      <th>country_code</th>\n",
       "      <th>GBR</th>\n",
       "      <th>IND</th>\n",
       "      <th>USA</th>\n",
       "      <th>GBR</th>\n",
       "      <th>IND</th>\n",
       "      <th>USA</th>\n",
       "    </tr>\n",
       "    <tr>\n",
       "      <th>main_sector</th>\n",
       "      <th></th>\n",
       "      <th></th>\n",
       "      <th></th>\n",
       "      <th></th>\n",
       "      <th></th>\n",
       "      <th></th>\n",
       "    </tr>\n",
       "  </thead>\n",
       "  <tbody>\n",
       "    <tr>\n",
       "      <th>Automotive &amp; Sports</th>\n",
       "      <td>16</td>\n",
       "      <td>13</td>\n",
       "      <td>167</td>\n",
       "      <td>167.1</td>\n",
       "      <td>136.9</td>\n",
       "      <td>1454.1</td>\n",
       "    </tr>\n",
       "    <tr>\n",
       "      <th>Blanks</th>\n",
       "      <td>7</td>\n",
       "      <td>2</td>\n",
       "      <td>86</td>\n",
       "      <td>57.8</td>\n",
       "      <td>27.0</td>\n",
       "      <td>764.8</td>\n",
       "    </tr>\n",
       "    <tr>\n",
       "      <th>Cleantech / Semiconductors</th>\n",
       "      <td>130</td>\n",
       "      <td>20</td>\n",
       "      <td>2350</td>\n",
       "      <td>1164.0</td>\n",
       "      <td>165.4</td>\n",
       "      <td>21633.4</td>\n",
       "    </tr>\n",
       "    <tr>\n",
       "      <th>Entertainment</th>\n",
       "      <td>56</td>\n",
       "      <td>33</td>\n",
       "      <td>591</td>\n",
       "      <td>482.8</td>\n",
       "      <td>280.8</td>\n",
       "      <td>5099.2</td>\n",
       "    </tr>\n",
       "    <tr>\n",
       "      <th>Health</th>\n",
       "      <td>24</td>\n",
       "      <td>19</td>\n",
       "      <td>909</td>\n",
       "      <td>214.5</td>\n",
       "      <td>167.7</td>\n",
       "      <td>8211.9</td>\n",
       "    </tr>\n",
       "    <tr>\n",
       "      <th>Manufacturing</th>\n",
       "      <td>42</td>\n",
       "      <td>21</td>\n",
       "      <td>799</td>\n",
       "      <td>361.9</td>\n",
       "      <td>200.9</td>\n",
       "      <td>7258.6</td>\n",
       "    </tr>\n",
       "    <tr>\n",
       "      <th>News, Search and Messaging</th>\n",
       "      <td>73</td>\n",
       "      <td>52</td>\n",
       "      <td>1583</td>\n",
       "      <td>615.7</td>\n",
       "      <td>433.8</td>\n",
       "      <td>13971.6</td>\n",
       "    </tr>\n",
       "    <tr>\n",
       "      <th>Others</th>\n",
       "      <td>147</td>\n",
       "      <td>110</td>\n",
       "      <td>2950</td>\n",
       "      <td>1283.6</td>\n",
       "      <td>1013.4</td>\n",
       "      <td>26321.0</td>\n",
       "    </tr>\n",
       "    <tr>\n",
       "      <th>Social, Finance, Analytics, Advertising</th>\n",
       "      <td>133</td>\n",
       "      <td>60</td>\n",
       "      <td>2714</td>\n",
       "      <td>1089.4</td>\n",
       "      <td>550.5</td>\n",
       "      <td>23807.4</td>\n",
       "    </tr>\n",
       "  </tbody>\n",
       "</table>\n",
       "</div>"
      ],
      "text/plain": [
       "                                        Number of Investment             \\\n",
       "country_code                                             GBR  IND   USA   \n",
       "main_sector                                                               \n",
       "Automotive & Sports                                       16   13   167   \n",
       "Blanks                                                     7    2    86   \n",
       "Cleantech / Semiconductors                               130   20  2350   \n",
       "Entertainment                                             56   33   591   \n",
       "Health                                                    24   19   909   \n",
       "Manufacturing                                             42   21   799   \n",
       "News, Search and Messaging                                73   52  1583   \n",
       "Others                                                   147  110  2950   \n",
       "Social, Finance, Analytics, Advertising                  133   60  2714   \n",
       "\n",
       "                                        Total Amount in Millions          \\\n",
       "country_code                                                 GBR     IND   \n",
       "main_sector                                                                \n",
       "Automotive & Sports                                        167.1   136.9   \n",
       "Blanks                                                      57.8    27.0   \n",
       "Cleantech / Semiconductors                                1164.0   165.4   \n",
       "Entertainment                                              482.8   280.8   \n",
       "Health                                                     214.5   167.7   \n",
       "Manufacturing                                              361.9   200.9   \n",
       "News, Search and Messaging                                 615.7   433.8   \n",
       "Others                                                    1283.6  1013.4   \n",
       "Social, Finance, Analytics, Advertising                   1089.4   550.5   \n",
       "\n",
       "                                                  \n",
       "country_code                                 USA  \n",
       "main_sector                                       \n",
       "Automotive & Sports                       1454.1  \n",
       "Blanks                                     764.8  \n",
       "Cleantech / Semiconductors               21633.4  \n",
       "Entertainment                             5099.2  \n",
       "Health                                    8211.9  \n",
       "Manufacturing                             7258.6  \n",
       "News, Search and Messaging               13971.6  \n",
       "Others                                   26321.0  \n",
       "Social, Finance, Analytics, Advertising  23807.4  "
      ]
     },
     "execution_count": 88,
     "metadata": {},
     "output_type": "execute_result"
    }
   ],
   "source": [
    "sector_FT_group =sector_FT_df.groupby(['country_code','main_sector']).agg({'main_sector':pd.Series.count,'raised_amount_usd':np.sum})\n",
    "sector_FT_group.columns = ['Number of Investment','Total Amount in Millions']\n",
    "sector_FT_group['Total Amount in Millions'] = sector_FT_group['Total Amount in Millions'].apply(lambda x: \"%.1f\" % (x/1000000))\n",
    "sector_FT_group.unstack('country_code')"
   ]
  },
  {
   "cell_type": "markdown",
   "metadata": {},
   "source": [
    "## Conclusion"
   ]
  },
  {
   "cell_type": "markdown",
   "metadata": {},
   "source": [
    "Spark funds can invest in the following companies from Top sectors \n",
    "<b><center>Top Sectors</center></b>\n",
    "<table>\n",
    "    <tr><th></th><th>USA</th><th>GBR</th><th>IND</th>\n",
    "    <tr><td>Top 1 Sector </td><td>Others</td><td>Others</td><td>Others</td></tr>\n",
    "    <tr><td>Top 2 Sector</td><td>Social, Finance, Analytics, Advertising</td><td>Social, Finance, Analytics, Advertising</td><td>Social, Finance, Analytics, Advertising</td></tr>\n",
    "</table>"
   ]
  },
  {
   "cell_type": "markdown",
   "metadata": {},
   "source": [
    "These sectors are in the lead with most investments at the range 5M to 15 M for the <b>fundng type Venture</b>"
   ]
  },
  {
   "cell_type": "markdown",
   "metadata": {},
   "source": [
    "<b><center>Top Companies</center></b>\n",
    "<table>\n",
    "    <tr><th></th><th>USA</th><th>GBR</th><th>IND</th>\n",
    "    <tr><td>Top 1 Company</td><td>/organization/virtustream</td><td>/organization/electric-cloud</td><td>/organization/firstcry-com</td></tr>\n",
    "<tr><td>Top 2 Company</td><td>/organization/shotspotter</td><td>/organization/celltick-technologies</td><td>/organization/manthan-systems</td></tr>\n",
    "</table>"
   ]
  },
  {
   "cell_type": "markdown",
   "metadata": {},
   "source": [
    "These companies has highest investment amount in the top sectors within the investment range which Spark funds can invest in"
   ]
  },
  {
   "cell_type": "code",
   "execution_count": null,
   "metadata": {},
   "outputs": [],
   "source": []
  }
 ],
 "metadata": {
  "kernelspec": {
   "display_name": "Python 3",
   "language": "python",
   "name": "python3"
  },
  "language_info": {
   "codemirror_mode": {
    "name": "ipython",
    "version": 3
   },
   "file_extension": ".py",
   "mimetype": "text/x-python",
   "name": "python",
   "nbconvert_exporter": "python",
   "pygments_lexer": "ipython3",
   "version": "3.8.3"
  }
 },
 "nbformat": 4,
 "nbformat_minor": 4
}
