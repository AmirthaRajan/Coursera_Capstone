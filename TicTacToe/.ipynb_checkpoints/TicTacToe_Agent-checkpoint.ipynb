{
 "cells": [
  {
   "cell_type": "markdown",
   "metadata": {
    "colab_type": "text",
    "id": "rznSDgbvGggG"
   },
   "source": [
    "## Tic-Tac-Toe Agent\n",
    "​\n",
    "In this notebook, you will learn to build an RL agent (using Q-learning) that learns to play Numerical Tic-Tac-Toe with odd numbers. The environment is playing randomly with the agent, i.e. its strategy is to put an even number randomly in an empty cell. The following is the layout of the notebook:\n",
    "        - Defining epsilon-greedy strategy\n",
    "        - Tracking state-action pairs for convergence\n",
    "        - Define hyperparameters for the Q-learning algorithm\n",
    "        - Generating episode and applying Q-update equation\n",
    "        - Checking convergence in Q-values"
   ]
  },
  {
   "cell_type": "markdown",
   "metadata": {
    "colab_type": "text",
    "id": "8eDb8PxBGggH"
   },
   "source": [
    "#### Importing libraries\n",
    "Write the code to import Tic-Tac-Toe class from the environment file"
   ]
  },
  {
   "cell_type": "code",
   "execution_count": 1,
   "metadata": {
    "colab": {},
    "colab_type": "code",
    "id": "6SFNYceFGggJ"
   },
   "outputs": [],
   "source": [
    "# from <TC_Env> import <TicTacToe> - import your class from environment file\n",
    "import collections\n",
    "import numpy as np\n",
    "import random\n",
    "import pickle\n",
    "import time\n",
    "from matplotlib import pyplot as plt\n",
    "from TCGame_Env import TicTacToe\n",
    "from tqdm import tqdm"
   ]
  },
  {
   "cell_type": "code",
   "execution_count": 2,
   "metadata": {
    "colab": {},
    "colab_type": "code",
    "id": "wYLQyopEG8nz"
   },
   "outputs": [],
   "source": [
    "# Function to convert state array into a string to store it as keys in the dictionary\n",
    "# states in Q-dictionary will be of form: x-4-5-3-8-x-x-x-x\n",
    "#   x | 4 | 5\n",
    "#   ----------\n",
    "#   3 | 8 | x\n",
    "#   ----------\n",
    "#   x | x | x\n",
    "\n",
    "def Q_state(state):\n",
    "\n",
    "    return ('-'.join(str(e) for e in state.flatten().astype(int))).replace('0','x')"
   ]
  },
  {
   "cell_type": "code",
   "execution_count": 3,
   "metadata": {
    "colab": {},
    "colab_type": "code",
    "id": "ZebMOoiVHBBr"
   },
   "outputs": [],
   "source": [
    "# Defining a function which will return valid (all possible actions) actions corresponding to a state\n",
    "# Important to avoid errors during deployment.\n",
    "\n",
    "def valid_actions(state):\n",
    "\n",
    "    valid_Actions = []\n",
    "    \n",
    "    valid_Actions = [i for i in env.action_space(state)[0]] ###### -------please call your environment as env\n",
    "    return valid_Actions"
   ]
  },
  {
   "cell_type": "code",
   "execution_count": 4,
   "metadata": {
    "colab": {},
    "colab_type": "code",
    "id": "IRciPUkYHDWf"
   },
   "outputs": [],
   "source": [
    "# Defining a function which will add new Q-values to the Q-dictionary. \n",
    "def add_to_dict(state):\n",
    "    state1 = Q_state(state)\n",
    "    \n",
    "    valid_act = valid_actions(state)\n",
    "    if state1 not in Q_dict.keys():\n",
    "        for action in valid_act:\n",
    "            Q_dict[state1][action]=0"
   ]
  },
  {
   "cell_type": "markdown",
   "metadata": {
    "colab_type": "text",
    "id": "fNNi_EfHGggM"
   },
   "source": [
    "#### Epsilon-greedy strategy - Write your code here\n",
    "\n",
    "(you can build your epsilon-decay function similar to the one given at the end of the notebook)"
   ]
  },
  {
   "cell_type": "code",
   "execution_count": 5,
   "metadata": {
    "colab": {},
    "colab_type": "code",
    "id": "m0lMfqiJGggN"
   },
   "outputs": [],
   "source": [
    "# Defining epsilon-greedy policy.\n",
    "def epsilon_greedy_strategy(state, time):\n",
    "    \n",
    "    epsilon = min_epsilon + np.exp(-0.000001*time) * (max_epsilon - min_epsilon)\n",
    "    rand = np.random.random()       \n",
    "    if rand > epsilon:\n",
    "        greedy_action = max(Q_dict[Q_state(state)],key=Q_dict[Q_state(state)].get)\n",
    "    else:\n",
    "        greedy_action = random.sample(valid_actions(state),1)[0]   \n",
    "    \n",
    "    return greedy_action"
   ]
  },
  {
   "cell_type": "markdown",
   "metadata": {
    "colab_type": "text",
    "id": "H2kyQHOMGggR"
   },
   "source": [
    "#### Tracking the state-action pairs for checking convergence - write your code here"
   ]
  },
  {
   "cell_type": "code",
   "execution_count": 6,
   "metadata": {},
   "outputs": [],
   "source": [
    "# Initialise Q_dictionary as 'Q_dict' and States_tracked as 'States_track' (for convergence)\n",
    "Q_dict = collections.defaultdict(dict)\n",
    "States_track = collections.defaultdict(dict)"
   ]
  },
  {
   "cell_type": "code",
   "execution_count": 7,
   "metadata": {
    "colab": {},
    "colab_type": "code",
    "id": "vs73iv8fHOxV"
   },
   "outputs": [],
   "source": [
    "# Initialise few random states to be tracked\n",
    "def initialise_tracking_states():\n",
    "    sample_action_values = [('1-x-x-x-x-4-x-x-x',(7,5)),\n",
    "                       ('x-2-x-x-x-x-5-x-x',(5,7)),\n",
    "                       ('x-8-x-7-x-x-x-x-x',(8,1)),\n",
    "                       ('x-x-x-1-6-x-x-x-x',(5,3)),\n",
    "                       ('7-4-x-x-x-6-3-x-x',(3,5)),\n",
    "                       ('x-9-5-x-x-x-8-4-x',(0,3)),\n",
    "                       ('2-7-x-x-6-x-x-3-x',(8,7)),\n",
    "                       ('x-8-x-x-x-x-x-9-x',(8,1)),\n",
    "                       ('x-6-x-x-x-x-x-x-1',(0,9)),\n",
    "                       ('1-2-x-x-x-6-7-x-x',(4,9)),\n",
    "                       ('5-7-x-X-x-x-2-6-x',(2,3)),\n",
    "                       ('7-x-6-x-x-4-9-x-x',(8,5)),\n",
    "                       ('x-8-5-x-4-x-x-1-x',(6,9)),\n",
    "                       ('9-x-3-x-4-x-x-x-8',(1,1))]\n",
    "    \n",
    "    for q_value in sample_action_values:\n",
    "        state = q_value[0]\n",
    "        action = q_value[1]\n",
    "        States_track[state][action] = []"
   ]
  },
  {
   "cell_type": "code",
   "execution_count": 8,
   "metadata": {},
   "outputs": [],
   "source": [
    "def preview_game(current_status):\n",
    "    val = current_status.split('-')\n",
    "    print(\"\\n \"+str(val[0])+\" | \"+str(val[1])+\" | \"+str(val[2])+\" \")\n",
    "    print('-----------')\n",
    "    print(\" \"+str(val[3])+\" | \"+str(val[4])+\" | \"+str(val[5])+\" \")\n",
    "    print('-----------')\n",
    "    print(\" \"+str(val[6])+\" | \"+str(val[7])+\" | \"+str(val[8])+\" \\n\")"
   ]
  },
  {
   "cell_type": "code",
   "execution_count": 9,
   "metadata": {},
   "outputs": [
    {
     "name": "stdout",
     "output_type": "stream",
     "text": [
      "\n",
      " 9 | x | 3 \n",
      "-----------\n",
      " x | 4 | x \n",
      "-----------\n",
      " x | x | 8 \n",
      "\n"
     ]
    }
   ],
   "source": [
    "preview_game('9-x-3-x-4-x-x-x-8')"
   ]
  },
  {
   "cell_type": "code",
   "execution_count": 10,
   "metadata": {
    "colab": {},
    "colab_type": "code",
    "id": "dAbwJDMVHpwl"
   },
   "outputs": [],
   "source": [
    "#Defining a function to save the Q-dictionary as a pickle file\n",
    "\n",
    "def save_obj(obj, name ):\n",
    "    with open(name + '.pkl', 'wb') as f:\n",
    "        pickle.dump(obj, f, pickle.HIGHEST_PROTOCOL)"
   ]
  },
  {
   "cell_type": "code",
   "execution_count": 11,
   "metadata": {
    "colab": {},
    "colab_type": "code",
    "id": "6Pyj7nMVHsBi"
   },
   "outputs": [],
   "source": [
    "def save_tracking_states():\n",
    "    for state in States_track.keys():\n",
    "        for action in States_track[state].keys():\n",
    "            if state in Q_dict and action in Q_dict[state]:\n",
    "                States_track[state][action].append(Q_dict[state][action])"
   ]
  },
  {
   "cell_type": "code",
   "execution_count": 12,
   "metadata": {
    "colab": {},
    "colab_type": "code",
    "id": "B_8xSluUHvew"
   },
   "outputs": [],
   "source": [
    "initialise_tracking_states()"
   ]
  },
  {
   "cell_type": "code",
   "execution_count": 13,
   "metadata": {},
   "outputs": [
    {
     "data": {
      "text/plain": [
       "defaultdict(dict,\n",
       "            {'1-x-x-x-x-4-x-x-x': {(7, 5): []},\n",
       "             'x-2-x-x-x-x-5-x-x': {(5, 7): []},\n",
       "             'x-8-x-7-x-x-x-x-x': {(8, 1): []},\n",
       "             'x-x-x-1-6-x-x-x-x': {(5, 3): []},\n",
       "             '7-4-x-x-x-6-3-x-x': {(3, 5): []},\n",
       "             'x-9-5-x-x-x-8-4-x': {(0, 3): []},\n",
       "             '2-7-x-x-6-x-x-3-x': {(8, 7): []},\n",
       "             'x-8-x-x-x-x-x-9-x': {(8, 1): []},\n",
       "             'x-6-x-x-x-x-x-x-1': {(0, 9): []},\n",
       "             '1-2-x-x-x-6-7-x-x': {(4, 9): []},\n",
       "             '5-7-x-X-x-x-2-6-x': {(2, 3): []},\n",
       "             '7-x-6-x-x-4-9-x-x': {(8, 5): []},\n",
       "             'x-8-5-x-4-x-x-1-x': {(6, 9): []},\n",
       "             '9-x-3-x-4-x-x-x-8': {(1, 1): []}})"
      ]
     },
     "execution_count": 13,
     "metadata": {},
     "output_type": "execute_result"
    }
   ],
   "source": [
    "States_track"
   ]
  },
  {
   "cell_type": "markdown",
   "metadata": {
    "colab_type": "text",
    "id": "-iPt--E9GggV"
   },
   "source": [
    "#### Define hyperparameters  ---write your code here"
   ]
  },
  {
   "cell_type": "code",
   "execution_count": 14,
   "metadata": {
    "colab": {},
    "colab_type": "code",
    "id": "G0_f5czFGggW"
   },
   "outputs": [],
   "source": [
    "# total no. of episodes\n",
    "EPISODES = 5000000\n",
    "\n",
    "# learning rate\n",
    "LR = 0.20\n",
    "\n",
    "# discount factor\n",
    "GAMMA = 0.8\n",
    "\n",
    "# no. of episodes after which states_tracked will be saved\n",
    "threshold = 2500\n",
    "\n",
    "# no.of epishods after which preive the status of games played\n",
    "checkpoint_print_episodes = 500000\n",
    "\n",
    "# Min_Greed: 0.1%\n",
    "min_epsilon = 0.001\n",
    "\n",
    "# Greed: 100%\n",
    "max_epsilon = 1.0"
   ]
  },
  {
   "cell_type": "markdown",
   "metadata": {
    "colab_type": "text",
    "id": "Md6twJ7wGggh"
   },
   "source": [
    "### Q-update loop ---write your code here"
   ]
  },
  {
   "cell_type": "code",
   "execution_count": 15,
   "metadata": {
    "colab": {},
    "colab_type": "code",
    "id": "ldCgQuDNGggj"
   },
   "outputs": [
    {
     "name": "stderr",
     "output_type": "stream",
     "text": [
      " 10%|█         | 500208/5000000 [06:31<57:39, 1300.63it/s]  "
     ]
    },
    {
     "name": "stdout",
     "output_type": "stream",
     "text": [
      "After playing 500000 games, Agent Won : 0.3921, Environment Won : 0.3664, Tie : 0.2415\n"
     ]
    },
    {
     "name": "stderr",
     "output_type": "stream",
     "text": [
      " 20%|██        | 1000326/5000000 [12:09<41:40, 1599.76it/s] "
     ]
    },
    {
     "name": "stdout",
     "output_type": "stream",
     "text": [
      "After playing 1000000 games, Agent Won : 0.4942, Environment Won : 0.3018, Tie : 0.2040\n",
      "Processed 1M episodes\n"
     ]
    },
    {
     "name": "stderr",
     "output_type": "stream",
     "text": [
      " 30%|███       | 1500198/5000000 [16:58<31:28, 1853.66it/s]"
     ]
    },
    {
     "name": "stdout",
     "output_type": "stream",
     "text": [
      "After playing 1500000 games, Agent Won : 0.5823, Environment Won : 0.2493, Tie : 0.1685\n"
     ]
    },
    {
     "name": "stderr",
     "output_type": "stream",
     "text": [
      " 40%|████      | 2000436/5000000 [21:20<24:29, 2041.18it/s]"
     ]
    },
    {
     "name": "stdout",
     "output_type": "stream",
     "text": [
      "After playing 2000000 games, Agent Won : 0.6495, Environment Won : 0.2090, Tie : 0.1415\n",
      "Processed 2M episodes\n"
     ]
    },
    {
     "name": "stderr",
     "output_type": "stream",
     "text": [
      " 50%|█████     | 2500332/5000000 [25:25<20:03, 2076.90it/s]"
     ]
    },
    {
     "name": "stdout",
     "output_type": "stream",
     "text": [
      "After playing 2500000 games, Agent Won : 0.7012, Environment Won : 0.1779, Tie : 0.1208\n"
     ]
    },
    {
     "name": "stderr",
     "output_type": "stream",
     "text": [
      " 60%|██████    | 3000236/5000000 [29:26<15:17, 2178.89it/s]"
     ]
    },
    {
     "name": "stdout",
     "output_type": "stream",
     "text": [
      "After playing 3000000 games, Agent Won : 0.7414, Environment Won : 0.1538, Tie : 0.1048\n",
      "Processed 3M episodes\n"
     ]
    },
    {
     "name": "stderr",
     "output_type": "stream",
     "text": [
      " 70%|███████   | 3500414/5000000 [33:23<11:33, 2161.33it/s]"
     ]
    },
    {
     "name": "stdout",
     "output_type": "stream",
     "text": [
      "After playing 3500000 games, Agent Won : 0.7731, Environment Won : 0.1347, Tie : 0.0922\n"
     ]
    },
    {
     "name": "stderr",
     "output_type": "stream",
     "text": [
      " 80%|████████  | 4000277/5000000 [37:16<07:21, 2263.17it/s]"
     ]
    },
    {
     "name": "stdout",
     "output_type": "stream",
     "text": [
      "After playing 4000000 games, Agent Won : 0.7986, Environment Won : 0.1194, Tie : 0.0820\n",
      "Processed 4M episodes\n"
     ]
    },
    {
     "name": "stderr",
     "output_type": "stream",
     "text": [
      " 90%|█████████ | 4500403/5000000 [41:10<03:57, 2105.44it/s]"
     ]
    },
    {
     "name": "stdout",
     "output_type": "stream",
     "text": [
      "After playing 4500000 games, Agent Won : 0.8191, Environment Won : 0.1070, Tie : 0.0738\n"
     ]
    },
    {
     "name": "stderr",
     "output_type": "stream",
     "text": [
      "100%|██████████| 5000000/5000000 [45:05<00:00, 1848.12it/s]\n"
     ]
    },
    {
     "name": "stdout",
     "output_type": "stream",
     "text": [
      "After playing 5000000 games, Agent Won : 0.8361, Environment Won : 0.0968, Tie : 0.0671\n",
      "Processed 5M episodes\n",
      "Total Execution time:  2705.459347009659\n"
     ]
    }
   ],
   "source": [
    "start_time = time.time()\n",
    "\n",
    "q_track={}\n",
    "q_track['1-x-x-x-x-4-x-x-x']=[]\n",
    "q_track['x-2-x-x-x-x-5-x-x']=[]\n",
    "q_track['x-8-x-7-x-x-x-x-x']=[]\n",
    "q_track['x-x-x-1-6-x-x-x-x']=[]\n",
    "q_track['7-4-x-x-x-6-3-x-x']=[]\n",
    "q_track['x-9-5-x-x-x-8-4-x']=[]\n",
    "q_track['2-7-x-x-6-x-x-3-x']=[]\n",
    "q_track['x-8-x-x-x-x-x-9-x']=[]\n",
    "q_track['x-6-x-x-x-x-x-x-1']=[]\n",
    "q_track['1-2-x-x-x-6-7-x-x']=[]\n",
    "q_track['5-7-x-X-x-x-2-6-x']=[]\n",
    "q_track['7-x-6-x-x-4-9-x-x']=[]\n",
    "q_track['x-8-5-x-4-x-x-1-x']=[]\n",
    "q_track['9-x-3-x-4-x-x-x-8']=[] \n",
    "                    \n",
    "agent_won_count = 0\n",
    "env_won_count = 0\n",
    "tie_count = 0\n",
    "\n",
    "for episode in tqdm(range(EPISODES)):\n",
    "    ##### Start writing your code from the next line\n",
    "    \n",
    "    env = TicTacToe()\n",
    "    current_state = env.state\n",
    "    \n",
    "    ## Initalizing parameter for the episodes\n",
    "    reward=0\n",
    "    total_reward = 0\n",
    "    is_terminal = False\n",
    "    \n",
    "    # adding the current state to dictionary\n",
    "    add_to_dict(current_state)\n",
    "    \n",
    "    while not is_terminal:\n",
    "        \n",
    "        current_lookup = Q_state(current_state)\n",
    "        \n",
    "        # applying epislon-greedy policy method\n",
    "        current_action = epsilon_greedy_strategy(current_state, episode)\n",
    "        \n",
    "        if Q_state(current_state) in q_track.keys():\n",
    "            q_track[Q_state(current_state)].append(current_action)\n",
    "\n",
    "        next_state,reward,is_terminal, msg = env.step(current_state,current_action)\n",
    "        \n",
    "        next_lookup = Q_state(next_state)\n",
    "\n",
    "        if is_terminal:\n",
    "            q_value_max = 0\n",
    "            \n",
    "            # Tracking the count of games won by agent and environment\n",
    "            if msg == \"Agent Won!\":\n",
    "                agent_won_count += 1\n",
    "            elif msg == \"Environment Won!\":\n",
    "                env_won_count += 1\n",
    "            else:\n",
    "                tie_count += 1\n",
    "        else:\n",
    "            add_to_dict(next_state)\n",
    "            max_next = max(Q_dict[next_lookup],key=Q_dict[next_lookup].get)\n",
    "            q_value_max = Q_dict[next_lookup][max_next]\n",
    "        \n",
    "        Q_dict[current_lookup][current_action] += LR * ((reward + (GAMMA * (q_value_max))) - Q_dict[current_lookup][current_action]) \n",
    "        current_state = next_state\n",
    "\n",
    "        total_reward += reward\n",
    "\n",
    "    if (episode + 1) % checkpoint_print_episodes == 0:\n",
    "        print(\"After playing %d games, Agent Won : %.4f, Environment Won : %.4f, Tie : %.4f\"% (episode + 1, \n",
    "            agent_won_count / (episode + 1), env_won_count /(episode + 1), tie_count / (episode + 1)))\n",
    "\n",
    "    if ((episode + 1) % threshold) == 0:   \n",
    "        save_tracking_states()\n",
    "\n",
    "    if ((episode + 1) % 1000000) == 0:\n",
    "        print('Processed %dM episodes'%((episode+1)/1000000))\n",
    "    \n",
    "elapsed_time = time.time() - start_time\n",
    "save_obj(States_track,'States_tracked')   \n",
    "save_obj(Q_dict,'Policy')\n",
    "print('Total Execution time: ', elapsed_time)"
   ]
  },
  {
   "cell_type": "markdown",
   "metadata": {
    "colab_type": "text",
    "id": "t6eMFbb8Ggg2"
   },
   "source": [
    "#### Check the Q-dictionary"
   ]
  },
  {
   "cell_type": "code",
   "execution_count": 16,
   "metadata": {
    "colab": {},
    "colab_type": "code",
    "id": "F1tnDJWkGgg9"
   },
   "outputs": [
    {
     "data": {
      "text/plain": [
       "929137"
      ]
     },
     "execution_count": 16,
     "metadata": {},
     "output_type": "execute_result"
    }
   ],
   "source": [
    "len(Q_dict)"
   ]
  },
  {
   "cell_type": "code",
   "execution_count": 31,
   "metadata": {
    "colab": {},
    "colab_type": "code",
    "id": "cFgUqfcQGghB"
   },
   "outputs": [
    {
     "data": {
      "text/plain": [
       "{(0, 1): 0.5798043284644153,\n",
       " (0, 3): -0.9537121357453375,\n",
       " (0, 7): -1.3933413023154178,\n",
       " (0, 9): -0.22073070675924344,\n",
       " (2, 1): 0.26079645995368117,\n",
       " (2, 3): -0.95601953488896,\n",
       " (2, 7): -0.6478253964751453,\n",
       " (2, 9): -0.18356056097094742,\n",
       " (3, 1): 0.578344746521831,\n",
       " (3, 3): 3.6241652461782956,\n",
       " (3, 7): 1.0467628072142776,\n",
       " (3, 9): 2.5282936983783895,\n",
       " (4, 1): -0.4810190953177872,\n",
       " (4, 3): -0.3859699060739826,\n",
       " (4, 7): -5.72093927987993,\n",
       " (4, 9): -2.291129245650431,\n",
       " (5, 1): -0.6825700018631474,\n",
       " (5, 3): 1.7649077540678544,\n",
       " (5, 7): -3.2196271947448323,\n",
       " (5, 9): -3.0955648509333997,\n",
       " (7, 1): 6.756349124785724,\n",
       " (7, 3): 1.1485533627710183,\n",
       " (7, 7): -0.981985601490518,\n",
       " (7, 9): -0.6123563632090486,\n",
       " (8, 1): 1.9345675956261146,\n",
       " (8, 3): 4.567906450710206,\n",
       " (8, 7): -1.096221406777971,\n",
       " (8, 9): -1.2727324538424525}"
      ]
     },
     "execution_count": 31,
     "metadata": {},
     "output_type": "execute_result"
    }
   ],
   "source": [
    "# try checking for one of the states - that which action your agent thinks is the best  -----This will not be evaluated\n",
    "Q_dict['x-2-x-x-x-x-5-x-x']"
   ]
  },
  {
   "cell_type": "markdown",
   "metadata": {
    "colab_type": "text",
    "id": "KGPZEQDFGghG"
   },
   "source": [
    "#### Check the states tracked for Q-values convergence\n",
    "(non-evaluative)"
   ]
  },
  {
   "cell_type": "code",
   "execution_count": 30,
   "metadata": {
    "colab": {},
    "colab_type": "code",
    "id": "pVQInsg7GghL"
   },
   "outputs": [
    {
     "data": {
      "image/png": "[encoded data removed]",
      "text/plain": [
       "<Figure size 1152x504 with 4 Axes>"
      ]
     },
     "metadata": {
      "needs_background": "light"
     },
     "output_type": "display_data"
    }
   ],
   "source": [
    "# Write the code for plotting the graphs for state-action pairs tracked\n",
    "plt.figure(0, figsize=(16,7))\n",
    "plt.subplot(241)\n",
    "t1=States_track['x-2-x-x-x-x-5-x-x'][(5,7)]\n",
    "plt.title(\"(s,a)='x-2-x-x-x-x-5-x-x',(5,7)\")\n",
    "plt.plot(np.asarray(range(0, len(t1))),np.asarray(t1))\n",
    "\n",
    "plt.subplot(242)\n",
    "t2=States_track['1-x-x-x-x-4-x-x-x'][(7,5)]\n",
    "plt.title(\"(s,a)='1-x-x-x-x-4-x-x-x',(7,5)\")\n",
    "plt.plot(np.asarray(range(0, len(t2))),np.asarray(t2))\n",
    "\n",
    "plt.subplot(243)\n",
    "t3=States_track['9-x-3-x-4-x-x-x-8'][(1,1)]\n",
    "plt.title(\"(s,a)='9-x-3-x-4-x-x-x-8',(1,1)\")\n",
    "plt.plot(np.asarray(range(0, len(t3))),np.asarray(t3))\n",
    "\n",
    "plt.subplot(244)\n",
    "t4=States_track['x-8-5-x-4-x-x-1-x'][(6,9)]\n",
    "plt.title(\"(s,a)='x-8-5-x-4-x-x-1-x',(6,9)\")\n",
    "plt.plot(np.asarray(range(0, len(t4))),np.asarray(t4))\n",
    "\n",
    "plt.show()"
   ]
  },
  {
   "cell_type": "markdown",
   "metadata": {
    "colab_type": "text",
    "id": "b2Opp8_NITkC"
   },
   "source": [
    "### Epsilon - decay check"
   ]
  },
  {
   "cell_type": "code",
   "execution_count": 19,
   "metadata": {
    "colab": {},
    "colab_type": "code",
    "id": "gQ_D_JsuGghR"
   },
   "outputs": [],
   "source": [
    "max_epsilon = 1.0\n",
    "min_epsilon = 0.001\n",
    "time = np.arange(0,5000000)\n",
    "epsilon = []\n",
    "for i in range(0,5000000):\n",
    "    epsilon.append(min_epsilon + (max_epsilon - min_epsilon) * np.exp(-0.000001*i))"
   ]
  },
  {
   "cell_type": "code",
   "execution_count": 20,
   "metadata": {
    "colab": {
     "base_uri": "https://localhost:8080/",
     "height": 347
    },
    "colab_type": "code",
    "id": "J7c2xADQGghV",
    "outputId": "cb60fce3-570b-45fb-bd83-abde3d13b273"
   },
   "outputs": [
    {
     "data": {
      "image/png": "[encoded data removed]",
      "text/plain": [
       "<Figure size 432x288 with 1 Axes>"
      ]
     },
     "metadata": {
      "needs_background": "light"
     },
     "output_type": "display_data"
    }
   ],
   "source": [
    "plt.plot(time, epsilon)\n",
    "plt.show()"
   ]
  },
  {
   "cell_type": "code",
   "execution_count": null,
   "metadata": {
    "colab": {},
    "colab_type": "code",
    "id": "59BRf43IJiQ1"
   },
   "outputs": [],
   "source": []
  }
 ],
 "metadata": {
  "colab": {
   "collapsed_sections": [],
   "name": "TicTacToe_Agent.ipynb",
   "provenance": [],
   "version": "0.3.2"
  },
  "kernelspec": {
   "display_name": "Python 3",
   "language": "python",
   "name": "python3"
  },
  "language_info": {
   "codemirror_mode": {
    "name": "ipython",
    "version": 3
   },
   "file_extension": ".py",
   "mimetype": "text/x-python",
   "name": "python",
   "nbconvert_exporter": "python",
   "pygments_lexer": "ipython3",
   "version": "3.8.10"
  }
 },
 "nbformat": 4,
 "nbformat_minor": 4
}
