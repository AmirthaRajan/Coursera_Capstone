{
 "metadata": {
  "language_info": {
   "codemirror_mode": {
    "name": "ipython",
    "version": 3
   },
   "file_extension": ".py",
   "mimetype": "text/x-python",
   "name": "python",
   "nbconvert_exporter": "python",
   "pygments_lexer": "ipython3",
   "version": "3.8.0-final"
  },
  "orig_nbformat": 2,
  "kernelspec": {
   "name": "Python 3.8.0 64-bit ('capstone': conda)",
   "display_name": "Python 3.8.0 64-bit ('capstone': conda)",
   "metadata": {
    "interpreter": {
     "hash": "681a3fd6216ad7cba5fc2e2bb213f602d9f61e1b0650b5801e9128046852fe71"
    }
   }
  }
 },
 "nbformat": 4,
 "nbformat_minor": 2,
 "cells": [
  {
   "source": [
    "# Prediction of USA Car Accidents Severity\n",
    "### by Amirtha Rajan\n",
    "<p>Oct 3, 2020</p>"
   ],
   "cell_type": "markdown",
   "metadata": {}
  },
  {
   "source": [
    "# INTRODUCTION\n",
    "<p>It Started with the first automobile crash in the United States occurred in New York City in 1896, when a motor vehicle collided with a pedalcycle rider. Later every year the accident count has been increasing but the number of death and number of drivers has never been lower. Now more than 38,000 people die every year in crashes on U.S. roadways. The U.S. traffic fatality rate is 12.4 deaths per 100,000 inhabitants. An additional 4.4 million are injured seriously enough to require medical attention.</p> \n",
    "<p>The develpment has lead to safer roads, quick emergency response, imposed traffic rules and of course faster cars nevertheless the rules of the road every drivers obeys are the laws of physic. Still nothing in the course of human revolution has prepared us for the forces incolved during a reckless frontal car crash which happens over a tenth of a second And the reason for crash are limitless but some poses are more prevalent than others. Most occured are the speeding and other cases included alcohol related.</p>\n",
    "<p>But there way ways in which this can be significantly reduced by prediction measures on analysing various range of factors, including weather conditions, special events, roadworks, traffic jams and bumpy and unsafty roads. Thus we can analyse on the patterns and events of occurance from history to predict the sevirity of accidents that could occur at during a period of time at similar locations. This could be the key to provide well informed accurate predition for the individual who travel though that road and provide better emergency respons, which could reduce significant amount of accidents per year. </p>\n",
    "<p> This analysis and accuracy measure that I am gonna build will provide the driver of critical areas better and plan their route accordingly. By publishing this, the importance and actions plans to be take will be visible to governemt to take all the measures to improve people safty on roads.</p>"
   ],
   "cell_type": "markdown",
   "metadata": {}
  },
  {
   "source": [
    "<center><img src=\"https://upload.wikimedia.org/wikipedia/commons/c/c9/Tokyo_traffic_%288231825234%29.jpg\" width=\"90%\"></center>"
   ],
   "cell_type": "markdown",
   "metadata": {}
  },
  {
   "source": [
    "<h1>DATA</h1>\n",
    "<p> This is a countrywide car accident dataset, which covers 49 states of the USA. The accident data are collected from February 2016 to June 2020, using two APIs that provide streaming traffic incident (or event) data. These APIs broadcast traffic data captured by a variety of entities, such as the US and state departments of transportation, law enforcement agencies, traffic cameras, and traffic sensors within the road-networks. Currently, there are about 3.5 million accident records in this dataset.</p>\n",
    "\n",
    "<p> There are many features in the dataset that will be used for prediction :</p>\n",
    "<div><ul><li>Side</li>\n",
    "<li>Timezone</li>\n",
    "<li>Amenity</li>\n",
    "<li>Bump</li>\n",
    "<li>Crossing</li>\n",
    "<li>Give_Way</li>\n",
    "<li>Junction</li>\n",
    "<li>No_Exit</li>\n",
    "<li>Railway</li>\n",
    "<li>Roundabout</li>\n",
    "<li>Sevirity</li>\n",
    "<li>Station</li>\n",
    "<li>Stop</li>\n",
    "<li>Traffic_Calming</li>\n",
    "<li>Traffic_Signal</li>\n",
    "<li>Sunrise_Sunset</li>\n",
    "<li>Civil_Twilight</li>\n",
    "<li>Nautical_Twilight</li>\n",
    "<li>Astronomical_Twilight<li>...</ul></div>\n",
    "\n",
    "<p><center><img src=\"img/graph.jpg\" width=\"80%\"></center></p>"
   ],
   "cell_type": "markdown",
   "metadata": {}
  },
  {
   "source": [
    "### Format\n",
    "<p>The data is provided in terms of a CSV file. Following table describes the data attributes:</p>"
   ],
   "cell_type": "markdown",
   "metadata": {}
  },
  {
   "source": [
    "<table>\n",
    "    <thead>\n",
    "        <tr>\n",
    "            <th style=\"text-align: center\">#</th>\n",
    "            <th style=\"text-align: center\">Attribute</th>\n",
    "            <th>Description</th>\n",
    "            <th style=\"text-align: center\">Nullable</th>\n",
    "        </tr>\n",
    "    </thead>\n",
    "    <tbody>\n",
    "        <tr>\n",
    "            <td style=\"text-align: center\">1</td>\n",
    "            <td style=\"text-align: center\">ID</td>\n",
    "            <td>This is a unique identifier of the accident record.</td>\n",
    "            <td style=\"text-align: center\">No</td>\n",
    "        </tr>\n",
    "        <tr>\n",
    "            <td style=\"text-align: center\">2</td>\n",
    "            <td style=\"text-align: center\">Source</td>\n",
    "            <td>Indicates source of the accident report (i.e. the API which reported the accident).</td>\n",
    "            <td style=\"text-align: center\">No</td>\n",
    "        </tr>\n",
    "        <tr>\n",
    "            <td style=\"text-align: center\">3</td>\n",
    "            <td style=\"text-align: center\">TMC</td>\n",
    "            <td>A traffic accident may have a Traffic Message Channel (TMC) code which provides more detailed description of\n",
    "                the event.</td>\n",
    "            <td style=\"text-align: center\">Yes</td>\n",
    "        </tr>\n",
    "        <tr>\n",
    "            <td style=\"text-align: center\">4</td>\n",
    "            <td style=\"text-align: center\">Severity</td>\n",
    "            <td>Shows the severity of the accident, a number between 1 and 4, where 1 indicates the least impact on\n",
    "                traffic (i.e., short delay as a result of the accident) and 4 indicates a significant impact on traffic\n",
    "                (i.e., long delay).</td>\n",
    "            <td style=\"text-align: center\">No</td>\n",
    "        </tr>\n",
    "        <tr>\n",
    "            <td style=\"text-align: center\">5</td>\n",
    "            <td style=\"text-align: center\">Start_Time</td>\n",
    "            <td>Shows start time of the accident in local time zone.</td>\n",
    "            <td style=\"text-align: center\">No</td>\n",
    "        </tr>\n",
    "        <tr>\n",
    "            <td style=\"text-align: center\">6</td>\n",
    "            <td style=\"text-align: center\">End_Time</td>\n",
    "            <td>Shows end time of the accident in local time zone. End time here refers to when the impact of accident\n",
    "                on traffic flow was dismissed.</td>\n",
    "            <td style=\"text-align: center\">No</td>\n",
    "        </tr>\n",
    "        <tr>\n",
    "            <td style=\"text-align: center\">7</td>\n",
    "            <td style=\"text-align: center\">Start_Lat</td>\n",
    "            <td>Shows latitude in GPS coordinate of the start point.</td>\n",
    "            <td style=\"text-align: center\">No</td>\n",
    "        </tr>\n",
    "        <tr>\n",
    "            <td style=\"text-align: center\">8</td>\n",
    "            <td style=\"text-align: center\">Start_Lng</td>\n",
    "            <td>Shows longitude in GPS coordinate of the start point.</td>\n",
    "            <td style=\"text-align: center\">No</td>\n",
    "        </tr>\n",
    "        <tr>\n",
    "            <td style=\"text-align: center\">9</td>\n",
    "            <td style=\"text-align: center\">End_Lat</td>\n",
    "            <td>Shows latitude in GPS coordinate of the end point.</td>\n",
    "            <td style=\"text-align: center\">Yes</td>\n",
    "        </tr>\n",
    "        <tr>\n",
    "            <td style=\"text-align: center\">10</td>\n",
    "            <td style=\"text-align: center\">End_Lng</td>\n",
    "            <td>Shows longitude in GPS coordinate of the end point.</td>\n",
    "            <td style=\"text-align: center\">Yes</td>\n",
    "        </tr>\n",
    "        <tr>\n",
    "            <td style=\"text-align: center\">11</td>\n",
    "            <td style=\"text-align: center\">Distance(mi)</td>\n",
    "            <td>The length of the road extent affected by the accident.</td>\n",
    "            <td style=\"text-align: center\">No</td>\n",
    "        </tr>\n",
    "        <tr>\n",
    "            <td style=\"text-align: center\">12</td>\n",
    "            <td style=\"text-align: center\">Description</td>\n",
    "            <td>Shows natural language description of the accident.</td>\n",
    "            <td style=\"text-align: center\">No</td>\n",
    "        </tr>\n",
    "        <tr>\n",
    "            <td style=\"text-align: center\">13</td>\n",
    "            <td style=\"text-align: center\">Number</td>\n",
    "            <td>Shows the street number in address field.</td>\n",
    "            <td style=\"text-align: center\">Yes</td>\n",
    "        </tr>\n",
    "        <tr>\n",
    "            <td style=\"text-align: center\">14</td>\n",
    "            <td style=\"text-align: center\">Street</td>\n",
    "            <td>Shows the street name in address field.</td>\n",
    "            <td style=\"text-align: center\">Yes</td>\n",
    "        </tr>\n",
    "        <tr>\n",
    "            <td style=\"text-align: center\">15</td>\n",
    "            <td style=\"text-align: center\">Side</td>\n",
    "            <td>Shows the relative side of the street (Right/Left) in address field.</td>\n",
    "            <td style=\"text-align: center\">Yes</td>\n",
    "        </tr>\n",
    "        <tr>\n",
    "            <td style=\"text-align: center\">16</td>\n",
    "            <td style=\"text-align: center\">City</td>\n",
    "            <td>Shows the city in address field.</td>\n",
    "            <td style=\"text-align: center\">Yes</td>\n",
    "        </tr>\n",
    "        <tr>\n",
    "            <td style=\"text-align: center\">17</td>\n",
    "            <td style=\"text-align: center\">County</td>\n",
    "            <td>Shows the county in address field.</td>\n",
    "            <td style=\"text-align: center\">Yes</td>\n",
    "        </tr>\n",
    "        <tr>\n",
    "            <td style=\"text-align: center\">18</td>\n",
    "            <td style=\"text-align: center\">State</td>\n",
    "            <td>Shows the state in address field.</td>\n",
    "            <td style=\"text-align: center\">Yes</td>\n",
    "        </tr>\n",
    "        <tr>\n",
    "            <td style=\"text-align: center\">19</td>\n",
    "            <td style=\"text-align: center\">Zipcode</td>\n",
    "            <td>Shows the zipcode in address field.</td>\n",
    "            <td style=\"text-align: center\">Yes</td>\n",
    "        </tr>\n",
    "        <tr>\n",
    "            <td style=\"text-align: center\">20</td>\n",
    "            <td style=\"text-align: center\">Country</td>\n",
    "            <td>Shows the country in address field.</td>\n",
    "            <td style=\"text-align: center\">Yes</td>\n",
    "        </tr>\n",
    "        <tr>\n",
    "            <td style=\"text-align: center\">21</td>\n",
    "            <td style=\"text-align: center\">Timezone</td>\n",
    "            <td>Shows timezone based on the location of the accident (eastern, central, etc.).</td>\n",
    "            <td style=\"text-align: center\">Yes</td>\n",
    "        </tr>\n",
    "        <tr>\n",
    "            <td style=\"text-align: center\">22</td>\n",
    "            <td style=\"text-align: center\">Airport_Code</td>\n",
    "            <td>Denotes an airport-based weather station which is the closest one to location of the accident.</td>\n",
    "            <td style=\"text-align: center\">Yes</td>\n",
    "        </tr>\n",
    "        <tr>\n",
    "            <td style=\"text-align: center\">23</td>\n",
    "            <td style=\"text-align: center\">Weather_Timestamp</td>\n",
    "            <td>Shows the time-stamp of weather observation record (in local time).</td>\n",
    "            <td style=\"text-align: center\">Yes</td>\n",
    "        </tr>\n",
    "        <tr>\n",
    "            <td style=\"text-align: center\">24</td>\n",
    "            <td style=\"text-align: center\">Temperature(F)</td>\n",
    "            <td>Shows the temperature (in Fahrenheit).</td>\n",
    "            <td style=\"text-align: center\">Yes</td>\n",
    "        </tr>\n",
    "        <tr>\n",
    "            <td style=\"text-align: center\">25</td>\n",
    "            <td style=\"text-align: center\">Wind_Chill(F)</td>\n",
    "            <td>Shows the wind chill (in Fahrenheit).</td>\n",
    "            <td style=\"text-align: center\">Yes</td>\n",
    "        </tr>\n",
    "        <tr>\n",
    "            <td style=\"text-align: center\">26</td>\n",
    "            <td style=\"text-align: center\">Humidity(%)</td>\n",
    "            <td>Shows the humidity (in percentage).</td>\n",
    "            <td style=\"text-align: center\">Yes</td>\n",
    "        </tr>\n",
    "        <tr>\n",
    "            <td style=\"text-align: center\">27</td>\n",
    "            <td style=\"text-align: center\">Pressure(in)</td>\n",
    "            <td>Shows the air pressure (in inches).</td>\n",
    "            <td style=\"text-align: center\">Yes</td>\n",
    "        </tr>\n",
    "        <tr>\n",
    "            <td style=\"text-align: center\">28</td>\n",
    "            <td style=\"text-align: center\">Visibility(mi)</td>\n",
    "            <td>Shows visibility (in miles).</td>\n",
    "            <td style=\"text-align: center\">Yes</td>\n",
    "        </tr>\n",
    "        <tr>\n",
    "            <td style=\"text-align: center\">29</td>\n",
    "            <td style=\"text-align: center\">Wind_Direction</td>\n",
    "            <td>Shows wind direction.</td>\n",
    "            <td style=\"text-align: center\">Yes</td>\n",
    "        </tr>\n",
    "        <tr>\n",
    "            <td style=\"text-align: center\">30</td>\n",
    "            <td style=\"text-align: center\">Wind_Speed(mph)</td>\n",
    "            <td>Shows wind speed (in miles per hour).</td>\n",
    "            <td style=\"text-align: center\">Yes</td>\n",
    "        </tr>\n",
    "        <tr>\n",
    "            <td style=\"text-align: center\">31</td>\n",
    "            <td style=\"text-align: center\">Precipitation(in)</td>\n",
    "            <td>Shows precipitation amount in inches, if there is any.</td>\n",
    "            <td style=\"text-align: center\">Yes</td>\n",
    "        </tr>\n",
    "        <tr>\n",
    "            <td style=\"text-align: center\">32</td>\n",
    "            <td style=\"text-align: center\">Weather_Condition</td>\n",
    "            <td>Shows the weather condition (rain, snow, thunderstorm, fog, etc.)</td>\n",
    "            <td style=\"text-align: center\">Yes</td>\n",
    "        </tr>\n",
    "        <tr>\n",
    "            <td style=\"text-align: center\">33</td>\n",
    "            <td style=\"text-align: center\">Amenity</td>\n",
    "            <td>A POI annotation which indicates\n",
    "                presence of amenity in a nearby location.\n",
    "            </td>\n",
    "            <td style=\"text-align: center\">No</td>\n",
    "        </tr>\n",
    "        <tr>\n",
    "            <td style=\"text-align: center\">34</td>\n",
    "            <td style=\"text-align: center\">Bump</td>\n",
    "            <td>A POI annotation which indicates presence of speed bump or hump in a nearby location.</td>\n",
    "            <td style=\"text-align: center\">No</td>\n",
    "        </tr>\n",
    "        <tr>\n",
    "            <td style=\"text-align: center\">35</td>\n",
    "            <td style=\"text-align: center\">Crossing</td>\n",
    "            <td>A POI annotation which indicates presence of crossing in a nearby location.</td>\n",
    "            <td style=\"text-align: center\">No</td>\n",
    "        </tr>\n",
    "        <tr>\n",
    "            <td style=\"text-align: center\">36</td>\n",
    "            <td style=\"text-align: center\">Give_Way</td>\n",
    "            <td>A POI annotation which indicates presence of give_way in a nearby location.\n",
    "            </td>\n",
    "            <td style=\"text-align: center\">No</td>\n",
    "        </tr>\n",
    "        <tr>\n",
    "            <td style=\"text-align: center\">37</td>\n",
    "            <td style=\"text-align: center\">Junction</td>\n",
    "            <td>A POI annotation which indicates presence of junction in a nearby location.</td>\n",
    "            <td style=\"text-align: center\">No</td>\n",
    "        </tr>\n",
    "        <tr>\n",
    "            <td style=\"text-align: center\">38</td>\n",
    "            <td style=\"text-align: center\">No_Exit</td>\n",
    "            <td>A POI annotation which indicates presence of no_exit in a nearby location.</td>\n",
    "            <td style=\"text-align: center\">No</td>\n",
    "        </tr>\n",
    "        <tr>\n",
    "            <td style=\"text-align: center\">39</td>\n",
    "            <td style=\"text-align: center\">Railway</td>\n",
    "            <td>A POI annotation which indicates presence of railway in a nearby location.</td>\n",
    "            <td style=\"text-align: center\">No</td>\n",
    "        </tr>\n",
    "        <tr>\n",
    "            <td style=\"text-align: center\">40</td>\n",
    "            <td style=\"text-align: center\">Roundabout</td>\n",
    "            <td>A POI annotation which indicates presence of roundabout in a nearby\n",
    "                location.</td>\n",
    "            <td style=\"text-align: center\">No</td>\n",
    "        </tr>\n",
    "        <tr>\n",
    "            <td style=\"text-align: center\">41</td>\n",
    "            <td style=\"text-align: center\">Station</td>\n",
    "            <td>A POI annotation which indicates presence of station in a nearby location.</td>\n",
    "            <td style=\"text-align: center\">No</td>\n",
    "        </tr>\n",
    "        <tr>\n",
    "            <td style=\"text-align: center\">42</td>\n",
    "            <td style=\"text-align: center\">Stop</td>\n",
    "            <td>A POI annotation which indicates presence of stop in a nearby location.</td>\n",
    "            <td style=\"text-align: center\">No</td>\n",
    "        </tr>\n",
    "        <tr>\n",
    "            <td style=\"text-align: center\">43</td>\n",
    "            <td style=\"text-align: center\">Traffic_Calming</td>\n",
    "            <td>A POI annotation which indicates presence of traffic_calming in a nearby\n",
    "                location.</td>\n",
    "            <td style=\"text-align: center\">No</td>\n",
    "        </tr>\n",
    "        <tr>\n",
    "            <td style=\"text-align: center\">44</td>\n",
    "            <td style=\"text-align: center\">Traffic_Signal</td>\n",
    "            <td>A POI annotation which indicates presence of traffic_signal in a\n",
    "                nearby location.</td>\n",
    "            <td style=\"text-align: center\">No</td>\n",
    "        </tr>\n",
    "        <tr>\n",
    "            <td style=\"text-align: center\">45</td>\n",
    "            <td style=\"text-align: center\">Turning_Loop</td>\n",
    "            <td>A POI annotation which indicates presence of turning_loop in a nearby\n",
    "                location.</td>\n",
    "            <td style=\"text-align: center\">No</td>\n",
    "        </tr>\n",
    "        <tr>\n",
    "            <td style=\"text-align: center\">46</td>\n",
    "            <td style=\"text-align: center\">Sunrise_Sunset</td>\n",
    "            <td>Shows the period of day (i.e. day or night) based on sunrise/sunset.</td>\n",
    "            <td style=\"text-align: center\">Yes</td>\n",
    "        </tr>\n",
    "        <tr>\n",
    "            <td style=\"text-align: center\">47</td>\n",
    "            <td style=\"text-align: center\">Civil_Twilight</td>\n",
    "            <td>Shows the period of day (i.e. day or night) based on civil twilight.</td>\n",
    "            <td style=\"text-align: center\">Yes</td>\n",
    "        </tr>\n",
    "        <tr>\n",
    "            <td style=\"text-align: center\">48</td>\n",
    "            <td style=\"text-align: center\">Nautical_Twilight</td>\n",
    "            <td>Shows the period of day (i.e. day or night) based on nautical twilight.</td>\n",
    "            <td style=\"text-align: center\">Yes</td>\n",
    "        </tr>\n",
    "        <tr>\n",
    "            <td style=\"text-align: center\">49</td>\n",
    "            <td style=\"text-align: center\">Astronomical_Twilight</td>\n",
    "            <td>Shows the period of day (i.e. day or night) based on astronomical twilight.</td>\n",
    "            <td style=\"text-align: center\">Yes</td>\n",
    "        </tr>\n",
    "    </tbody>\n",
    "</table>"
   ],
   "cell_type": "markdown",
   "metadata": {}
  },
  {
   "cell_type": "code",
   "execution_count": 1,
   "metadata": {},
   "outputs": [],
   "source": [
    "import pandas as pd\n",
    "import numpy as np\n",
    "import matplotlib.pyplot as plt\n",
    "import seaborn as sns"
   ]
  },
  {
   "cell_type": "code",
   "execution_count": 3,
   "metadata": {},
   "outputs": [],
   "source": [
    "df = pd.read_csv(\"US_Accidents_June20.csv\")"
   ]
  },
  {
   "cell_type": "code",
   "execution_count": 35,
   "metadata": {
    "tags": []
   },
   "outputs": [
    {
     "output_type": "stream",
     "name": "stdout",
     "text": "The shape of the data is  (3513617, 46)\n"
    },
    {
     "output_type": "execute_result",
     "data": {
      "text/plain": "     Source  Severity           Start_Time             End_Time  Start_Lat  \\\n0  MapQuest         3  2016-02-08 05:46:00  2016-02-08 11:00:00  39.865147   \n1  MapQuest         2  2016-02-08 06:07:59  2016-02-08 06:37:59  39.928059   \n2  MapQuest         2  2016-02-08 06:49:27  2016-02-08 07:19:27  39.063148   \n3  MapQuest         3  2016-02-08 07:23:34  2016-02-08 07:53:34  39.747753   \n4  MapQuest         2  2016-02-08 07:39:07  2016-02-08 08:09:07  39.627781   \n\n   Start_Lng  End_Lat  End_Lng  Distance(mi)  Number  ... Roundabout Station  \\\n0 -84.058723      NaN      NaN          0.01     NaN  ...      False   False   \n1 -82.831184      NaN      NaN          0.01  2584.0  ...      False   False   \n2 -84.032608      NaN      NaN          0.01     NaN  ...      False   False   \n3 -84.205582      NaN      NaN          0.01     NaN  ...      False   False   \n4 -84.188354      NaN      NaN          0.01     NaN  ...      False   False   \n\n    Stop Traffic_Calming Traffic_Signal Turning_Loop Sunrise_Sunset  \\\n0  False           False          False        False          Night   \n1  False           False          False        False          Night   \n2  False           False           True        False          Night   \n3  False           False          False        False          Night   \n4  False           False           True        False            Day   \n\n  Civil_Twilight Nautical_Twilight Astronomical_Twilight  \n0          Night             Night                 Night  \n1          Night             Night                   Day  \n2          Night               Day                   Day  \n3            Day               Day                   Day  \n4            Day               Day                   Day  \n\n[5 rows x 46 columns]",
      "text/html": "<div>\n<style scoped>\n    .dataframe tbody tr th:only-of-type {\n        vertical-align: middle;\n    }\n\n    .dataframe tbody tr th {\n        vertical-align: top;\n    }\n\n    .dataframe thead th {\n        text-align: right;\n    }\n</style>\n<table border=\"1\" class=\"dataframe\">\n  <thead>\n    <tr style=\"text-align: right;\">\n      <th></th>\n      <th>Source</th>\n      <th>Severity</th>\n      <th>Start_Time</th>\n      <th>End_Time</th>\n      <th>Start_Lat</th>\n      <th>Start_Lng</th>\n      <th>End_Lat</th>\n      <th>End_Lng</th>\n      <th>Distance(mi)</th>\n      <th>Number</th>\n      <th>...</th>\n      <th>Roundabout</th>\n      <th>Station</th>\n      <th>Stop</th>\n      <th>Traffic_Calming</th>\n      <th>Traffic_Signal</th>\n      <th>Turning_Loop</th>\n      <th>Sunrise_Sunset</th>\n      <th>Civil_Twilight</th>\n      <th>Nautical_Twilight</th>\n      <th>Astronomical_Twilight</th>\n    </tr>\n  </thead>\n  <tbody>\n    <tr>\n      <th>0</th>\n      <td>MapQuest</td>\n      <td>3</td>\n      <td>2016-02-08 05:46:00</td>\n      <td>2016-02-08 11:00:00</td>\n      <td>39.865147</td>\n      <td>-84.058723</td>\n      <td>NaN</td>\n      <td>NaN</td>\n      <td>0.01</td>\n      <td>NaN</td>\n      <td>...</td>\n      <td>False</td>\n      <td>False</td>\n      <td>False</td>\n      <td>False</td>\n      <td>False</td>\n      <td>False</td>\n      <td>Night</td>\n      <td>Night</td>\n      <td>Night</td>\n      <td>Night</td>\n    </tr>\n    <tr>\n      <th>1</th>\n      <td>MapQuest</td>\n      <td>2</td>\n      <td>2016-02-08 06:07:59</td>\n      <td>2016-02-08 06:37:59</td>\n      <td>39.928059</td>\n      <td>-82.831184</td>\n      <td>NaN</td>\n      <td>NaN</td>\n      <td>0.01</td>\n      <td>2584.0</td>\n      <td>...</td>\n      <td>False</td>\n      <td>False</td>\n      <td>False</td>\n      <td>False</td>\n      <td>False</td>\n      <td>False</td>\n      <td>Night</td>\n      <td>Night</td>\n      <td>Night</td>\n      <td>Day</td>\n    </tr>\n    <tr>\n      <th>2</th>\n      <td>MapQuest</td>\n      <td>2</td>\n      <td>2016-02-08 06:49:27</td>\n      <td>2016-02-08 07:19:27</td>\n      <td>39.063148</td>\n      <td>-84.032608</td>\n      <td>NaN</td>\n      <td>NaN</td>\n      <td>0.01</td>\n      <td>NaN</td>\n      <td>...</td>\n      <td>False</td>\n      <td>False</td>\n      <td>False</td>\n      <td>False</td>\n      <td>True</td>\n      <td>False</td>\n      <td>Night</td>\n      <td>Night</td>\n      <td>Day</td>\n      <td>Day</td>\n    </tr>\n    <tr>\n      <th>3</th>\n      <td>MapQuest</td>\n      <td>3</td>\n      <td>2016-02-08 07:23:34</td>\n      <td>2016-02-08 07:53:34</td>\n      <td>39.747753</td>\n      <td>-84.205582</td>\n      <td>NaN</td>\n      <td>NaN</td>\n      <td>0.01</td>\n      <td>NaN</td>\n      <td>...</td>\n      <td>False</td>\n      <td>False</td>\n      <td>False</td>\n      <td>False</td>\n      <td>False</td>\n      <td>False</td>\n      <td>Night</td>\n      <td>Day</td>\n      <td>Day</td>\n      <td>Day</td>\n    </tr>\n    <tr>\n      <th>4</th>\n      <td>MapQuest</td>\n      <td>2</td>\n      <td>2016-02-08 07:39:07</td>\n      <td>2016-02-08 08:09:07</td>\n      <td>39.627781</td>\n      <td>-84.188354</td>\n      <td>NaN</td>\n      <td>NaN</td>\n      <td>0.01</td>\n      <td>NaN</td>\n      <td>...</td>\n      <td>False</td>\n      <td>False</td>\n      <td>False</td>\n      <td>False</td>\n      <td>True</td>\n      <td>False</td>\n      <td>Day</td>\n      <td>Day</td>\n      <td>Day</td>\n      <td>Day</td>\n    </tr>\n  </tbody>\n</table>\n<p>5 rows × 46 columns</p>\n</div>"
     },
     "metadata": {},
     "execution_count": 35
    }
   ],
   "source": [
    "print(\"The shape of the data is \",df.shape)\n",
    "df.head()"
   ]
  },
  {
   "source": [
    "# Data Cleaning and Preparation :"
   ],
   "cell_type": "markdown",
   "metadata": {}
  },
  {
   "cell_type": "code",
   "execution_count": 10,
   "metadata": {},
   "outputs": [
    {
     "output_type": "execute_result",
     "data": {
      "text/plain": "                TMC      Severity     Start_Lat     Start_Lng       End_Lat  \\\ncount  2.478818e+06  3.513617e+06  3.513617e+06  3.513617e+06  1.034799e+06   \nmean   2.080226e+02  2.339929e+00  3.654195e+01 -9.579151e+01  3.755758e+01   \nstd    2.076627e+01  5.521935e-01  4.883520e+00  1.736877e+01  4.861215e+00   \nmin    2.000000e+02  1.000000e+00  2.455527e+01 -1.246238e+02  2.457011e+01   \n25%    2.010000e+02  2.000000e+00  3.363784e+01 -1.174418e+02  3.399477e+01   \n50%    2.010000e+02  2.000000e+00  3.591687e+01 -9.102601e+01  3.779736e+01   \n75%    2.010000e+02  3.000000e+00  4.032217e+01 -8.093299e+01  4.105139e+01   \nmax    4.060000e+02  4.000000e+00  4.900220e+01 -6.711317e+01  4.907500e+01   \n\n            End_Lng  Distance(mi)        Number  Temperature(F)  \\\ncount  1.034799e+06  3.513617e+06  1.250753e+06    3.447885e+06   \nmean  -1.004560e+02  2.816167e-01  5.975383e+03    6.193512e+01   \nstd    1.852879e+01  1.550134e+00  1.496624e+04    1.862106e+01   \nmin   -1.244978e+02  0.000000e+00  0.000000e+00   -8.900000e+01   \n25%   -1.183440e+02  0.000000e+00  8.640000e+02    5.000000e+01   \n50%   -9.703438e+01  0.000000e+00  2.798000e+03    6.400000e+01   \n75%   -8.210168e+01  1.000000e-02  7.098000e+03    7.590000e+01   \nmax   -6.710924e+01  3.336300e+02  9.999997e+06    1.706000e+02   \n\n       Wind_Chill(F)   Humidity(%)  Pressure(in)  Visibility(mi)  \\\ncount   1.645368e+06  3.443930e+06  3.457735e+06    3.437761e+06   \nmean    5.355730e+01  6.511427e+01  2.974463e+01    9.122644e+00   \nstd     2.377334e+01  2.275558e+01  8.319758e-01    2.885879e+00   \nmin    -8.900000e+01  1.000000e+00  0.000000e+00    0.000000e+00   \n25%     3.570000e+01  4.800000e+01  2.973000e+01    1.000000e+01   \n50%     5.700000e+01  6.700000e+01  2.995000e+01    1.000000e+01   \n75%     7.200000e+01  8.400000e+01  3.009000e+01    1.000000e+01   \nmax     1.150000e+02  1.000000e+02  5.774000e+01    1.400000e+02   \n\n       Wind_Speed(mph)  Precipitation(in)  \ncount     3.059008e+06       1.487743e+06  \nmean      8.219025e+00       1.598256e-02  \nstd       5.262847e+00       1.928262e-01  \nmin       0.000000e+00       0.000000e+00  \n25%       5.000000e+00       0.000000e+00  \n50%       7.000000e+00       0.000000e+00  \n75%       1.150000e+01       0.000000e+00  \nmax       9.840000e+02       2.500000e+01  ",
      "text/html": "<div>\n<style scoped>\n    .dataframe tbody tr th:only-of-type {\n        vertical-align: middle;\n    }\n\n    .dataframe tbody tr th {\n        vertical-align: top;\n    }\n\n    .dataframe thead th {\n        text-align: right;\n    }\n</style>\n<table border=\"1\" class=\"dataframe\">\n  <thead>\n    <tr style=\"text-align: right;\">\n      <th></th>\n      <th>TMC</th>\n      <th>Severity</th>\n      <th>Start_Lat</th>\n      <th>Start_Lng</th>\n      <th>End_Lat</th>\n      <th>End_Lng</th>\n      <th>Distance(mi)</th>\n      <th>Number</th>\n      <th>Temperature(F)</th>\n      <th>Wind_Chill(F)</th>\n      <th>Humidity(%)</th>\n      <th>Pressure(in)</th>\n      <th>Visibility(mi)</th>\n      <th>Wind_Speed(mph)</th>\n      <th>Precipitation(in)</th>\n    </tr>\n  </thead>\n  <tbody>\n    <tr>\n      <th>count</th>\n      <td>2.478818e+06</td>\n      <td>3.513617e+06</td>\n      <td>3.513617e+06</td>\n      <td>3.513617e+06</td>\n      <td>1.034799e+06</td>\n      <td>1.034799e+06</td>\n      <td>3.513617e+06</td>\n      <td>1.250753e+06</td>\n      <td>3.447885e+06</td>\n      <td>1.645368e+06</td>\n      <td>3.443930e+06</td>\n      <td>3.457735e+06</td>\n      <td>3.437761e+06</td>\n      <td>3.059008e+06</td>\n      <td>1.487743e+06</td>\n    </tr>\n    <tr>\n      <th>mean</th>\n      <td>2.080226e+02</td>\n      <td>2.339929e+00</td>\n      <td>3.654195e+01</td>\n      <td>-9.579151e+01</td>\n      <td>3.755758e+01</td>\n      <td>-1.004560e+02</td>\n      <td>2.816167e-01</td>\n      <td>5.975383e+03</td>\n      <td>6.193512e+01</td>\n      <td>5.355730e+01</td>\n      <td>6.511427e+01</td>\n      <td>2.974463e+01</td>\n      <td>9.122644e+00</td>\n      <td>8.219025e+00</td>\n      <td>1.598256e-02</td>\n    </tr>\n    <tr>\n      <th>std</th>\n      <td>2.076627e+01</td>\n      <td>5.521935e-01</td>\n      <td>4.883520e+00</td>\n      <td>1.736877e+01</td>\n      <td>4.861215e+00</td>\n      <td>1.852879e+01</td>\n      <td>1.550134e+00</td>\n      <td>1.496624e+04</td>\n      <td>1.862106e+01</td>\n      <td>2.377334e+01</td>\n      <td>2.275558e+01</td>\n      <td>8.319758e-01</td>\n      <td>2.885879e+00</td>\n      <td>5.262847e+00</td>\n      <td>1.928262e-01</td>\n    </tr>\n    <tr>\n      <th>min</th>\n      <td>2.000000e+02</td>\n      <td>1.000000e+00</td>\n      <td>2.455527e+01</td>\n      <td>-1.246238e+02</td>\n      <td>2.457011e+01</td>\n      <td>-1.244978e+02</td>\n      <td>0.000000e+00</td>\n      <td>0.000000e+00</td>\n      <td>-8.900000e+01</td>\n      <td>-8.900000e+01</td>\n      <td>1.000000e+00</td>\n      <td>0.000000e+00</td>\n      <td>0.000000e+00</td>\n      <td>0.000000e+00</td>\n      <td>0.000000e+00</td>\n    </tr>\n    <tr>\n      <th>25%</th>\n      <td>2.010000e+02</td>\n      <td>2.000000e+00</td>\n      <td>3.363784e+01</td>\n      <td>-1.174418e+02</td>\n      <td>3.399477e+01</td>\n      <td>-1.183440e+02</td>\n      <td>0.000000e+00</td>\n      <td>8.640000e+02</td>\n      <td>5.000000e+01</td>\n      <td>3.570000e+01</td>\n      <td>4.800000e+01</td>\n      <td>2.973000e+01</td>\n      <td>1.000000e+01</td>\n      <td>5.000000e+00</td>\n      <td>0.000000e+00</td>\n    </tr>\n    <tr>\n      <th>50%</th>\n      <td>2.010000e+02</td>\n      <td>2.000000e+00</td>\n      <td>3.591687e+01</td>\n      <td>-9.102601e+01</td>\n      <td>3.779736e+01</td>\n      <td>-9.703438e+01</td>\n      <td>0.000000e+00</td>\n      <td>2.798000e+03</td>\n      <td>6.400000e+01</td>\n      <td>5.700000e+01</td>\n      <td>6.700000e+01</td>\n      <td>2.995000e+01</td>\n      <td>1.000000e+01</td>\n      <td>7.000000e+00</td>\n      <td>0.000000e+00</td>\n    </tr>\n    <tr>\n      <th>75%</th>\n      <td>2.010000e+02</td>\n      <td>3.000000e+00</td>\n      <td>4.032217e+01</td>\n      <td>-8.093299e+01</td>\n      <td>4.105139e+01</td>\n      <td>-8.210168e+01</td>\n      <td>1.000000e-02</td>\n      <td>7.098000e+03</td>\n      <td>7.590000e+01</td>\n      <td>7.200000e+01</td>\n      <td>8.400000e+01</td>\n      <td>3.009000e+01</td>\n      <td>1.000000e+01</td>\n      <td>1.150000e+01</td>\n      <td>0.000000e+00</td>\n    </tr>\n    <tr>\n      <th>max</th>\n      <td>4.060000e+02</td>\n      <td>4.000000e+00</td>\n      <td>4.900220e+01</td>\n      <td>-6.711317e+01</td>\n      <td>4.907500e+01</td>\n      <td>-6.710924e+01</td>\n      <td>3.336300e+02</td>\n      <td>9.999997e+06</td>\n      <td>1.706000e+02</td>\n      <td>1.150000e+02</td>\n      <td>1.000000e+02</td>\n      <td>5.774000e+01</td>\n      <td>1.400000e+02</td>\n      <td>9.840000e+02</td>\n      <td>2.500000e+01</td>\n    </tr>\n  </tbody>\n</table>\n</div>"
     },
     "metadata": {},
     "execution_count": 10
    }
   ],
   "source": [
    "df.describe()"
   ]
  },
  {
   "cell_type": "code",
   "execution_count": 11,
   "metadata": {
    "tags": []
   },
   "outputs": [
    {
     "output_type": "stream",
     "name": "stdout",
     "text": "&lt;class &#39;pandas.core.frame.DataFrame&#39;&gt;\nRangeIndex: 3513617 entries, 0 to 3513616\nData columns (total 49 columns):\n #   Column                 Dtype  \n---  ------                 -----  \n 0   ID                     object \n 1   Source                 object \n 2   TMC                    float64\n 3   Severity               int64  \n 4   Start_Time             object \n 5   End_Time               object \n 6   Start_Lat              float64\n 7   Start_Lng              float64\n 8   End_Lat                float64\n 9   End_Lng                float64\n 10  Distance(mi)           float64\n 11  Description            object \n 12  Number                 float64\n 13  Street                 object \n 14  Side                   object \n 15  City                   object \n 16  County                 object \n 17  State                  object \n 18  Zipcode                object \n 19  Country                object \n 20  Timezone               object \n 21  Airport_Code           object \n 22  Weather_Timestamp      object \n 23  Temperature(F)         float64\n 24  Wind_Chill(F)          float64\n 25  Humidity(%)            float64\n 26  Pressure(in)           float64\n 27  Visibility(mi)         float64\n 28  Wind_Direction         object \n 29  Wind_Speed(mph)        float64\n 30  Precipitation(in)      float64\n 31  Weather_Condition      object \n 32  Amenity                bool   \n 33  Bump                   bool   \n 34  Crossing               bool   \n 35  Give_Way               bool   \n 36  Junction               bool   \n 37  No_Exit                bool   \n 38  Railway                bool   \n 39  Roundabout             bool   \n 40  Station                bool   \n 41  Stop                   bool   \n 42  Traffic_Calming        bool   \n 43  Traffic_Signal         bool   \n 44  Turning_Loop           bool   \n 45  Sunrise_Sunset         object \n 46  Civil_Twilight         object \n 47  Nautical_Twilight      object \n 48  Astronomical_Twilight  object \ndtypes: bool(13), float64(14), int64(1), object(21)\nmemory usage: 1008.6+ MB\n"
    }
   ],
   "source": [
    "df.info()"
   ]
  },
  {
   "cell_type": "code",
   "execution_count": 15,
   "metadata": {},
   "outputs": [
    {
     "output_type": "execute_result",
     "data": {
      "text/plain": "2    2373210\n3     998913\n4     112320\n1      29174\nName: Severity, dtype: int64"
     },
     "metadata": {},
     "execution_count": 15
    }
   ],
   "source": [
    "df['Severity'].value_counts()"
   ]
  },
  {
   "cell_type": "code",
   "execution_count": 16,
   "metadata": {},
   "outputs": [
    {
     "output_type": "execute_result",
     "data": {
      "text/plain": "MapQuest         2414301\nBing             1034799\nMapQuest-Bing      64517\nName: Source, dtype: int64"
     },
     "metadata": {},
     "execution_count": 16
    }
   ],
   "source": [
    "df['Source'].value_counts()"
   ]
  },
  {
   "source": [
    "<p>We have three different sources MapQuest, Bing and MapQuest-Bing form which the data are gathered , so there are possibilities where a source might no have a categorical values. First lets check the severity based on the Source as Severity is our objective of our model. So lets check the target data column of our dataset. </p>"
   ],
   "cell_type": "markdown",
   "metadata": {}
  },
  {
   "cell_type": "code",
   "execution_count": 14,
   "metadata": {},
   "outputs": [],
   "source": [
    "df_source = df.groupby(['Severity','Source']).size().reset_index()\n",
    "df_source = df_source.pivot(columns='Severity',index='Source',values=0)"
   ]
  },
  {
   "cell_type": "code",
   "execution_count": 21,
   "metadata": {},
   "outputs": [
    {
     "output_type": "execute_result",
     "data": {
      "text/plain": "Severity           1        2       3       4\nSource                                       \nBing           28106   740299  160904  105490\nMapQuest        1049  1593276  813206    6770\nMapQuest-Bing     19    39635   24803      60",
      "text/html": "<div>\n<style scoped>\n    .dataframe tbody tr th:only-of-type {\n        vertical-align: middle;\n    }\n\n    .dataframe tbody tr th {\n        vertical-align: top;\n    }\n\n    .dataframe thead th {\n        text-align: right;\n    }\n</style>\n<table border=\"1\" class=\"dataframe\">\n  <thead>\n    <tr style=\"text-align: right;\">\n      <th>Severity</th>\n      <th>1</th>\n      <th>2</th>\n      <th>3</th>\n      <th>4</th>\n    </tr>\n    <tr>\n      <th>Source</th>\n      <th></th>\n      <th></th>\n      <th></th>\n      <th></th>\n    </tr>\n  </thead>\n  <tbody>\n    <tr>\n      <th>Bing</th>\n      <td>28106</td>\n      <td>740299</td>\n      <td>160904</td>\n      <td>105490</td>\n    </tr>\n    <tr>\n      <th>MapQuest</th>\n      <td>1049</td>\n      <td>1593276</td>\n      <td>813206</td>\n      <td>6770</td>\n    </tr>\n    <tr>\n      <th>MapQuest-Bing</th>\n      <td>19</td>\n      <td>39635</td>\n      <td>24803</td>\n      <td>60</td>\n    </tr>\n  </tbody>\n</table>\n</div>"
     },
     "metadata": {},
     "execution_count": 21
    }
   ],
   "source": [
    "df_source"
   ]
  },
  {
   "cell_type": "code",
   "execution_count": 18,
   "metadata": {},
   "outputs": [
    {
     "output_type": "execute_result",
     "data": {
      "text/plain": "&lt;AxesSubplot:title={&#39;center&#39;:&#39;Severity Counts for Source&#39;}, xlabel=&#39;Source&#39;&gt;"
     },
     "metadata": {},
     "execution_count": 18
    },
    {
     "output_type": "display_data",
     "data": {
      "text/plain": "&lt;Figure size 432x288 with 1 Axes&gt;",
      "image/svg+xml": "<?xml version=\"1.0\" encoding=\"utf-8\" standalone=\"no\"?>\r\n<!DOCTYPE svg PUBLIC \"-//W3C//DTD SVG 1.1//EN\"\r\n  \"http://www.w3.org/Graphics/SVG/1.1/DTD/svg11.dtd\">\r\n<!-- Created with matplotlib (https://matplotlib.org/) -->\r\n<svg height=\"343.803437pt\" version=\"1.1\" viewBox=\"0 0 372.103125 343.803437\" width=\"372.103125pt\" xmlns=\"http://www.w3.org/2000/svg\" xmlns:xlink=\"http://www.w3.org/1999/xlink\">\r\n <metadata>\r\n  <rdf:RDF xmlns:cc=\"http://creativecommons.org/ns#\" xmlns:dc=\"http://purl.org/dc/elements/1.1/\" xmlns:rdf=\"http://www.w3.org/1999/02/22-rdf-syntax-ns#\">\r\n   <cc:Work>\r\n    <dc:type rdf:resource=\"http://purl.org/dc/dcmitype/StillImage\"/>\r\n    <dc:date>2020-10-04T01:07:08.079957</dc:date>\r\n    <dc:format>image/svg+xml</dc:format>\r\n    <dc:creator>\r\n     <cc:Agent>\r\n      <dc:title>Matplotlib v3.3.2, https://matplotlib.org/</dc:title>\r\n     </cc:Agent>\r\n    </dc:creator>\r\n   </cc:Work>\r\n  </rdf:RDF>\r\n </metadata>\r\n <defs>\r\n  <style type=\"text/css\">*{stroke-linecap:butt;stroke-linejoin:round;}</style>\r\n </defs>\r\n <g id=\"figure_1\">\r\n  <g id=\"patch_1\">\r\n   <path d=\"M 0 343.803437 \r\nL 372.103125 343.803437 \r\nL 372.103125 0 \r\nL 0 0 \r\nz\r\n\" style=\"fill:none;\"/>\r\n  </g>\r\n  <g id=\"axes_1\">\r\n   <g id=\"patch_2\">\r\n    <path d=\"M 30.103125 239.758125 \r\nL 364.903125 239.758125 \r\nL 364.903125 22.318125 \r\nL 30.103125 22.318125 \r\nz\r\n\" style=\"fill:#ffffff;\"/>\r\n   </g>\r\n   <g id=\"patch_3\">\r\n    <path clip-path=\"url(#pc47927ef7a)\" d=\"M 58.003125 239.759755 \r\nL 113.803125 239.759755 \r\nL 113.803125 237.348956 \r\nL 58.003125 237.348956 \r\nz\r\n\" style=\"fill:#1f77b4;\"/>\r\n   </g>\r\n   <g id=\"patch_4\">\r\n    <path clip-path=\"url(#pc47927ef7a)\" d=\"M 169.603125 239.759755 \r\nL 225.403125 239.759755 \r\nL 225.403125 239.669776 \r\nL 169.603125 239.669776 \r\nz\r\n\" style=\"fill:#1f77b4;\"/>\r\n   </g>\r\n   <g id=\"patch_5\">\r\n    <path clip-path=\"url(#pc47927ef7a)\" d=\"M 281.203125 239.759755 \r\nL 337.003125 239.759755 \r\nL 337.003125 239.758125 \r\nL 281.203125 239.758125 \r\nz\r\n\" style=\"fill:#1f77b4;\"/>\r\n   </g>\r\n   <g id=\"patch_6\">\r\n    <path clip-path=\"url(#pc47927ef7a)\" d=\"M 58.003125 237.348956 \r\nL 113.803125 237.348956 \r\nL 113.803125 173.849625 \r\nL 58.003125 173.849625 \r\nz\r\n\" style=\"fill:#ff7f0e;\"/>\r\n   </g>\r\n   <g id=\"patch_7\">\r\n    <path clip-path=\"url(#pc47927ef7a)\" d=\"M 169.603125 239.669776 \r\nL 225.403125 239.669776 \r\nL 225.403125 103.006133 \r\nL 169.603125 103.006133 \r\nz\r\n\" style=\"fill:#ff7f0e;\"/>\r\n   </g>\r\n   <g id=\"patch_8\">\r\n    <path clip-path=\"url(#pc47927ef7a)\" d=\"M 281.203125 239.758125 \r\nL 337.003125 239.758125 \r\nL 337.003125 236.358423 \r\nL 281.203125 236.358423 \r\nz\r\n\" style=\"fill:#ff7f0e;\"/>\r\n   </g>\r\n   <g id=\"patch_9\">\r\n    <path clip-path=\"url(#pc47927ef7a)\" d=\"M 58.003125 173.849625 \r\nL 113.803125 173.849625 \r\nL 113.803125 160.048045 \r\nL 58.003125 160.048045 \r\nz\r\n\" style=\"fill:#2ca02c;\"/>\r\n   </g>\r\n   <g id=\"patch_10\">\r\n    <path clip-path=\"url(#pc47927ef7a)\" d=\"M 169.603125 103.006133 \r\nL 225.403125 103.006133 \r\nL 225.403125 33.253187 \r\nL 169.603125 33.253187 \r\nz\r\n\" style=\"fill:#2ca02c;\"/>\r\n   </g>\r\n   <g id=\"patch_11\">\r\n    <path clip-path=\"url(#pc47927ef7a)\" d=\"M 281.203125 236.358423 \r\nL 337.003125 236.358423 \r\nL 337.003125 234.23094 \r\nL 281.203125 234.23094 \r\nz\r\n\" style=\"fill:#2ca02c;\"/>\r\n   </g>\r\n   <g id=\"patch_12\">\r\n    <path clip-path=\"url(#pc47927ef7a)\" d=\"M 58.003125 160.048045 \r\nL 113.803125 160.048045 \r\nL 113.803125 150.999614 \r\nL 58.003125 150.999614 \r\nz\r\n\" style=\"fill:#d62728;\"/>\r\n   </g>\r\n   <g id=\"patch_13\">\r\n    <path clip-path=\"url(#pc47927ef7a)\" d=\"M 169.603125 33.253187 \r\nL 225.403125 33.253187 \r\nL 225.403125 32.672488 \r\nL 169.603125 32.672488 \r\nz\r\n\" style=\"fill:#d62728;\"/>\r\n   </g>\r\n   <g id=\"patch_14\">\r\n    <path clip-path=\"url(#pc47927ef7a)\" d=\"M 281.203125 234.23094 \r\nL 337.003125 234.23094 \r\nL 337.003125 234.225793 \r\nL 281.203125 234.225793 \r\nz\r\n\" style=\"fill:#d62728;\"/>\r\n   </g>\r\n   <g id=\"matplotlib.axis_1\">\r\n    <g id=\"xtick_1\">\r\n     <g id=\"line2d_1\">\r\n      <defs>\r\n       <path d=\"M 0 0 \r\nL 0 3.5 \r\n\" id=\"mbbcbfead87\" style=\"stroke:#000000;stroke-width:0.8;\"/>\r\n      </defs>\r\n      <g>\r\n       <use style=\"stroke:#000000;stroke-width:0.8;\" x=\"85.903125\" xlink:href=\"#mbbcbfead87\" y=\"239.758125\"/>\r\n      </g>\r\n     </g>\r\n     <g id=\"text_1\">\r\n      <!-- Bing -->\r\n      <g transform=\"translate(88.6625 269.083125)rotate(-90)scale(0.1 -0.1)\">\r\n       <defs>\r\n        <path d=\"M 19.671875 34.8125 \r\nL 19.671875 8.109375 \r\nL 35.5 8.109375 \r\nQ 43.453125 8.109375 47.28125 11.40625 \r\nQ 51.125 14.703125 51.125 21.484375 \r\nQ 51.125 28.328125 47.28125 31.5625 \r\nQ 43.453125 34.8125 35.5 34.8125 \r\nz\r\nM 19.671875 64.796875 \r\nL 19.671875 42.828125 \r\nL 34.28125 42.828125 \r\nQ 41.5 42.828125 45.03125 45.53125 \r\nQ 48.578125 48.25 48.578125 53.8125 \r\nQ 48.578125 59.328125 45.03125 62.0625 \r\nQ 41.5 64.796875 34.28125 64.796875 \r\nz\r\nM 9.8125 72.90625 \r\nL 35.015625 72.90625 \r\nQ 46.296875 72.90625 52.390625 68.21875 \r\nQ 58.5 63.53125 58.5 54.890625 \r\nQ 58.5 48.1875 55.375 44.234375 \r\nQ 52.25 40.28125 46.1875 39.3125 \r\nQ 53.46875 37.75 57.5 32.78125 \r\nQ 61.53125 27.828125 61.53125 20.40625 \r\nQ 61.53125 10.640625 54.890625 5.3125 \r\nQ 48.25 0 35.984375 0 \r\nL 9.8125 0 \r\nz\r\n\" id=\"DejaVuSans-66\"/>\r\n        <path d=\"M 9.421875 54.6875 \r\nL 18.40625 54.6875 \r\nL 18.40625 0 \r\nL 9.421875 0 \r\nz\r\nM 9.421875 75.984375 \r\nL 18.40625 75.984375 \r\nL 18.40625 64.59375 \r\nL 9.421875 64.59375 \r\nz\r\n\" id=\"DejaVuSans-105\"/>\r\n        <path d=\"M 54.890625 33.015625 \r\nL 54.890625 0 \r\nL 45.90625 0 \r\nL 45.90625 32.71875 \r\nQ 45.90625 40.484375 42.875 44.328125 \r\nQ 39.84375 48.1875 33.796875 48.1875 \r\nQ 26.515625 48.1875 22.3125 43.546875 \r\nQ 18.109375 38.921875 18.109375 30.90625 \r\nL 18.109375 0 \r\nL 9.078125 0 \r\nL 9.078125 54.6875 \r\nL 18.109375 54.6875 \r\nL 18.109375 46.1875 \r\nQ 21.34375 51.125 25.703125 53.5625 \r\nQ 30.078125 56 35.796875 56 \r\nQ 45.21875 56 50.046875 50.171875 \r\nQ 54.890625 44.34375 54.890625 33.015625 \r\nz\r\n\" id=\"DejaVuSans-110\"/>\r\n        <path d=\"M 45.40625 27.984375 \r\nQ 45.40625 37.75 41.375 43.109375 \r\nQ 37.359375 48.484375 30.078125 48.484375 \r\nQ 22.859375 48.484375 18.828125 43.109375 \r\nQ 14.796875 37.75 14.796875 27.984375 \r\nQ 14.796875 18.265625 18.828125 12.890625 \r\nQ 22.859375 7.515625 30.078125 7.515625 \r\nQ 37.359375 7.515625 41.375 12.890625 \r\nQ 45.40625 18.265625 45.40625 27.984375 \r\nz\r\nM 54.390625 6.78125 \r\nQ 54.390625 -7.171875 48.1875 -13.984375 \r\nQ 42 -20.796875 29.203125 -20.796875 \r\nQ 24.46875 -20.796875 20.265625 -20.09375 \r\nQ 16.0625 -19.390625 12.109375 -17.921875 \r\nL 12.109375 -9.1875 \r\nQ 16.0625 -11.328125 19.921875 -12.34375 \r\nQ 23.78125 -13.375 27.78125 -13.375 \r\nQ 36.625 -13.375 41.015625 -8.765625 \r\nQ 45.40625 -4.15625 45.40625 5.171875 \r\nL 45.40625 9.625 \r\nQ 42.625 4.78125 38.28125 2.390625 \r\nQ 33.9375 0 27.875 0 \r\nQ 17.828125 0 11.671875 7.65625 \r\nQ 5.515625 15.328125 5.515625 27.984375 \r\nQ 5.515625 40.671875 11.671875 48.328125 \r\nQ 17.828125 56 27.875 56 \r\nQ 33.9375 56 38.28125 53.609375 \r\nQ 42.625 51.21875 45.40625 46.390625 \r\nL 45.40625 54.6875 \r\nL 54.390625 54.6875 \r\nz\r\n\" id=\"DejaVuSans-103\"/>\r\n       </defs>\r\n       <use xlink:href=\"#DejaVuSans-66\"/>\r\n       <use x=\"68.603516\" xlink:href=\"#DejaVuSans-105\"/>\r\n       <use x=\"96.386719\" xlink:href=\"#DejaVuSans-110\"/>\r\n       <use x=\"159.765625\" xlink:href=\"#DejaVuSans-103\"/>\r\n      </g>\r\n     </g>\r\n    </g>\r\n    <g id=\"xtick_2\">\r\n     <g id=\"line2d_2\">\r\n      <g>\r\n       <use style=\"stroke:#000000;stroke-width:0.8;\" x=\"197.503125\" xlink:href=\"#mbbcbfead87\" y=\"239.758125\"/>\r\n      </g>\r\n     </g>\r\n     <g id=\"text_2\">\r\n      <!-- MapQuest -->\r\n      <g transform=\"translate(200.2625 297.355)rotate(-90)scale(0.1 -0.1)\">\r\n       <defs>\r\n        <path d=\"M 9.8125 72.90625 \r\nL 24.515625 72.90625 \r\nL 43.109375 23.296875 \r\nL 61.8125 72.90625 \r\nL 76.515625 72.90625 \r\nL 76.515625 0 \r\nL 66.890625 0 \r\nL 66.890625 64.015625 \r\nL 48.09375 14.015625 \r\nL 38.1875 14.015625 \r\nL 19.390625 64.015625 \r\nL 19.390625 0 \r\nL 9.8125 0 \r\nz\r\n\" id=\"DejaVuSans-77\"/>\r\n        <path d=\"M 34.28125 27.484375 \r\nQ 23.390625 27.484375 19.1875 25 \r\nQ 14.984375 22.515625 14.984375 16.5 \r\nQ 14.984375 11.71875 18.140625 8.90625 \r\nQ 21.296875 6.109375 26.703125 6.109375 \r\nQ 34.1875 6.109375 38.703125 11.40625 \r\nQ 43.21875 16.703125 43.21875 25.484375 \r\nL 43.21875 27.484375 \r\nz\r\nM 52.203125 31.203125 \r\nL 52.203125 0 \r\nL 43.21875 0 \r\nL 43.21875 8.296875 \r\nQ 40.140625 3.328125 35.546875 0.953125 \r\nQ 30.953125 -1.421875 24.3125 -1.421875 \r\nQ 15.921875 -1.421875 10.953125 3.296875 \r\nQ 6 8.015625 6 15.921875 \r\nQ 6 25.140625 12.171875 29.828125 \r\nQ 18.359375 34.515625 30.609375 34.515625 \r\nL 43.21875 34.515625 \r\nL 43.21875 35.40625 \r\nQ 43.21875 41.609375 39.140625 45 \r\nQ 35.0625 48.390625 27.6875 48.390625 \r\nQ 23 48.390625 18.546875 47.265625 \r\nQ 14.109375 46.140625 10.015625 43.890625 \r\nL 10.015625 52.203125 \r\nQ 14.9375 54.109375 19.578125 55.046875 \r\nQ 24.21875 56 28.609375 56 \r\nQ 40.484375 56 46.34375 49.84375 \r\nQ 52.203125 43.703125 52.203125 31.203125 \r\nz\r\n\" id=\"DejaVuSans-97\"/>\r\n        <path d=\"M 18.109375 8.203125 \r\nL 18.109375 -20.796875 \r\nL 9.078125 -20.796875 \r\nL 9.078125 54.6875 \r\nL 18.109375 54.6875 \r\nL 18.109375 46.390625 \r\nQ 20.953125 51.265625 25.265625 53.625 \r\nQ 29.59375 56 35.59375 56 \r\nQ 45.5625 56 51.78125 48.09375 \r\nQ 58.015625 40.1875 58.015625 27.296875 \r\nQ 58.015625 14.40625 51.78125 6.484375 \r\nQ 45.5625 -1.421875 35.59375 -1.421875 \r\nQ 29.59375 -1.421875 25.265625 0.953125 \r\nQ 20.953125 3.328125 18.109375 8.203125 \r\nz\r\nM 48.6875 27.296875 \r\nQ 48.6875 37.203125 44.609375 42.84375 \r\nQ 40.53125 48.484375 33.40625 48.484375 \r\nQ 26.265625 48.484375 22.1875 42.84375 \r\nQ 18.109375 37.203125 18.109375 27.296875 \r\nQ 18.109375 17.390625 22.1875 11.75 \r\nQ 26.265625 6.109375 33.40625 6.109375 \r\nQ 40.53125 6.109375 44.609375 11.75 \r\nQ 48.6875 17.390625 48.6875 27.296875 \r\nz\r\n\" id=\"DejaVuSans-112\"/>\r\n        <path d=\"M 39.40625 66.21875 \r\nQ 28.65625 66.21875 22.328125 58.203125 \r\nQ 16.015625 50.203125 16.015625 36.375 \r\nQ 16.015625 22.609375 22.328125 14.59375 \r\nQ 28.65625 6.59375 39.40625 6.59375 \r\nQ 50.140625 6.59375 56.421875 14.59375 \r\nQ 62.703125 22.609375 62.703125 36.375 \r\nQ 62.703125 50.203125 56.421875 58.203125 \r\nQ 50.140625 66.21875 39.40625 66.21875 \r\nz\r\nM 53.21875 1.3125 \r\nL 66.21875 -12.890625 \r\nL 54.296875 -12.890625 \r\nL 43.5 -1.21875 \r\nQ 41.890625 -1.3125 41.03125 -1.359375 \r\nQ 40.1875 -1.421875 39.40625 -1.421875 \r\nQ 24.03125 -1.421875 14.8125 8.859375 \r\nQ 5.609375 19.140625 5.609375 36.375 \r\nQ 5.609375 53.65625 14.8125 63.9375 \r\nQ 24.03125 74.21875 39.40625 74.21875 \r\nQ 54.734375 74.21875 63.90625 63.9375 \r\nQ 73.09375 53.65625 73.09375 36.375 \r\nQ 73.09375 23.6875 67.984375 14.640625 \r\nQ 62.890625 5.609375 53.21875 1.3125 \r\nz\r\n\" id=\"DejaVuSans-81\"/>\r\n        <path d=\"M 8.5 21.578125 \r\nL 8.5 54.6875 \r\nL 17.484375 54.6875 \r\nL 17.484375 21.921875 \r\nQ 17.484375 14.15625 20.5 10.265625 \r\nQ 23.53125 6.390625 29.59375 6.390625 \r\nQ 36.859375 6.390625 41.078125 11.03125 \r\nQ 45.3125 15.671875 45.3125 23.6875 \r\nL 45.3125 54.6875 \r\nL 54.296875 54.6875 \r\nL 54.296875 0 \r\nL 45.3125 0 \r\nL 45.3125 8.40625 \r\nQ 42.046875 3.421875 37.71875 1 \r\nQ 33.40625 -1.421875 27.6875 -1.421875 \r\nQ 18.265625 -1.421875 13.375 4.4375 \r\nQ 8.5 10.296875 8.5 21.578125 \r\nz\r\nM 31.109375 56 \r\nz\r\n\" id=\"DejaVuSans-117\"/>\r\n        <path d=\"M 56.203125 29.59375 \r\nL 56.203125 25.203125 \r\nL 14.890625 25.203125 \r\nQ 15.484375 15.921875 20.484375 11.0625 \r\nQ 25.484375 6.203125 34.421875 6.203125 \r\nQ 39.59375 6.203125 44.453125 7.46875 \r\nQ 49.3125 8.734375 54.109375 11.28125 \r\nL 54.109375 2.78125 \r\nQ 49.265625 0.734375 44.1875 -0.34375 \r\nQ 39.109375 -1.421875 33.890625 -1.421875 \r\nQ 20.796875 -1.421875 13.15625 6.1875 \r\nQ 5.515625 13.8125 5.515625 26.8125 \r\nQ 5.515625 40.234375 12.765625 48.109375 \r\nQ 20.015625 56 32.328125 56 \r\nQ 43.359375 56 49.78125 48.890625 \r\nQ 56.203125 41.796875 56.203125 29.59375 \r\nz\r\nM 47.21875 32.234375 \r\nQ 47.125 39.59375 43.09375 43.984375 \r\nQ 39.0625 48.390625 32.421875 48.390625 \r\nQ 24.90625 48.390625 20.390625 44.140625 \r\nQ 15.875 39.890625 15.1875 32.171875 \r\nz\r\n\" id=\"DejaVuSans-101\"/>\r\n        <path d=\"M 44.28125 53.078125 \r\nL 44.28125 44.578125 \r\nQ 40.484375 46.53125 36.375 47.5 \r\nQ 32.28125 48.484375 27.875 48.484375 \r\nQ 21.1875 48.484375 17.84375 46.4375 \r\nQ 14.5 44.390625 14.5 40.28125 \r\nQ 14.5 37.15625 16.890625 35.375 \r\nQ 19.28125 33.59375 26.515625 31.984375 \r\nL 29.59375 31.296875 \r\nQ 39.15625 29.25 43.1875 25.515625 \r\nQ 47.21875 21.78125 47.21875 15.09375 \r\nQ 47.21875 7.46875 41.1875 3.015625 \r\nQ 35.15625 -1.421875 24.609375 -1.421875 \r\nQ 20.21875 -1.421875 15.453125 -0.5625 \r\nQ 10.6875 0.296875 5.421875 2 \r\nL 5.421875 11.28125 \r\nQ 10.40625 8.6875 15.234375 7.390625 \r\nQ 20.0625 6.109375 24.8125 6.109375 \r\nQ 31.15625 6.109375 34.5625 8.28125 \r\nQ 37.984375 10.453125 37.984375 14.40625 \r\nQ 37.984375 18.0625 35.515625 20.015625 \r\nQ 33.0625 21.96875 24.703125 23.78125 \r\nL 21.578125 24.515625 \r\nQ 13.234375 26.265625 9.515625 29.90625 \r\nQ 5.8125 33.546875 5.8125 39.890625 \r\nQ 5.8125 47.609375 11.28125 51.796875 \r\nQ 16.75 56 26.8125 56 \r\nQ 31.78125 56 36.171875 55.265625 \r\nQ 40.578125 54.546875 44.28125 53.078125 \r\nz\r\n\" id=\"DejaVuSans-115\"/>\r\n        <path d=\"M 18.3125 70.21875 \r\nL 18.3125 54.6875 \r\nL 36.8125 54.6875 \r\nL 36.8125 47.703125 \r\nL 18.3125 47.703125 \r\nL 18.3125 18.015625 \r\nQ 18.3125 11.328125 20.140625 9.421875 \r\nQ 21.96875 7.515625 27.59375 7.515625 \r\nL 36.8125 7.515625 \r\nL 36.8125 0 \r\nL 27.59375 0 \r\nQ 17.1875 0 13.234375 3.875 \r\nQ 9.28125 7.765625 9.28125 18.015625 \r\nL 9.28125 47.703125 \r\nL 2.6875 47.703125 \r\nL 2.6875 54.6875 \r\nL 9.28125 54.6875 \r\nL 9.28125 70.21875 \r\nz\r\n\" id=\"DejaVuSans-116\"/>\r\n       </defs>\r\n       <use xlink:href=\"#DejaVuSans-77\"/>\r\n       <use x=\"86.279297\" xlink:href=\"#DejaVuSans-97\"/>\r\n       <use x=\"147.558594\" xlink:href=\"#DejaVuSans-112\"/>\r\n       <use x=\"211.035156\" xlink:href=\"#DejaVuSans-81\"/>\r\n       <use x=\"289.746094\" xlink:href=\"#DejaVuSans-117\"/>\r\n       <use x=\"353.125\" xlink:href=\"#DejaVuSans-101\"/>\r\n       <use x=\"414.648438\" xlink:href=\"#DejaVuSans-115\"/>\r\n       <use x=\"466.748047\" xlink:href=\"#DejaVuSans-116\"/>\r\n      </g>\r\n     </g>\r\n    </g>\r\n    <g id=\"xtick_3\">\r\n     <g id=\"line2d_3\">\r\n      <g>\r\n       <use style=\"stroke:#000000;stroke-width:0.8;\" x=\"309.103125\" xlink:href=\"#mbbcbfead87\" y=\"239.758125\"/>\r\n      </g>\r\n     </g>\r\n     <g id=\"text_3\">\r\n      <!-- MapQuest-Bing -->\r\n      <g transform=\"translate(311.8625 322.925312)rotate(-90)scale(0.1 -0.1)\">\r\n       <defs>\r\n        <path d=\"M 4.890625 31.390625 \r\nL 31.203125 31.390625 \r\nL 31.203125 23.390625 \r\nL 4.890625 23.390625 \r\nz\r\n\" id=\"DejaVuSans-45\"/>\r\n       </defs>\r\n       <use xlink:href=\"#DejaVuSans-77\"/>\r\n       <use x=\"86.279297\" xlink:href=\"#DejaVuSans-97\"/>\r\n       <use x=\"147.558594\" xlink:href=\"#DejaVuSans-112\"/>\r\n       <use x=\"211.035156\" xlink:href=\"#DejaVuSans-81\"/>\r\n       <use x=\"289.746094\" xlink:href=\"#DejaVuSans-117\"/>\r\n       <use x=\"353.125\" xlink:href=\"#DejaVuSans-101\"/>\r\n       <use x=\"414.648438\" xlink:href=\"#DejaVuSans-115\"/>\r\n       <use x=\"466.748047\" xlink:href=\"#DejaVuSans-116\"/>\r\n       <use x=\"505.957031\" xlink:href=\"#DejaVuSans-45\"/>\r\n       <use x=\"538.416016\" xlink:href=\"#DejaVuSans-66\"/>\r\n       <use x=\"607.019531\" xlink:href=\"#DejaVuSans-105\"/>\r\n       <use x=\"634.802734\" xlink:href=\"#DejaVuSans-110\"/>\r\n       <use x=\"698.181641\" xlink:href=\"#DejaVuSans-103\"/>\r\n      </g>\r\n     </g>\r\n    </g>\r\n    <g id=\"text_4\">\r\n     <!-- Source -->\r\n     <g transform=\"translate(180.332031 334.52375)scale(0.1 -0.1)\">\r\n      <defs>\r\n       <path d=\"M 53.515625 70.515625 \r\nL 53.515625 60.890625 \r\nQ 47.90625 63.578125 42.921875 64.890625 \r\nQ 37.9375 66.21875 33.296875 66.21875 \r\nQ 25.25 66.21875 20.875 63.09375 \r\nQ 16.5 59.96875 16.5 54.203125 \r\nQ 16.5 49.359375 19.40625 46.890625 \r\nQ 22.3125 44.4375 30.421875 42.921875 \r\nL 36.375 41.703125 \r\nQ 47.40625 39.59375 52.65625 34.296875 \r\nQ 57.90625 29 57.90625 20.125 \r\nQ 57.90625 9.515625 50.796875 4.046875 \r\nQ 43.703125 -1.421875 29.984375 -1.421875 \r\nQ 24.8125 -1.421875 18.96875 -0.25 \r\nQ 13.140625 0.921875 6.890625 3.21875 \r\nL 6.890625 13.375 \r\nQ 12.890625 10.015625 18.65625 8.296875 \r\nQ 24.421875 6.59375 29.984375 6.59375 \r\nQ 38.421875 6.59375 43.015625 9.90625 \r\nQ 47.609375 13.234375 47.609375 19.390625 \r\nQ 47.609375 24.75 44.3125 27.78125 \r\nQ 41.015625 30.8125 33.5 32.328125 \r\nL 27.484375 33.5 \r\nQ 16.453125 35.6875 11.515625 40.375 \r\nQ 6.59375 45.0625 6.59375 53.421875 \r\nQ 6.59375 63.09375 13.40625 68.65625 \r\nQ 20.21875 74.21875 32.171875 74.21875 \r\nQ 37.3125 74.21875 42.625 73.28125 \r\nQ 47.953125 72.359375 53.515625 70.515625 \r\nz\r\n\" id=\"DejaVuSans-83\"/>\r\n       <path d=\"M 30.609375 48.390625 \r\nQ 23.390625 48.390625 19.1875 42.75 \r\nQ 14.984375 37.109375 14.984375 27.296875 \r\nQ 14.984375 17.484375 19.15625 11.84375 \r\nQ 23.34375 6.203125 30.609375 6.203125 \r\nQ 37.796875 6.203125 41.984375 11.859375 \r\nQ 46.1875 17.53125 46.1875 27.296875 \r\nQ 46.1875 37.015625 41.984375 42.703125 \r\nQ 37.796875 48.390625 30.609375 48.390625 \r\nz\r\nM 30.609375 56 \r\nQ 42.328125 56 49.015625 48.375 \r\nQ 55.71875 40.765625 55.71875 27.296875 \r\nQ 55.71875 13.875 49.015625 6.21875 \r\nQ 42.328125 -1.421875 30.609375 -1.421875 \r\nQ 18.84375 -1.421875 12.171875 6.21875 \r\nQ 5.515625 13.875 5.515625 27.296875 \r\nQ 5.515625 40.765625 12.171875 48.375 \r\nQ 18.84375 56 30.609375 56 \r\nz\r\n\" id=\"DejaVuSans-111\"/>\r\n       <path d=\"M 41.109375 46.296875 \r\nQ 39.59375 47.171875 37.8125 47.578125 \r\nQ 36.03125 48 33.890625 48 \r\nQ 26.265625 48 22.1875 43.046875 \r\nQ 18.109375 38.09375 18.109375 28.8125 \r\nL 18.109375 0 \r\nL 9.078125 0 \r\nL 9.078125 54.6875 \r\nL 18.109375 54.6875 \r\nL 18.109375 46.1875 \r\nQ 20.953125 51.171875 25.484375 53.578125 \r\nQ 30.03125 56 36.53125 56 \r\nQ 37.453125 56 38.578125 55.875 \r\nQ 39.703125 55.765625 41.0625 55.515625 \r\nz\r\n\" id=\"DejaVuSans-114\"/>\r\n       <path d=\"M 48.78125 52.59375 \r\nL 48.78125 44.1875 \r\nQ 44.96875 46.296875 41.140625 47.34375 \r\nQ 37.3125 48.390625 33.40625 48.390625 \r\nQ 24.65625 48.390625 19.8125 42.84375 \r\nQ 14.984375 37.3125 14.984375 27.296875 \r\nQ 14.984375 17.28125 19.8125 11.734375 \r\nQ 24.65625 6.203125 33.40625 6.203125 \r\nQ 37.3125 6.203125 41.140625 7.25 \r\nQ 44.96875 8.296875 48.78125 10.40625 \r\nL 48.78125 2.09375 \r\nQ 45.015625 0.34375 40.984375 -0.53125 \r\nQ 36.96875 -1.421875 32.421875 -1.421875 \r\nQ 20.0625 -1.421875 12.78125 6.34375 \r\nQ 5.515625 14.109375 5.515625 27.296875 \r\nQ 5.515625 40.671875 12.859375 48.328125 \r\nQ 20.21875 56 33.015625 56 \r\nQ 37.15625 56 41.109375 55.140625 \r\nQ 45.0625 54.296875 48.78125 52.59375 \r\nz\r\n\" id=\"DejaVuSans-99\"/>\r\n      </defs>\r\n      <use xlink:href=\"#DejaVuSans-83\"/>\r\n      <use x=\"63.476562\" xlink:href=\"#DejaVuSans-111\"/>\r\n      <use x=\"124.658203\" xlink:href=\"#DejaVuSans-117\"/>\r\n      <use x=\"188.037109\" xlink:href=\"#DejaVuSans-114\"/>\r\n      <use x=\"226.900391\" xlink:href=\"#DejaVuSans-99\"/>\r\n      <use x=\"281.880859\" xlink:href=\"#DejaVuSans-101\"/>\r\n     </g>\r\n    </g>\r\n   </g>\r\n   <g id=\"matplotlib.axis_2\">\r\n    <g id=\"ytick_1\">\r\n     <g id=\"line2d_4\">\r\n      <defs>\r\n       <path d=\"M 0 0 \r\nL -3.5 0 \r\n\" id=\"m74bb497129\" style=\"stroke:#000000;stroke-width:0.8;\"/>\r\n      </defs>\r\n      <g>\r\n       <use style=\"stroke:#000000;stroke-width:0.8;\" x=\"30.103125\" xlink:href=\"#m74bb497129\" y=\"196.872131\"/>\r\n      </g>\r\n     </g>\r\n     <g id=\"text_5\">\r\n      <!-- 0.5 -->\r\n      <g transform=\"translate(7.2 200.67135)scale(0.1 -0.1)\">\r\n       <defs>\r\n        <path d=\"M 31.78125 66.40625 \r\nQ 24.171875 66.40625 20.328125 58.90625 \r\nQ 16.5 51.421875 16.5 36.375 \r\nQ 16.5 21.390625 20.328125 13.890625 \r\nQ 24.171875 6.390625 31.78125 6.390625 \r\nQ 39.453125 6.390625 43.28125 13.890625 \r\nQ 47.125 21.390625 47.125 36.375 \r\nQ 47.125 51.421875 43.28125 58.90625 \r\nQ 39.453125 66.40625 31.78125 66.40625 \r\nz\r\nM 31.78125 74.21875 \r\nQ 44.046875 74.21875 50.515625 64.515625 \r\nQ 56.984375 54.828125 56.984375 36.375 \r\nQ 56.984375 17.96875 50.515625 8.265625 \r\nQ 44.046875 -1.421875 31.78125 -1.421875 \r\nQ 19.53125 -1.421875 13.0625 8.265625 \r\nQ 6.59375 17.96875 6.59375 36.375 \r\nQ 6.59375 54.828125 13.0625 64.515625 \r\nQ 19.53125 74.21875 31.78125 74.21875 \r\nz\r\n\" id=\"DejaVuSans-48\"/>\r\n        <path d=\"M 10.6875 12.40625 \r\nL 21 12.40625 \r\nL 21 0 \r\nL 10.6875 0 \r\nz\r\n\" id=\"DejaVuSans-46\"/>\r\n        <path d=\"M 10.796875 72.90625 \r\nL 49.515625 72.90625 \r\nL 49.515625 64.59375 \r\nL 19.828125 64.59375 \r\nL 19.828125 46.734375 \r\nQ 21.96875 47.46875 24.109375 47.828125 \r\nQ 26.265625 48.1875 28.421875 48.1875 \r\nQ 40.625 48.1875 47.75 41.5 \r\nQ 54.890625 34.8125 54.890625 23.390625 \r\nQ 54.890625 11.625 47.5625 5.09375 \r\nQ 40.234375 -1.421875 26.90625 -1.421875 \r\nQ 22.3125 -1.421875 17.546875 -0.640625 \r\nQ 12.796875 0.140625 7.71875 1.703125 \r\nL 7.71875 11.625 \r\nQ 12.109375 9.234375 16.796875 8.0625 \r\nQ 21.484375 6.890625 26.703125 6.890625 \r\nQ 35.15625 6.890625 40.078125 11.328125 \r\nQ 45.015625 15.765625 45.015625 23.390625 \r\nQ 45.015625 31 40.078125 35.4375 \r\nQ 35.15625 39.890625 26.703125 39.890625 \r\nQ 22.75 39.890625 18.8125 39.015625 \r\nQ 14.890625 38.140625 10.796875 36.28125 \r\nz\r\n\" id=\"DejaVuSans-53\"/>\r\n       </defs>\r\n       <use xlink:href=\"#DejaVuSans-48\"/>\r\n       <use x=\"63.623047\" xlink:href=\"#DejaVuSans-46\"/>\r\n       <use x=\"95.410156\" xlink:href=\"#DejaVuSans-53\"/>\r\n      </g>\r\n     </g>\r\n    </g>\r\n    <g id=\"ytick_2\">\r\n     <g id=\"line2d_5\">\r\n      <g>\r\n       <use style=\"stroke:#000000;stroke-width:0.8;\" x=\"30.103125\" xlink:href=\"#m74bb497129\" y=\"153.984507\"/>\r\n      </g>\r\n     </g>\r\n     <g id=\"text_6\">\r\n      <!-- 1.0 -->\r\n      <g transform=\"translate(7.2 157.783726)scale(0.1 -0.1)\">\r\n       <defs>\r\n        <path d=\"M 12.40625 8.296875 \r\nL 28.515625 8.296875 \r\nL 28.515625 63.921875 \r\nL 10.984375 60.40625 \r\nL 10.984375 69.390625 \r\nL 28.421875 72.90625 \r\nL 38.28125 72.90625 \r\nL 38.28125 8.296875 \r\nL 54.390625 8.296875 \r\nL 54.390625 0 \r\nL 12.40625 0 \r\nz\r\n\" id=\"DejaVuSans-49\"/>\r\n       </defs>\r\n       <use xlink:href=\"#DejaVuSans-49\"/>\r\n       <use x=\"63.623047\" xlink:href=\"#DejaVuSans-46\"/>\r\n       <use x=\"95.410156\" xlink:href=\"#DejaVuSans-48\"/>\r\n      </g>\r\n     </g>\r\n    </g>\r\n    <g id=\"ytick_3\">\r\n     <g id=\"line2d_6\">\r\n      <g>\r\n       <use style=\"stroke:#000000;stroke-width:0.8;\" x=\"30.103125\" xlink:href=\"#m74bb497129\" y=\"111.096883\"/>\r\n      </g>\r\n     </g>\r\n     <g id=\"text_7\">\r\n      <!-- 1.5 -->\r\n      <g transform=\"translate(7.2 114.896102)scale(0.1 -0.1)\">\r\n       <use xlink:href=\"#DejaVuSans-49\"/>\r\n       <use x=\"63.623047\" xlink:href=\"#DejaVuSans-46\"/>\r\n       <use x=\"95.410156\" xlink:href=\"#DejaVuSans-53\"/>\r\n      </g>\r\n     </g>\r\n    </g>\r\n    <g id=\"ytick_4\">\r\n     <g id=\"line2d_7\">\r\n      <g>\r\n       <use style=\"stroke:#000000;stroke-width:0.8;\" x=\"30.103125\" xlink:href=\"#m74bb497129\" y=\"68.209259\"/>\r\n      </g>\r\n     </g>\r\n     <g id=\"text_8\">\r\n      <!-- 2.0 -->\r\n      <g transform=\"translate(7.2 72.008478)scale(0.1 -0.1)\">\r\n       <defs>\r\n        <path d=\"M 19.1875 8.296875 \r\nL 53.609375 8.296875 \r\nL 53.609375 0 \r\nL 7.328125 0 \r\nL 7.328125 8.296875 \r\nQ 12.9375 14.109375 22.625 23.890625 \r\nQ 32.328125 33.6875 34.8125 36.53125 \r\nQ 39.546875 41.84375 41.421875 45.53125 \r\nQ 43.3125 49.21875 43.3125 52.78125 \r\nQ 43.3125 58.59375 39.234375 62.25 \r\nQ 35.15625 65.921875 28.609375 65.921875 \r\nQ 23.96875 65.921875 18.8125 64.3125 \r\nQ 13.671875 62.703125 7.8125 59.421875 \r\nL 7.8125 69.390625 \r\nQ 13.765625 71.78125 18.9375 73 \r\nQ 24.125 74.21875 28.421875 74.21875 \r\nQ 39.75 74.21875 46.484375 68.546875 \r\nQ 53.21875 62.890625 53.21875 53.421875 \r\nQ 53.21875 48.921875 51.53125 44.890625 \r\nQ 49.859375 40.875 45.40625 35.40625 \r\nQ 44.1875 33.984375 37.640625 27.21875 \r\nQ 31.109375 20.453125 19.1875 8.296875 \r\nz\r\n\" id=\"DejaVuSans-50\"/>\r\n       </defs>\r\n       <use xlink:href=\"#DejaVuSans-50\"/>\r\n       <use x=\"63.623047\" xlink:href=\"#DejaVuSans-46\"/>\r\n       <use x=\"95.410156\" xlink:href=\"#DejaVuSans-48\"/>\r\n      </g>\r\n     </g>\r\n    </g>\r\n    <g id=\"ytick_5\">\r\n     <g id=\"line2d_8\">\r\n      <g>\r\n       <use style=\"stroke:#000000;stroke-width:0.8;\" x=\"30.103125\" xlink:href=\"#m74bb497129\" y=\"25.321635\"/>\r\n      </g>\r\n     </g>\r\n     <g id=\"text_9\">\r\n      <!-- 2.5 -->\r\n      <g transform=\"translate(7.2 29.120854)scale(0.1 -0.1)\">\r\n       <use xlink:href=\"#DejaVuSans-50\"/>\r\n       <use x=\"63.623047\" xlink:href=\"#DejaVuSans-46\"/>\r\n       <use x=\"95.410156\" xlink:href=\"#DejaVuSans-53\"/>\r\n      </g>\r\n     </g>\r\n    </g>\r\n    <g id=\"text_10\">\r\n     <!-- 1e6 -->\r\n     <g transform=\"translate(30.103125 19.318125)scale(0.1 -0.1)\">\r\n      <defs>\r\n       <path d=\"M 33.015625 40.375 \r\nQ 26.375 40.375 22.484375 35.828125 \r\nQ 18.609375 31.296875 18.609375 23.390625 \r\nQ 18.609375 15.53125 22.484375 10.953125 \r\nQ 26.375 6.390625 33.015625 6.390625 \r\nQ 39.65625 6.390625 43.53125 10.953125 \r\nQ 47.40625 15.53125 47.40625 23.390625 \r\nQ 47.40625 31.296875 43.53125 35.828125 \r\nQ 39.65625 40.375 33.015625 40.375 \r\nz\r\nM 52.59375 71.296875 \r\nL 52.59375 62.3125 \r\nQ 48.875 64.0625 45.09375 64.984375 \r\nQ 41.3125 65.921875 37.59375 65.921875 \r\nQ 27.828125 65.921875 22.671875 59.328125 \r\nQ 17.53125 52.734375 16.796875 39.40625 \r\nQ 19.671875 43.65625 24.015625 45.921875 \r\nQ 28.375 48.1875 33.59375 48.1875 \r\nQ 44.578125 48.1875 50.953125 41.515625 \r\nQ 57.328125 34.859375 57.328125 23.390625 \r\nQ 57.328125 12.15625 50.6875 5.359375 \r\nQ 44.046875 -1.421875 33.015625 -1.421875 \r\nQ 20.359375 -1.421875 13.671875 8.265625 \r\nQ 6.984375 17.96875 6.984375 36.375 \r\nQ 6.984375 53.65625 15.1875 63.9375 \r\nQ 23.390625 74.21875 37.203125 74.21875 \r\nQ 40.921875 74.21875 44.703125 73.484375 \r\nQ 48.484375 72.75 52.59375 71.296875 \r\nz\r\n\" id=\"DejaVuSans-54\"/>\r\n      </defs>\r\n      <use xlink:href=\"#DejaVuSans-49\"/>\r\n      <use x=\"63.623047\" xlink:href=\"#DejaVuSans-101\"/>\r\n      <use x=\"125.146484\" xlink:href=\"#DejaVuSans-54\"/>\r\n     </g>\r\n    </g>\r\n   </g>\r\n   <g id=\"patch_15\">\r\n    <path d=\"M 30.103125 239.758125 \r\nL 30.103125 22.318125 \r\n\" style=\"fill:none;stroke:#000000;stroke-linecap:square;stroke-linejoin:miter;stroke-width:0.8;\"/>\r\n   </g>\r\n   <g id=\"patch_16\">\r\n    <path d=\"M 364.903125 239.758125 \r\nL 364.903125 22.318125 \r\n\" style=\"fill:none;stroke:#000000;stroke-linecap:square;stroke-linejoin:miter;stroke-width:0.8;\"/>\r\n   </g>\r\n   <g id=\"patch_17\">\r\n    <path d=\"M 30.103125 239.758125 \r\nL 364.903125 239.758125 \r\n\" style=\"fill:none;stroke:#000000;stroke-linecap:square;stroke-linejoin:miter;stroke-width:0.8;\"/>\r\n   </g>\r\n   <g id=\"patch_18\">\r\n    <path d=\"M 30.103125 22.318125 \r\nL 364.903125 22.318125 \r\n\" style=\"fill:none;stroke:#000000;stroke-linecap:square;stroke-linejoin:miter;stroke-width:0.8;\"/>\r\n   </g>\r\n   <g id=\"text_11\">\r\n    <!-- Severity Counts for Source -->\r\n    <g transform=\"translate(117.2025 16.318125)scale(0.12 -0.12)\">\r\n     <defs>\r\n      <path d=\"M 2.984375 54.6875 \r\nL 12.5 54.6875 \r\nL 29.59375 8.796875 \r\nL 46.6875 54.6875 \r\nL 56.203125 54.6875 \r\nL 35.6875 0 \r\nL 23.484375 0 \r\nz\r\n\" id=\"DejaVuSans-118\"/>\r\n      <path d=\"M 32.171875 -5.078125 \r\nQ 28.375 -14.84375 24.75 -17.8125 \r\nQ 21.140625 -20.796875 15.09375 -20.796875 \r\nL 7.90625 -20.796875 \r\nL 7.90625 -13.28125 \r\nL 13.1875 -13.28125 \r\nQ 16.890625 -13.28125 18.9375 -11.515625 \r\nQ 21 -9.765625 23.484375 -3.21875 \r\nL 25.09375 0.875 \r\nL 2.984375 54.6875 \r\nL 12.5 54.6875 \r\nL 29.59375 11.921875 \r\nL 46.6875 54.6875 \r\nL 56.203125 54.6875 \r\nz\r\n\" id=\"DejaVuSans-121\"/>\r\n      <path id=\"DejaVuSans-32\"/>\r\n      <path d=\"M 64.40625 67.28125 \r\nL 64.40625 56.890625 \r\nQ 59.421875 61.53125 53.78125 63.8125 \r\nQ 48.140625 66.109375 41.796875 66.109375 \r\nQ 29.296875 66.109375 22.65625 58.46875 \r\nQ 16.015625 50.828125 16.015625 36.375 \r\nQ 16.015625 21.96875 22.65625 14.328125 \r\nQ 29.296875 6.6875 41.796875 6.6875 \r\nQ 48.140625 6.6875 53.78125 8.984375 \r\nQ 59.421875 11.28125 64.40625 15.921875 \r\nL 64.40625 5.609375 \r\nQ 59.234375 2.09375 53.4375 0.328125 \r\nQ 47.65625 -1.421875 41.21875 -1.421875 \r\nQ 24.65625 -1.421875 15.125 8.703125 \r\nQ 5.609375 18.84375 5.609375 36.375 \r\nQ 5.609375 53.953125 15.125 64.078125 \r\nQ 24.65625 74.21875 41.21875 74.21875 \r\nQ 47.75 74.21875 53.53125 72.484375 \r\nQ 59.328125 70.75 64.40625 67.28125 \r\nz\r\n\" id=\"DejaVuSans-67\"/>\r\n      <path d=\"M 37.109375 75.984375 \r\nL 37.109375 68.5 \r\nL 28.515625 68.5 \r\nQ 23.6875 68.5 21.796875 66.546875 \r\nQ 19.921875 64.59375 19.921875 59.515625 \r\nL 19.921875 54.6875 \r\nL 34.71875 54.6875 \r\nL 34.71875 47.703125 \r\nL 19.921875 47.703125 \r\nL 19.921875 0 \r\nL 10.890625 0 \r\nL 10.890625 47.703125 \r\nL 2.296875 47.703125 \r\nL 2.296875 54.6875 \r\nL 10.890625 54.6875 \r\nL 10.890625 58.5 \r\nQ 10.890625 67.625 15.140625 71.796875 \r\nQ 19.390625 75.984375 28.609375 75.984375 \r\nz\r\n\" id=\"DejaVuSans-102\"/>\r\n     </defs>\r\n     <use xlink:href=\"#DejaVuSans-83\"/>\r\n     <use x=\"63.476562\" xlink:href=\"#DejaVuSans-101\"/>\r\n     <use x=\"125\" xlink:href=\"#DejaVuSans-118\"/>\r\n     <use x=\"184.179688\" xlink:href=\"#DejaVuSans-101\"/>\r\n     <use x=\"245.703125\" xlink:href=\"#DejaVuSans-114\"/>\r\n     <use x=\"286.816406\" xlink:href=\"#DejaVuSans-105\"/>\r\n     <use x=\"314.599609\" xlink:href=\"#DejaVuSans-116\"/>\r\n     <use x=\"353.808594\" xlink:href=\"#DejaVuSans-121\"/>\r\n     <use x=\"412.988281\" xlink:href=\"#DejaVuSans-32\"/>\r\n     <use x=\"444.775391\" xlink:href=\"#DejaVuSans-67\"/>\r\n     <use x=\"514.599609\" xlink:href=\"#DejaVuSans-111\"/>\r\n     <use x=\"575.78125\" xlink:href=\"#DejaVuSans-117\"/>\r\n     <use x=\"639.160156\" xlink:href=\"#DejaVuSans-110\"/>\r\n     <use x=\"702.539062\" xlink:href=\"#DejaVuSans-116\"/>\r\n     <use x=\"741.748047\" xlink:href=\"#DejaVuSans-115\"/>\r\n     <use x=\"793.847656\" xlink:href=\"#DejaVuSans-32\"/>\r\n     <use x=\"825.634766\" xlink:href=\"#DejaVuSans-102\"/>\r\n     <use x=\"860.839844\" xlink:href=\"#DejaVuSans-111\"/>\r\n     <use x=\"922.021484\" xlink:href=\"#DejaVuSans-114\"/>\r\n     <use x=\"963.134766\" xlink:href=\"#DejaVuSans-32\"/>\r\n     <use x=\"994.921875\" xlink:href=\"#DejaVuSans-83\"/>\r\n     <use x=\"1058.398438\" xlink:href=\"#DejaVuSans-111\"/>\r\n     <use x=\"1119.580078\" xlink:href=\"#DejaVuSans-117\"/>\r\n     <use x=\"1182.958984\" xlink:href=\"#DejaVuSans-114\"/>\r\n     <use x=\"1221.822266\" xlink:href=\"#DejaVuSans-99\"/>\r\n     <use x=\"1276.802734\" xlink:href=\"#DejaVuSans-101\"/>\r\n    </g>\r\n   </g>\r\n   <g id=\"legend_1\">\r\n    <g id=\"patch_19\">\r\n     <path d=\"M 312.601563 103.70875 \r\nL 357.903125 103.70875 \r\nQ 359.903125 103.70875 359.903125 101.70875 \r\nL 359.903125 29.318125 \r\nQ 359.903125 27.318125 357.903125 27.318125 \r\nL 312.601563 27.318125 \r\nQ 310.601563 27.318125 310.601563 29.318125 \r\nL 310.601563 101.70875 \r\nQ 310.601563 103.70875 312.601563 103.70875 \r\nz\r\n\" style=\"fill:#ffffff;opacity:0.8;stroke:#cccccc;stroke-linejoin:miter;\"/>\r\n    </g>\r\n    <g id=\"text_12\">\r\n     <!-- Severity -->\r\n     <g transform=\"translate(314.601563 38.916562)scale(0.1 -0.1)\">\r\n      <use xlink:href=\"#DejaVuSans-83\"/>\r\n      <use x=\"63.476562\" xlink:href=\"#DejaVuSans-101\"/>\r\n      <use x=\"125\" xlink:href=\"#DejaVuSans-118\"/>\r\n      <use x=\"184.179688\" xlink:href=\"#DejaVuSans-101\"/>\r\n      <use x=\"245.703125\" xlink:href=\"#DejaVuSans-114\"/>\r\n      <use x=\"286.816406\" xlink:href=\"#DejaVuSans-105\"/>\r\n      <use x=\"314.599609\" xlink:href=\"#DejaVuSans-116\"/>\r\n      <use x=\"353.808594\" xlink:href=\"#DejaVuSans-121\"/>\r\n     </g>\r\n    </g>\r\n    <g id=\"patch_20\">\r\n     <path d=\"M 318.071094 53.594688 \r\nL 338.071094 53.594688 \r\nL 338.071094 46.594688 \r\nL 318.071094 46.594688 \r\nz\r\n\" style=\"fill:#1f77b4;\"/>\r\n    </g>\r\n    <g id=\"text_13\">\r\n     <!-- 1 -->\r\n     <g transform=\"translate(346.071094 53.594688)scale(0.1 -0.1)\">\r\n      <use xlink:href=\"#DejaVuSans-49\"/>\r\n     </g>\r\n    </g>\r\n    <g id=\"patch_21\">\r\n     <path d=\"M 318.071094 68.272813 \r\nL 338.071094 68.272813 \r\nL 338.071094 61.272813 \r\nL 318.071094 61.272813 \r\nz\r\n\" style=\"fill:#ff7f0e;\"/>\r\n    </g>\r\n    <g id=\"text_14\">\r\n     <!-- 2 -->\r\n     <g transform=\"translate(346.071094 68.272813)scale(0.1 -0.1)\">\r\n      <use xlink:href=\"#DejaVuSans-50\"/>\r\n     </g>\r\n    </g>\r\n    <g id=\"patch_22\">\r\n     <path d=\"M 318.071094 82.950938 \r\nL 338.071094 82.950938 \r\nL 338.071094 75.950938 \r\nL 318.071094 75.950938 \r\nz\r\n\" style=\"fill:#2ca02c;\"/>\r\n    </g>\r\n    <g id=\"text_15\">\r\n     <!-- 3 -->\r\n     <g transform=\"translate(346.071094 82.950938)scale(0.1 -0.1)\">\r\n      <defs>\r\n       <path d=\"M 40.578125 39.3125 \r\nQ 47.65625 37.796875 51.625 33 \r\nQ 55.609375 28.21875 55.609375 21.1875 \r\nQ 55.609375 10.40625 48.1875 4.484375 \r\nQ 40.765625 -1.421875 27.09375 -1.421875 \r\nQ 22.515625 -1.421875 17.65625 -0.515625 \r\nQ 12.796875 0.390625 7.625 2.203125 \r\nL 7.625 11.71875 \r\nQ 11.71875 9.328125 16.59375 8.109375 \r\nQ 21.484375 6.890625 26.8125 6.890625 \r\nQ 36.078125 6.890625 40.9375 10.546875 \r\nQ 45.796875 14.203125 45.796875 21.1875 \r\nQ 45.796875 27.640625 41.28125 31.265625 \r\nQ 36.765625 34.90625 28.71875 34.90625 \r\nL 20.21875 34.90625 \r\nL 20.21875 43.015625 \r\nL 29.109375 43.015625 \r\nQ 36.375 43.015625 40.234375 45.921875 \r\nQ 44.09375 48.828125 44.09375 54.296875 \r\nQ 44.09375 59.90625 40.109375 62.90625 \r\nQ 36.140625 65.921875 28.71875 65.921875 \r\nQ 24.65625 65.921875 20.015625 65.03125 \r\nQ 15.375 64.15625 9.8125 62.3125 \r\nL 9.8125 71.09375 \r\nQ 15.4375 72.65625 20.34375 73.4375 \r\nQ 25.25 74.21875 29.59375 74.21875 \r\nQ 40.828125 74.21875 47.359375 69.109375 \r\nQ 53.90625 64.015625 53.90625 55.328125 \r\nQ 53.90625 49.265625 50.4375 45.09375 \r\nQ 46.96875 40.921875 40.578125 39.3125 \r\nz\r\n\" id=\"DejaVuSans-51\"/>\r\n      </defs>\r\n      <use xlink:href=\"#DejaVuSans-51\"/>\r\n     </g>\r\n    </g>\r\n    <g id=\"patch_23\">\r\n     <path d=\"M 318.071094 97.629063 \r\nL 338.071094 97.629063 \r\nL 338.071094 90.629063 \r\nL 318.071094 90.629063 \r\nz\r\n\" style=\"fill:#d62728;\"/>\r\n    </g>\r\n    <g id=\"text_16\">\r\n     <!-- 4 -->\r\n     <g transform=\"translate(346.071094 97.629063)scale(0.1 -0.1)\">\r\n      <defs>\r\n       <path d=\"M 37.796875 64.3125 \r\nL 12.890625 25.390625 \r\nL 37.796875 25.390625 \r\nz\r\nM 35.203125 72.90625 \r\nL 47.609375 72.90625 \r\nL 47.609375 25.390625 \r\nL 58.015625 25.390625 \r\nL 58.015625 17.1875 \r\nL 47.609375 17.1875 \r\nL 47.609375 0 \r\nL 37.796875 0 \r\nL 37.796875 17.1875 \r\nL 4.890625 17.1875 \r\nL 4.890625 26.703125 \r\nz\r\n\" id=\"DejaVuSans-52\"/>\r\n      </defs>\r\n      <use xlink:href=\"#DejaVuSans-52\"/>\r\n     </g>\r\n    </g>\r\n   </g>\r\n  </g>\r\n </g>\r\n <defs>\r\n  <clipPath id=\"pc47927ef7a\">\r\n   <rect height=\"217.44\" width=\"334.8\" x=\"30.103125\" y=\"22.318125\"/>\r\n  </clipPath>\r\n </defs>\r\n</svg>\r\n",
      "image/png": "[encoded data removed]"
     },
     "metadata": {
      "needs_background": "light"
     }
    }
   ],
   "source": [
    "df_source.plot(kind='bar',stacked=True,title='Severity Counts for Source')"
   ]
  },
  {
   "source": [
    "<p> From the stacked bar chart we can see that MapQuest has large dataset followed by Bing and lastly the MapQest-Bing with lowest dataset. Howerever each data source might have categorized based on different severity conditions, lets check the severity cnditions based on different features from our dataset. </p>"
   ],
   "cell_type": "markdown",
   "metadata": {}
  },
  {
   "source": [
    "# Feature Seperation \n",
    "<p> Now we have to identify the features from our data set that would fit for severity condition. Lets first categorize the features based on generalized categories. We should also remove the useless features which doesn't relate to our model.</p>"
   ],
   "cell_type": "markdown",
   "metadata": {}
  },
  {
   "cell_type": "code",
   "execution_count": 32,
   "metadata": {},
   "outputs": [],
   "source": [
    "Traffic = ['ID','Source','TMC','Severity','Start_Time','End_Time','Start_Lat','Start_Lng','End_Lat','End_Lng','Distance(mi)','Description']\n",
    "Address = ['Number','Street','Side','City','County','State','Zipcode','Country','Timezone']\n",
    "Weather = ['Airport_Code','Weather_Timestamp','Temperature(F)','Wind_Chill(F)','Humidity(%)','Pressure(in)','Visibility(mi)','Wind_Direction','Wind_Speed(mph)','Precipitation(in)','Weather_Condition']\n",
    "POI = ['Amenity','Bump','Crossing','Give_Way','Junction','No_Exit','Railway','Roundabout','Station','Stop','Traffic_Calming','Traffic_Signal','Turning_Loop']\n",
    "DayTime = ['Sunrise_Sunset','Civil_Twilight','Nautical_Twilight','Astronomical_Twilight']\n"
   ]
  },
  {
   "source": [
    "For the Traffic category the feature 'ID'(just a unique number),'TMC','Description'(We have POI feature for detailed description) will not provide any information for accident prediction so lets drop these columns"
   ],
   "cell_type": "markdown",
   "metadata": {}
  },
  {
   "cell_type": "code",
   "execution_count": 34,
   "metadata": {},
   "outputs": [],
   "source": [
    "df = df.drop(['ID','TMC','Description'],axis=1)"
   ]
  },
  {
   "cell_type": "code",
   "execution_count": 40,
   "metadata": {},
   "outputs": [],
   "source": [
    "Traffic = list(filter(lambda x: x not in ['ID','TMC','Description'],Traffic))"
   ]
  },
  {
   "source": [
    "df['Country'].value_counts()"
   ],
   "cell_type": "code",
   "metadata": {},
   "execution_count": 42,
   "outputs": [
    {
     "output_type": "execute_result",
     "data": {
      "text/plain": "US    3513617\nName: Country, dtype: int64"
     },
     "metadata": {},
     "execution_count": 42
    }
   ]
  },
  {
   "source": [
    "We can remove the country column as the data is based on single country... And we can also check if there are any single categorical values in columns that can be dropped"
   ],
   "cell_type": "markdown",
   "metadata": {}
  },
  {
   "cell_type": "code",
   "execution_count": 55,
   "metadata": {},
   "outputs": [],
   "source": [
    "df.drop('Country',inplace=True,axis=1)"
   ]
  },
  {
   "source": [
    "### Now we have undersood what the data has and what can be done with each features... Our next step will be cleaning and removing unnessery data and then see the realtion between the severiy and cleaned feature dataset."
   ],
   "cell_type": "markdown",
   "metadata": {}
  },
  {
   "cell_type": "code",
   "execution_count": null,
   "metadata": {},
   "outputs": [],
   "source": []
  }
 ]
}